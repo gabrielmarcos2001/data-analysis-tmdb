{
 "cells": [
  {
   "cell_type": "markdown",
   "metadata": {},
   "source": [
    "\n",
    "# Project: the Movie DB Data Analysis\n",
    "## Table of Contents\n",
    "<ul>\n",
    "<li><a href=\"#intro\">Introduction</a></li>\n",
    "<li><a href=\"#wrangling\">Data Wrangling</a></li>\n",
    "<li><a href=\"#eda\">Exploratory Data Analysis</a></li>\n",
    "<li><a href=\"#conclusions\">Conclusions</a></li>\n",
    "</ul>"
   ]
  },
  {
   "cell_type": "markdown",
   "metadata": {},
   "source": [
    "<a id='intro'></a>\n",
    "## Introduction\n",
    "\n",
    "For this analyses we are going to be using TMDb movies data downloaded from this source: <a href=\"https://www.google.com/url?q=https://d17h27t6h515a5.cloudfront.net/topher/2017/October/59dd1c4c_tmdb-movies/tmdb-movies.csv&sa=D&ust=1520522518919000&usg=AFQjCNFq5i_6NPzZG9mVu4eKKxPmiBHDGg\">tMDB Dataset</a>\n",
    "\n",
    "This data set contains information about 10,000 movies collected from The Movie Database (TMDb), including user ratings and revenue.\n",
    "\n",
    "Certain columns, like ‘cast’ and ‘genres’, contain multiple values separated by pipe (|) characters.\n",
    "There are some odd characters in the ‘cast’ column, we are not cleaning up this column during this analysis.\n",
    "\n",
    "The final two columns ending with “_adj” show the budget and revenue of the associated movie in terms of 2010 dollars, accounting for inflation over time. \n",
    "\n",
    "As a result of this analysis we are looking to answer the following questions:\n",
    "\n",
    "- #### Which genres are most popular from year to year?\n",
    "- #### Which are the top 3 most popular genres overall?\n",
    "- #### For the most popular genre in the first year of information how was the evolution of its popularity?\n",
    "- #### For the most popular genre in the last year of information, how was the evolution of its popularity?\n",
    "- #### How is the distribution of movies making revenue vs loosing money?\n",
    "- #### What kinds of properties are associated with movies that have high revenues?\n"
   ]
  },
  {
   "cell_type": "code",
   "execution_count": 1,
   "metadata": {
    "collapsed": true
   },
   "outputs": [],
   "source": [
    "# Use this cell to set up import statements for all of the packages that you\n",
    "#   plan to use.\n",
    "import pandas as pd\n",
    "import numpy as np\n",
    "import matplotlib.pyplot as plt\n",
    "import seaborn as sns\n",
    "%matplotlib inline"
   ]
  },
  {
   "cell_type": "markdown",
   "metadata": {},
   "source": [
    "<a id='wrangling'></a>\n",
    "## Data Wrangling\n",
    "\n",
    "\n",
    "### General Properties"
   ]
  },
  {
   "cell_type": "code",
   "execution_count": 2,
   "metadata": {},
   "outputs": [
    {
     "data": {
      "text/html": [
       "<div>\n",
       "<style scoped>\n",
       "    .dataframe tbody tr th:only-of-type {\n",
       "        vertical-align: middle;\n",
       "    }\n",
       "\n",
       "    .dataframe tbody tr th {\n",
       "        vertical-align: top;\n",
       "    }\n",
       "\n",
       "    .dataframe thead th {\n",
       "        text-align: right;\n",
       "    }\n",
       "</style>\n",
       "<table border=\"1\" class=\"dataframe\">\n",
       "  <thead>\n",
       "    <tr style=\"text-align: right;\">\n",
       "      <th></th>\n",
       "      <th>id</th>\n",
       "      <th>imdb_id</th>\n",
       "      <th>popularity</th>\n",
       "      <th>budget</th>\n",
       "      <th>revenue</th>\n",
       "      <th>original_title</th>\n",
       "      <th>cast</th>\n",
       "      <th>homepage</th>\n",
       "      <th>director</th>\n",
       "      <th>tagline</th>\n",
       "      <th>...</th>\n",
       "      <th>overview</th>\n",
       "      <th>runtime</th>\n",
       "      <th>genres</th>\n",
       "      <th>production_companies</th>\n",
       "      <th>release_date</th>\n",
       "      <th>vote_count</th>\n",
       "      <th>vote_average</th>\n",
       "      <th>release_year</th>\n",
       "      <th>budget_adj</th>\n",
       "      <th>revenue_adj</th>\n",
       "    </tr>\n",
       "  </thead>\n",
       "  <tbody>\n",
       "    <tr>\n",
       "      <th>0</th>\n",
       "      <td>135397</td>\n",
       "      <td>tt0369610</td>\n",
       "      <td>32.985763</td>\n",
       "      <td>150000000</td>\n",
       "      <td>1513528810</td>\n",
       "      <td>Jurassic World</td>\n",
       "      <td>Chris Pratt|Bryce Dallas Howard|Irrfan Khan|Vi...</td>\n",
       "      <td>http://www.jurassicworld.com/</td>\n",
       "      <td>Colin Trevorrow</td>\n",
       "      <td>The park is open.</td>\n",
       "      <td>...</td>\n",
       "      <td>Twenty-two years after the events of Jurassic ...</td>\n",
       "      <td>124</td>\n",
       "      <td>Action|Adventure|Science Fiction|Thriller</td>\n",
       "      <td>Universal Studios|Amblin Entertainment|Legenda...</td>\n",
       "      <td>6/9/15</td>\n",
       "      <td>5562</td>\n",
       "      <td>6.5</td>\n",
       "      <td>2015</td>\n",
       "      <td>1.379999e+08</td>\n",
       "      <td>1.392446e+09</td>\n",
       "    </tr>\n",
       "    <tr>\n",
       "      <th>1</th>\n",
       "      <td>76341</td>\n",
       "      <td>tt1392190</td>\n",
       "      <td>28.419936</td>\n",
       "      <td>150000000</td>\n",
       "      <td>378436354</td>\n",
       "      <td>Mad Max: Fury Road</td>\n",
       "      <td>Tom Hardy|Charlize Theron|Hugh Keays-Byrne|Nic...</td>\n",
       "      <td>http://www.madmaxmovie.com/</td>\n",
       "      <td>George Miller</td>\n",
       "      <td>What a Lovely Day.</td>\n",
       "      <td>...</td>\n",
       "      <td>An apocalyptic story set in the furthest reach...</td>\n",
       "      <td>120</td>\n",
       "      <td>Action|Adventure|Science Fiction|Thriller</td>\n",
       "      <td>Village Roadshow Pictures|Kennedy Miller Produ...</td>\n",
       "      <td>5/13/15</td>\n",
       "      <td>6185</td>\n",
       "      <td>7.1</td>\n",
       "      <td>2015</td>\n",
       "      <td>1.379999e+08</td>\n",
       "      <td>3.481613e+08</td>\n",
       "    </tr>\n",
       "    <tr>\n",
       "      <th>2</th>\n",
       "      <td>262500</td>\n",
       "      <td>tt2908446</td>\n",
       "      <td>13.112507</td>\n",
       "      <td>110000000</td>\n",
       "      <td>295238201</td>\n",
       "      <td>Insurgent</td>\n",
       "      <td>Shailene Woodley|Theo James|Kate Winslet|Ansel...</td>\n",
       "      <td>http://www.thedivergentseries.movie/#insurgent</td>\n",
       "      <td>Robert Schwentke</td>\n",
       "      <td>One Choice Can Destroy You</td>\n",
       "      <td>...</td>\n",
       "      <td>Beatrice Prior must confront her inner demons ...</td>\n",
       "      <td>119</td>\n",
       "      <td>Adventure|Science Fiction|Thriller</td>\n",
       "      <td>Summit Entertainment|Mandeville Films|Red Wago...</td>\n",
       "      <td>3/18/15</td>\n",
       "      <td>2480</td>\n",
       "      <td>6.3</td>\n",
       "      <td>2015</td>\n",
       "      <td>1.012000e+08</td>\n",
       "      <td>2.716190e+08</td>\n",
       "    </tr>\n",
       "    <tr>\n",
       "      <th>3</th>\n",
       "      <td>140607</td>\n",
       "      <td>tt2488496</td>\n",
       "      <td>11.173104</td>\n",
       "      <td>200000000</td>\n",
       "      <td>2068178225</td>\n",
       "      <td>Star Wars: The Force Awakens</td>\n",
       "      <td>Harrison Ford|Mark Hamill|Carrie Fisher|Adam D...</td>\n",
       "      <td>http://www.starwars.com/films/star-wars-episod...</td>\n",
       "      <td>J.J. Abrams</td>\n",
       "      <td>Every generation has a story.</td>\n",
       "      <td>...</td>\n",
       "      <td>Thirty years after defeating the Galactic Empi...</td>\n",
       "      <td>136</td>\n",
       "      <td>Action|Adventure|Science Fiction|Fantasy</td>\n",
       "      <td>Lucasfilm|Truenorth Productions|Bad Robot</td>\n",
       "      <td>12/15/15</td>\n",
       "      <td>5292</td>\n",
       "      <td>7.5</td>\n",
       "      <td>2015</td>\n",
       "      <td>1.839999e+08</td>\n",
       "      <td>1.902723e+09</td>\n",
       "    </tr>\n",
       "    <tr>\n",
       "      <th>4</th>\n",
       "      <td>168259</td>\n",
       "      <td>tt2820852</td>\n",
       "      <td>9.335014</td>\n",
       "      <td>190000000</td>\n",
       "      <td>1506249360</td>\n",
       "      <td>Furious 7</td>\n",
       "      <td>Vin Diesel|Paul Walker|Jason Statham|Michelle ...</td>\n",
       "      <td>http://www.furious7.com/</td>\n",
       "      <td>James Wan</td>\n",
       "      <td>Vengeance Hits Home</td>\n",
       "      <td>...</td>\n",
       "      <td>Deckard Shaw seeks revenge against Dominic Tor...</td>\n",
       "      <td>137</td>\n",
       "      <td>Action|Crime|Thriller</td>\n",
       "      <td>Universal Pictures|Original Film|Media Rights ...</td>\n",
       "      <td>4/1/15</td>\n",
       "      <td>2947</td>\n",
       "      <td>7.3</td>\n",
       "      <td>2015</td>\n",
       "      <td>1.747999e+08</td>\n",
       "      <td>1.385749e+09</td>\n",
       "    </tr>\n",
       "  </tbody>\n",
       "</table>\n",
       "<p>5 rows × 21 columns</p>\n",
       "</div>"
      ],
      "text/plain": [
       "       id    imdb_id  popularity     budget     revenue  \\\n",
       "0  135397  tt0369610   32.985763  150000000  1513528810   \n",
       "1   76341  tt1392190   28.419936  150000000   378436354   \n",
       "2  262500  tt2908446   13.112507  110000000   295238201   \n",
       "3  140607  tt2488496   11.173104  200000000  2068178225   \n",
       "4  168259  tt2820852    9.335014  190000000  1506249360   \n",
       "\n",
       "                 original_title  \\\n",
       "0                Jurassic World   \n",
       "1            Mad Max: Fury Road   \n",
       "2                     Insurgent   \n",
       "3  Star Wars: The Force Awakens   \n",
       "4                     Furious 7   \n",
       "\n",
       "                                                cast  \\\n",
       "0  Chris Pratt|Bryce Dallas Howard|Irrfan Khan|Vi...   \n",
       "1  Tom Hardy|Charlize Theron|Hugh Keays-Byrne|Nic...   \n",
       "2  Shailene Woodley|Theo James|Kate Winslet|Ansel...   \n",
       "3  Harrison Ford|Mark Hamill|Carrie Fisher|Adam D...   \n",
       "4  Vin Diesel|Paul Walker|Jason Statham|Michelle ...   \n",
       "\n",
       "                                            homepage          director  \\\n",
       "0                      http://www.jurassicworld.com/   Colin Trevorrow   \n",
       "1                        http://www.madmaxmovie.com/     George Miller   \n",
       "2     http://www.thedivergentseries.movie/#insurgent  Robert Schwentke   \n",
       "3  http://www.starwars.com/films/star-wars-episod...       J.J. Abrams   \n",
       "4                           http://www.furious7.com/         James Wan   \n",
       "\n",
       "                         tagline      ...       \\\n",
       "0              The park is open.      ...        \n",
       "1             What a Lovely Day.      ...        \n",
       "2     One Choice Can Destroy You      ...        \n",
       "3  Every generation has a story.      ...        \n",
       "4            Vengeance Hits Home      ...        \n",
       "\n",
       "                                            overview runtime  \\\n",
       "0  Twenty-two years after the events of Jurassic ...     124   \n",
       "1  An apocalyptic story set in the furthest reach...     120   \n",
       "2  Beatrice Prior must confront her inner demons ...     119   \n",
       "3  Thirty years after defeating the Galactic Empi...     136   \n",
       "4  Deckard Shaw seeks revenge against Dominic Tor...     137   \n",
       "\n",
       "                                      genres  \\\n",
       "0  Action|Adventure|Science Fiction|Thriller   \n",
       "1  Action|Adventure|Science Fiction|Thriller   \n",
       "2         Adventure|Science Fiction|Thriller   \n",
       "3   Action|Adventure|Science Fiction|Fantasy   \n",
       "4                      Action|Crime|Thriller   \n",
       "\n",
       "                                production_companies release_date vote_count  \\\n",
       "0  Universal Studios|Amblin Entertainment|Legenda...       6/9/15       5562   \n",
       "1  Village Roadshow Pictures|Kennedy Miller Produ...      5/13/15       6185   \n",
       "2  Summit Entertainment|Mandeville Films|Red Wago...      3/18/15       2480   \n",
       "3          Lucasfilm|Truenorth Productions|Bad Robot     12/15/15       5292   \n",
       "4  Universal Pictures|Original Film|Media Rights ...       4/1/15       2947   \n",
       "\n",
       "   vote_average  release_year    budget_adj   revenue_adj  \n",
       "0           6.5          2015  1.379999e+08  1.392446e+09  \n",
       "1           7.1          2015  1.379999e+08  3.481613e+08  \n",
       "2           6.3          2015  1.012000e+08  2.716190e+08  \n",
       "3           7.5          2015  1.839999e+08  1.902723e+09  \n",
       "4           7.3          2015  1.747999e+08  1.385749e+09  \n",
       "\n",
       "[5 rows x 21 columns]"
      ]
     },
     "execution_count": 2,
     "metadata": {},
     "output_type": "execute_result"
    }
   ],
   "source": [
    "\n",
    "#DataFrame is loaded from the file\n",
    "df = pd.read_csv('tmdb-movies.csv')\n",
    "\n",
    "#Prints the first lines of the dataset to analyse the content\n",
    "df.head()\n"
   ]
  },
  {
   "cell_type": "code",
   "execution_count": 3,
   "metadata": {},
   "outputs": [
    {
     "data": {
      "text/plain": [
       "(10866, 21)"
      ]
     },
     "execution_count": 3,
     "metadata": {},
     "output_type": "execute_result"
    }
   ],
   "source": [
    "#Getting more info about the Dataset - Number of Rows and Columns\n",
    "df.shape"
   ]
  },
  {
   "cell_type": "code",
   "execution_count": 4,
   "metadata": {
    "scrolled": true
   },
   "outputs": [
    {
     "name": "stdout",
     "output_type": "stream",
     "text": [
      "<class 'pandas.core.frame.DataFrame'>\n",
      "RangeIndex: 10866 entries, 0 to 10865\n",
      "Data columns (total 21 columns):\n",
      "id                      10866 non-null int64\n",
      "imdb_id                 10856 non-null object\n",
      "popularity              10866 non-null float64\n",
      "budget                  10866 non-null int64\n",
      "revenue                 10866 non-null int64\n",
      "original_title          10866 non-null object\n",
      "cast                    10790 non-null object\n",
      "homepage                2936 non-null object\n",
      "director                10822 non-null object\n",
      "tagline                 8042 non-null object\n",
      "keywords                9373 non-null object\n",
      "overview                10862 non-null object\n",
      "runtime                 10866 non-null int64\n",
      "genres                  10843 non-null object\n",
      "production_companies    9836 non-null object\n",
      "release_date            10866 non-null object\n",
      "vote_count              10866 non-null int64\n",
      "vote_average            10866 non-null float64\n",
      "release_year            10866 non-null int64\n",
      "budget_adj              10866 non-null float64\n",
      "revenue_adj             10866 non-null float64\n",
      "dtypes: float64(4), int64(6), object(11)\n",
      "memory usage: 1.7+ MB\n"
     ]
    }
   ],
   "source": [
    "# Getting more info about the Dataset - Type and none-null values for each column\n",
    "df.info()"
   ]
  },
  {
   "cell_type": "markdown",
   "metadata": {},
   "source": [
    "## Data Cleaning\n",
    "\n",
    "### Removing unnecessary columns\n",
    "\n",
    "For cleaning up the data, we are going to drop columns we will not be using. In this case we will keep the original_title in case we need to reference the movie for checking if some data is correct later\n"
   ]
  },
  {
   "cell_type": "code",
   "execution_count": 5,
   "metadata": {
    "collapsed": true
   },
   "outputs": [],
   "source": [
    "df.drop(['imdb_id','homepage','tagline','keywords','overview'], axis=1, inplace=True)"
   ]
  },
  {
   "cell_type": "code",
   "execution_count": 6,
   "metadata": {
    "scrolled": true
   },
   "outputs": [
    {
     "name": "stdout",
     "output_type": "stream",
     "text": [
      "<class 'pandas.core.frame.DataFrame'>\n",
      "RangeIndex: 10866 entries, 0 to 10865\n",
      "Data columns (total 16 columns):\n",
      "id                      10866 non-null int64\n",
      "popularity              10866 non-null float64\n",
      "budget                  10866 non-null int64\n",
      "revenue                 10866 non-null int64\n",
      "original_title          10866 non-null object\n",
      "cast                    10790 non-null object\n",
      "director                10822 non-null object\n",
      "runtime                 10866 non-null int64\n",
      "genres                  10843 non-null object\n",
      "production_companies    9836 non-null object\n",
      "release_date            10866 non-null object\n",
      "vote_count              10866 non-null int64\n",
      "vote_average            10866 non-null float64\n",
      "release_year            10866 non-null int64\n",
      "budget_adj              10866 non-null float64\n",
      "revenue_adj             10866 non-null float64\n",
      "dtypes: float64(4), int64(6), object(6)\n",
      "memory usage: 1.3+ MB\n"
     ]
    }
   ],
   "source": [
    "df.info()"
   ]
  },
  {
   "cell_type": "markdown",
   "metadata": {},
   "source": [
    "### Replacing the budget and revenue columns by the adjusted values \n",
    "\n",
    "In regards to the budget and the revenue columns we are going to use the _adj columns to make sure we are comparing values that represent the same amount. \n",
    "We will be dropping the budget and revenue columns and rename the _adj columns for facilitating analysis"
   ]
  },
  {
   "cell_type": "code",
   "execution_count": 7,
   "metadata": {
    "collapsed": true
   },
   "outputs": [],
   "source": [
    "df.drop(['budget','revenue'], axis=1, inplace=True)"
   ]
  },
  {
   "cell_type": "code",
   "execution_count": 8,
   "metadata": {
    "collapsed": true
   },
   "outputs": [],
   "source": [
    "df.rename(index=str, columns={\"budget_adj\": \"budget\", \"revenue_adj\": \"revenue\"}, inplace=True)"
   ]
  },
  {
   "cell_type": "code",
   "execution_count": 9,
   "metadata": {},
   "outputs": [
    {
     "name": "stdout",
     "output_type": "stream",
     "text": [
      "<class 'pandas.core.frame.DataFrame'>\n",
      "Index: 10866 entries, 0 to 10865\n",
      "Data columns (total 14 columns):\n",
      "id                      10866 non-null int64\n",
      "popularity              10866 non-null float64\n",
      "original_title          10866 non-null object\n",
      "cast                    10790 non-null object\n",
      "director                10822 non-null object\n",
      "runtime                 10866 non-null int64\n",
      "genres                  10843 non-null object\n",
      "production_companies    9836 non-null object\n",
      "release_date            10866 non-null object\n",
      "vote_count              10866 non-null int64\n",
      "vote_average            10866 non-null float64\n",
      "release_year            10866 non-null int64\n",
      "budget                  10866 non-null float64\n",
      "revenue                 10866 non-null float64\n",
      "dtypes: float64(4), int64(4), object(6)\n",
      "memory usage: 1.2+ MB\n"
     ]
    }
   ],
   "source": [
    "df.info()"
   ]
  },
  {
   "cell_type": "markdown",
   "metadata": {},
   "source": [
    "### Cleaning up Dataframe from null values\n",
    "\n",
    "We can now check and start analysing null values "
   ]
  },
  {
   "cell_type": "code",
   "execution_count": 10,
   "metadata": {},
   "outputs": [
    {
     "data": {
      "text/plain": [
       "['cast', 'director', 'genres', 'production_companies']"
      ]
     },
     "execution_count": 10,
     "metadata": {},
     "output_type": "execute_result"
    }
   ],
   "source": [
    "df.columns[df.isna().any()].tolist()"
   ]
  },
  {
   "cell_type": "markdown",
   "metadata": {},
   "source": [
    "From the columns that we have left it looks like we are only missing data related to:\n",
    "\n",
    "- cast\n",
    "- director\n",
    "- genres\n",
    "- production_companies\n",
    "\n",
    "From the nature of this data we will not drop the rows or fill the data from this dataframe. Rows will be dropped when analysing each variable in particular. <br>\n",
    "For example when analysing which genres were the most popular we will drop the rows with no genre, but will keep the ones with no director. \n",
    "In the same way when analysing if a specific director is correlated to the revenue value we will drop the rows with no Director but will keep the ones with no genre. "
   ]
  },
  {
   "cell_type": "markdown",
   "metadata": {},
   "source": [
    "### Checking for Duplicates"
   ]
  },
  {
   "cell_type": "code",
   "execution_count": 11,
   "metadata": {},
   "outputs": [
    {
     "data": {
      "text/plain": [
       "1"
      ]
     },
     "execution_count": 11,
     "metadata": {},
     "output_type": "execute_result"
    }
   ],
   "source": [
    "# Check if we have any duplicated Row\n",
    "df.duplicated().sum()"
   ]
  },
  {
   "cell_type": "code",
   "execution_count": 12,
   "metadata": {
    "collapsed": true
   },
   "outputs": [],
   "source": [
    "# Eliminates Duplicated columns from the dataframe\n",
    "df.drop_duplicates(inplace=True)"
   ]
  },
  {
   "cell_type": "code",
   "execution_count": 13,
   "metadata": {},
   "outputs": [
    {
     "data": {
      "text/plain": [
       "0"
      ]
     },
     "execution_count": 13,
     "metadata": {},
     "output_type": "execute_result"
    }
   ],
   "source": [
    "# Validates that we don't have more duplicated rows\n",
    "df.duplicated().sum()"
   ]
  },
  {
   "cell_type": "markdown",
   "metadata": {},
   "source": [
    "### Analysing the Dataframe for inconsitencies or errors in the information\n",
    "\n",
    "After the initial clean up we can continue to analyse the data, we will be reviewing some general values about the different variables"
   ]
  },
  {
   "cell_type": "code",
   "execution_count": 14,
   "metadata": {
    "scrolled": false
   },
   "outputs": [
    {
     "data": {
      "text/html": [
       "<div>\n",
       "<style scoped>\n",
       "    .dataframe tbody tr th:only-of-type {\n",
       "        vertical-align: middle;\n",
       "    }\n",
       "\n",
       "    .dataframe tbody tr th {\n",
       "        vertical-align: top;\n",
       "    }\n",
       "\n",
       "    .dataframe thead th {\n",
       "        text-align: right;\n",
       "    }\n",
       "</style>\n",
       "<table border=\"1\" class=\"dataframe\">\n",
       "  <thead>\n",
       "    <tr style=\"text-align: right;\">\n",
       "      <th></th>\n",
       "      <th>id</th>\n",
       "      <th>popularity</th>\n",
       "      <th>runtime</th>\n",
       "      <th>vote_count</th>\n",
       "      <th>vote_average</th>\n",
       "      <th>release_year</th>\n",
       "      <th>budget</th>\n",
       "      <th>revenue</th>\n",
       "    </tr>\n",
       "  </thead>\n",
       "  <tbody>\n",
       "    <tr>\n",
       "      <th>count</th>\n",
       "      <td>10865.000000</td>\n",
       "      <td>10865.000000</td>\n",
       "      <td>10865.000000</td>\n",
       "      <td>10865.000000</td>\n",
       "      <td>10865.000000</td>\n",
       "      <td>10865.000000</td>\n",
       "      <td>1.086500e+04</td>\n",
       "      <td>1.086500e+04</td>\n",
       "    </tr>\n",
       "    <tr>\n",
       "      <th>mean</th>\n",
       "      <td>66066.374413</td>\n",
       "      <td>0.646446</td>\n",
       "      <td>102.071790</td>\n",
       "      <td>217.399632</td>\n",
       "      <td>5.975012</td>\n",
       "      <td>2001.321859</td>\n",
       "      <td>1.754989e+07</td>\n",
       "      <td>5.136900e+07</td>\n",
       "    </tr>\n",
       "    <tr>\n",
       "      <th>std</th>\n",
       "      <td>92134.091971</td>\n",
       "      <td>1.000231</td>\n",
       "      <td>31.382701</td>\n",
       "      <td>575.644627</td>\n",
       "      <td>0.935138</td>\n",
       "      <td>12.813260</td>\n",
       "      <td>3.430753e+07</td>\n",
       "      <td>1.446383e+08</td>\n",
       "    </tr>\n",
       "    <tr>\n",
       "      <th>min</th>\n",
       "      <td>5.000000</td>\n",
       "      <td>0.000065</td>\n",
       "      <td>0.000000</td>\n",
       "      <td>10.000000</td>\n",
       "      <td>1.500000</td>\n",
       "      <td>1960.000000</td>\n",
       "      <td>0.000000e+00</td>\n",
       "      <td>0.000000e+00</td>\n",
       "    </tr>\n",
       "    <tr>\n",
       "      <th>25%</th>\n",
       "      <td>10596.000000</td>\n",
       "      <td>0.207575</td>\n",
       "      <td>90.000000</td>\n",
       "      <td>17.000000</td>\n",
       "      <td>5.400000</td>\n",
       "      <td>1995.000000</td>\n",
       "      <td>0.000000e+00</td>\n",
       "      <td>0.000000e+00</td>\n",
       "    </tr>\n",
       "    <tr>\n",
       "      <th>50%</th>\n",
       "      <td>20662.000000</td>\n",
       "      <td>0.383831</td>\n",
       "      <td>99.000000</td>\n",
       "      <td>38.000000</td>\n",
       "      <td>6.000000</td>\n",
       "      <td>2006.000000</td>\n",
       "      <td>0.000000e+00</td>\n",
       "      <td>0.000000e+00</td>\n",
       "    </tr>\n",
       "    <tr>\n",
       "      <th>75%</th>\n",
       "      <td>75612.000000</td>\n",
       "      <td>0.713857</td>\n",
       "      <td>111.000000</td>\n",
       "      <td>146.000000</td>\n",
       "      <td>6.600000</td>\n",
       "      <td>2011.000000</td>\n",
       "      <td>2.085325e+07</td>\n",
       "      <td>3.370173e+07</td>\n",
       "    </tr>\n",
       "    <tr>\n",
       "      <th>max</th>\n",
       "      <td>417859.000000</td>\n",
       "      <td>32.985763</td>\n",
       "      <td>900.000000</td>\n",
       "      <td>9767.000000</td>\n",
       "      <td>9.200000</td>\n",
       "      <td>2015.000000</td>\n",
       "      <td>4.250000e+08</td>\n",
       "      <td>2.827124e+09</td>\n",
       "    </tr>\n",
       "  </tbody>\n",
       "</table>\n",
       "</div>"
      ],
      "text/plain": [
       "                  id    popularity       runtime    vote_count  vote_average  \\\n",
       "count   10865.000000  10865.000000  10865.000000  10865.000000  10865.000000   \n",
       "mean    66066.374413      0.646446    102.071790    217.399632      5.975012   \n",
       "std     92134.091971      1.000231     31.382701    575.644627      0.935138   \n",
       "min         5.000000      0.000065      0.000000     10.000000      1.500000   \n",
       "25%     10596.000000      0.207575     90.000000     17.000000      5.400000   \n",
       "50%     20662.000000      0.383831     99.000000     38.000000      6.000000   \n",
       "75%     75612.000000      0.713857    111.000000    146.000000      6.600000   \n",
       "max    417859.000000     32.985763    900.000000   9767.000000      9.200000   \n",
       "\n",
       "       release_year        budget       revenue  \n",
       "count  10865.000000  1.086500e+04  1.086500e+04  \n",
       "mean    2001.321859  1.754989e+07  5.136900e+07  \n",
       "std       12.813260  3.430753e+07  1.446383e+08  \n",
       "min     1960.000000  0.000000e+00  0.000000e+00  \n",
       "25%     1995.000000  0.000000e+00  0.000000e+00  \n",
       "50%     2006.000000  0.000000e+00  0.000000e+00  \n",
       "75%     2011.000000  2.085325e+07  3.370173e+07  \n",
       "max     2015.000000  4.250000e+08  2.827124e+09  "
      ]
     },
     "execution_count": 14,
     "metadata": {},
     "output_type": "execute_result"
    }
   ],
   "source": [
    "df.describe()"
   ]
  },
  {
   "cell_type": "markdown",
   "metadata": {},
   "source": [
    "We can learn something from this result:\n",
    "- <b>id:</b> We need to convert this to string so it doesn't show up in this analysis \n",
    "- <b>popularity:</b> It looks like very few movies have high popularity values in tMDB database, we will view this more easily with an histogram later. \n",
    "- <b>runtime:</b> the mean is 102 minutes, which makes sense. But max and min values look weird. Min=0, Max=900. We might want to check those rows to see if there is anything wrong. \n",
    "- <b>release_year:</b> we can see the first movie in the database was released in 1960 and the last one in 2015\n",
    "- <b>budget:</b> very few movies have a high budget, we can see this more clear with an histogram later. It also looks like the min is 0, we might want to check that.\n",
    "- <b>revenue:</b> very few movies are doing a high revenue, we can see this more clear with a histogram later. It also looks like the min is 0, we might want to check that."
   ]
  },
  {
   "cell_type": "markdown",
   "metadata": {},
   "source": [
    "### Fixing and analysing edge cases in Data\n",
    "\n",
    "#### Id column\n",
    "We can start reviewing the points of information that called our attention, but first lets fix the type of the id column. "
   ]
  },
  {
   "cell_type": "code",
   "execution_count": 15,
   "metadata": {
    "collapsed": true
   },
   "outputs": [],
   "source": [
    "df['id'] = df['id'].astype(str)"
   ]
  },
  {
   "cell_type": "code",
   "execution_count": 16,
   "metadata": {},
   "outputs": [
    {
     "data": {
      "text/plain": [
       "str"
      ]
     },
     "execution_count": 16,
     "metadata": {},
     "output_type": "execute_result"
    }
   ],
   "source": [
    "type(df.id[0])"
   ]
  },
  {
   "cell_type": "markdown",
   "metadata": {},
   "source": [
    "#### Runtime edge-cases\n",
    "Now lets review those movies where the runtime was 0 and 900 minutes to see if there is something wrong about them"
   ]
  },
  {
   "cell_type": "code",
   "execution_count": 17,
   "metadata": {
    "scrolled": true
   },
   "outputs": [
    {
     "data": {
      "text/plain": [
       "31"
      ]
     },
     "execution_count": 17,
     "metadata": {},
     "output_type": "execute_result"
    }
   ],
   "source": [
    "len(df[df['runtime'] == 0])"
   ]
  },
  {
   "cell_type": "code",
   "execution_count": 18,
   "metadata": {},
   "outputs": [
    {
     "data": {
      "text/html": [
       "<div>\n",
       "<style scoped>\n",
       "    .dataframe tbody tr th:only-of-type {\n",
       "        vertical-align: middle;\n",
       "    }\n",
       "\n",
       "    .dataframe tbody tr th {\n",
       "        vertical-align: top;\n",
       "    }\n",
       "\n",
       "    .dataframe thead th {\n",
       "        text-align: right;\n",
       "    }\n",
       "</style>\n",
       "<table border=\"1\" class=\"dataframe\">\n",
       "  <thead>\n",
       "    <tr style=\"text-align: right;\">\n",
       "      <th></th>\n",
       "      <th>id</th>\n",
       "      <th>popularity</th>\n",
       "      <th>original_title</th>\n",
       "      <th>cast</th>\n",
       "      <th>director</th>\n",
       "      <th>runtime</th>\n",
       "      <th>genres</th>\n",
       "      <th>production_companies</th>\n",
       "      <th>release_date</th>\n",
       "      <th>vote_count</th>\n",
       "      <th>vote_average</th>\n",
       "      <th>release_year</th>\n",
       "      <th>budget</th>\n",
       "      <th>revenue</th>\n",
       "    </tr>\n",
       "  </thead>\n",
       "  <tbody>\n",
       "    <tr>\n",
       "      <th>92</th>\n",
       "      <td>370687</td>\n",
       "      <td>1.876037</td>\n",
       "      <td>Mythica: The Necromancer</td>\n",
       "      <td>Melanie Stone|Adam Johnson|Kevin Sorbo|Nicola ...</td>\n",
       "      <td>A. Todd Smith</td>\n",
       "      <td>0</td>\n",
       "      <td>Fantasy|Action|Adventure</td>\n",
       "      <td>Arrowstorm Entertainment|Camera 40 Productions...</td>\n",
       "      <td>12/19/15</td>\n",
       "      <td>11</td>\n",
       "      <td>5.4</td>\n",
       "      <td>2015</td>\n",
       "      <td>0.000000e+00</td>\n",
       "      <td>0.0</td>\n",
       "    </tr>\n",
       "    <tr>\n",
       "      <th>334</th>\n",
       "      <td>361931</td>\n",
       "      <td>0.357654</td>\n",
       "      <td>Ronaldo</td>\n",
       "      <td>Cristiano Ronaldo</td>\n",
       "      <td>Anthony Wonke</td>\n",
       "      <td>0</td>\n",
       "      <td>Documentary</td>\n",
       "      <td>On The Corner Films|We Came, We Saw, We Conque...</td>\n",
       "      <td>11/9/15</td>\n",
       "      <td>80</td>\n",
       "      <td>6.5</td>\n",
       "      <td>2015</td>\n",
       "      <td>0.000000e+00</td>\n",
       "      <td>0.0</td>\n",
       "    </tr>\n",
       "    <tr>\n",
       "      <th>410</th>\n",
       "      <td>339342</td>\n",
       "      <td>0.097514</td>\n",
       "      <td>Anarchy Parlor</td>\n",
       "      <td>Robert LaSardo|Jordan James Smith|Sara Fabel|T...</td>\n",
       "      <td>Kenny Gage|Devon Downs</td>\n",
       "      <td>0</td>\n",
       "      <td>Horror</td>\n",
       "      <td>NaN</td>\n",
       "      <td>1/1/15</td>\n",
       "      <td>15</td>\n",
       "      <td>5.6</td>\n",
       "      <td>2015</td>\n",
       "      <td>0.000000e+00</td>\n",
       "      <td>0.0</td>\n",
       "    </tr>\n",
       "    <tr>\n",
       "      <th>445</th>\n",
       "      <td>353345</td>\n",
       "      <td>0.218528</td>\n",
       "      <td>The Exorcism of Molly Hartley</td>\n",
       "      <td>Sarah Lind|Devon Sawa|Gina Holden|Peter MacNei...</td>\n",
       "      <td>Steven R. Monroe</td>\n",
       "      <td>0</td>\n",
       "      <td>Horror</td>\n",
       "      <td>WT Canada Productions</td>\n",
       "      <td>10/9/15</td>\n",
       "      <td>52</td>\n",
       "      <td>5.0</td>\n",
       "      <td>2015</td>\n",
       "      <td>0.000000e+00</td>\n",
       "      <td>0.0</td>\n",
       "    </tr>\n",
       "    <tr>\n",
       "      <th>486</th>\n",
       "      <td>333653</td>\n",
       "      <td>0.176744</td>\n",
       "      <td>If There Be Thorns</td>\n",
       "      <td>Heather Graham|Jason Lewis|Rachael Carpani|Mas...</td>\n",
       "      <td>Nancy Savoca</td>\n",
       "      <td>0</td>\n",
       "      <td>TV Movie|Drama</td>\n",
       "      <td>A+E Studios|Jane Startz Productions</td>\n",
       "      <td>4/5/15</td>\n",
       "      <td>11</td>\n",
       "      <td>5.4</td>\n",
       "      <td>2015</td>\n",
       "      <td>0.000000e+00</td>\n",
       "      <td>0.0</td>\n",
       "    </tr>\n",
       "    <tr>\n",
       "      <th>595</th>\n",
       "      <td>341051</td>\n",
       "      <td>0.028725</td>\n",
       "      <td>Deep Dark</td>\n",
       "      <td>Sean McGrath|Denise Poirier|Anne Sorce|Tabor H...</td>\n",
       "      <td>Michael Medaglia</td>\n",
       "      <td>0</td>\n",
       "      <td>Horror</td>\n",
       "      <td>NaN</td>\n",
       "      <td>1/1/15</td>\n",
       "      <td>11</td>\n",
       "      <td>4.6</td>\n",
       "      <td>2015</td>\n",
       "      <td>0.000000e+00</td>\n",
       "      <td>0.0</td>\n",
       "    </tr>\n",
       "    <tr>\n",
       "      <th>616</th>\n",
       "      <td>325843</td>\n",
       "      <td>0.026797</td>\n",
       "      <td>The Outfield</td>\n",
       "      <td>Cameron Dallas|Hamilton Nash Grier|Olivia Stuc...</td>\n",
       "      <td>Michael Goldfine</td>\n",
       "      <td>0</td>\n",
       "      <td>Drama|Comedy</td>\n",
       "      <td>NaN</td>\n",
       "      <td>11/10/15</td>\n",
       "      <td>20</td>\n",
       "      <td>6.6</td>\n",
       "      <td>2015</td>\n",
       "      <td>0.000000e+00</td>\n",
       "      <td>0.0</td>\n",
       "    </tr>\n",
       "    <tr>\n",
       "      <th>1241</th>\n",
       "      <td>296370</td>\n",
       "      <td>0.135376</td>\n",
       "      <td>Dance-Off</td>\n",
       "      <td>Kathryn McCormick|Shane Harper|Finola Hughes|C...</td>\n",
       "      <td>NaN</td>\n",
       "      <td>0</td>\n",
       "      <td>Romance|Music|Comedy</td>\n",
       "      <td>NaN</td>\n",
       "      <td>1/1/14</td>\n",
       "      <td>18</td>\n",
       "      <td>5.7</td>\n",
       "      <td>2014</td>\n",
       "      <td>0.000000e+00</td>\n",
       "      <td>0.0</td>\n",
       "    </tr>\n",
       "    <tr>\n",
       "      <th>1289</th>\n",
       "      <td>286372</td>\n",
       "      <td>0.037459</td>\n",
       "      <td>Treehouse</td>\n",
       "      <td>J. Michael Trautmann|Dana Melanie|Daniel Fredr...</td>\n",
       "      <td>Michael G. Bartlett</td>\n",
       "      <td>0</td>\n",
       "      <td>Thriller|Horror|Mystery</td>\n",
       "      <td>Tiberius Film</td>\n",
       "      <td>10/20/14</td>\n",
       "      <td>16</td>\n",
       "      <td>3.4</td>\n",
       "      <td>2014</td>\n",
       "      <td>2.993546e+06</td>\n",
       "      <td>0.0</td>\n",
       "    </tr>\n",
       "    <tr>\n",
       "      <th>1293</th>\n",
       "      <td>286256</td>\n",
       "      <td>0.036904</td>\n",
       "      <td>Tim Maia</td>\n",
       "      <td>Robson Nunes|BabÃº Santana|Alinne Moraes|CauÃ£...</td>\n",
       "      <td>Mauro Lima</td>\n",
       "      <td>0</td>\n",
       "      <td>Documentary|Drama|Music</td>\n",
       "      <td>Globo Filmes</td>\n",
       "      <td>10/30/14</td>\n",
       "      <td>14</td>\n",
       "      <td>6.0</td>\n",
       "      <td>2014</td>\n",
       "      <td>0.000000e+00</td>\n",
       "      <td>0.0</td>\n",
       "    </tr>\n",
       "    <tr>\n",
       "      <th>1849</th>\n",
       "      <td>18247</td>\n",
       "      <td>0.120350</td>\n",
       "      <td>Spectacular!</td>\n",
       "      <td>Nolan Gerard Funk|Jesse Moss|Britt Irvin|Tammi...</td>\n",
       "      <td>Robert Iscove</td>\n",
       "      <td>0</td>\n",
       "      <td>Drama|Music</td>\n",
       "      <td>NaN</td>\n",
       "      <td>2/16/09</td>\n",
       "      <td>13</td>\n",
       "      <td>5.2</td>\n",
       "      <td>2009</td>\n",
       "      <td>0.000000e+00</td>\n",
       "      <td>0.0</td>\n",
       "    </tr>\n",
       "    <tr>\n",
       "      <th>2315</th>\n",
       "      <td>48373</td>\n",
       "      <td>0.171615</td>\n",
       "      <td>Listen to Your Heart</td>\n",
       "      <td>Alexia Rasmussen|Kent Moran|Cybill Shepherd|Sh...</td>\n",
       "      <td>NaN</td>\n",
       "      <td>0</td>\n",
       "      <td>Drama|Music|Romance</td>\n",
       "      <td>NaN</td>\n",
       "      <td>8/14/10</td>\n",
       "      <td>29</td>\n",
       "      <td>7.3</td>\n",
       "      <td>2010</td>\n",
       "      <td>0.000000e+00</td>\n",
       "      <td>0.0</td>\n",
       "    </tr>\n",
       "    <tr>\n",
       "      <th>2370</th>\n",
       "      <td>127717</td>\n",
       "      <td>0.081892</td>\n",
       "      <td>Freshman Father</td>\n",
       "      <td>Britt Irvin|Merrilyn Gann|Barbara Tyson|Anthon...</td>\n",
       "      <td>Michael Scott</td>\n",
       "      <td>0</td>\n",
       "      <td>NaN</td>\n",
       "      <td>NaN</td>\n",
       "      <td>6/5/10</td>\n",
       "      <td>12</td>\n",
       "      <td>5.8</td>\n",
       "      <td>2010</td>\n",
       "      <td>0.000000e+00</td>\n",
       "      <td>0.0</td>\n",
       "    </tr>\n",
       "    <tr>\n",
       "      <th>3329</th>\n",
       "      <td>20414</td>\n",
       "      <td>0.082898</td>\n",
       "      <td>Grande, grosso e Verdone</td>\n",
       "      <td>Carlo Verdone|Claudia Gerini|Eva Riccobono|Vit...</td>\n",
       "      <td>Carlo Verdone</td>\n",
       "      <td>0</td>\n",
       "      <td>Family</td>\n",
       "      <td>Filmauro</td>\n",
       "      <td>3/7/08</td>\n",
       "      <td>35</td>\n",
       "      <td>5.3</td>\n",
       "      <td>2008</td>\n",
       "      <td>0.000000e+00</td>\n",
       "      <td>0.0</td>\n",
       "    </tr>\n",
       "    <tr>\n",
       "      <th>3794</th>\n",
       "      <td>58253</td>\n",
       "      <td>0.183134</td>\n",
       "      <td>Toi, moi, les autres</td>\n",
       "      <td>LeÃ¯la Bekhti|Benjamin Siksou|CÃ©cile Cassel|C...</td>\n",
       "      <td>Audrey Estrougo</td>\n",
       "      <td>0</td>\n",
       "      <td>Music|Romance</td>\n",
       "      <td>NaN</td>\n",
       "      <td>2/22/11</td>\n",
       "      <td>17</td>\n",
       "      <td>5.2</td>\n",
       "      <td>2011</td>\n",
       "      <td>0.000000e+00</td>\n",
       "      <td>0.0</td>\n",
       "    </tr>\n",
       "    <tr>\n",
       "      <th>3857</th>\n",
       "      <td>289097</td>\n",
       "      <td>0.095583</td>\n",
       "      <td>Cell 213</td>\n",
       "      <td>Bruce Greenwood|Eric Balfour|Michael Rooker|De...</td>\n",
       "      <td>Stephen Kay</td>\n",
       "      <td>0</td>\n",
       "      <td>Horror</td>\n",
       "      <td>Access Motion Pictures</td>\n",
       "      <td>6/10/11</td>\n",
       "      <td>13</td>\n",
       "      <td>5.2</td>\n",
       "      <td>2011</td>\n",
       "      <td>0.000000e+00</td>\n",
       "      <td>0.0</td>\n",
       "    </tr>\n",
       "    <tr>\n",
       "      <th>3884</th>\n",
       "      <td>105885</td>\n",
       "      <td>0.045198</td>\n",
       "      <td>eCupid</td>\n",
       "      <td>Houston Rhines|Andy Anderson|John Callahan|Gal...</td>\n",
       "      <td>J.C. Calciano</td>\n",
       "      <td>0</td>\n",
       "      <td>Romance</td>\n",
       "      <td>NaN</td>\n",
       "      <td>6/23/11</td>\n",
       "      <td>12</td>\n",
       "      <td>4.6</td>\n",
       "      <td>2011</td>\n",
       "      <td>0.000000e+00</td>\n",
       "      <td>0.0</td>\n",
       "    </tr>\n",
       "    <tr>\n",
       "      <th>4063</th>\n",
       "      <td>28004</td>\n",
       "      <td>0.371510</td>\n",
       "      <td>Madea's Family Reunion</td>\n",
       "      <td>Tyler Perry|Blair Underwood|Lynn Whitfield|Bor...</td>\n",
       "      <td>Tyler Perry</td>\n",
       "      <td>0</td>\n",
       "      <td>Comedy</td>\n",
       "      <td>NaN</td>\n",
       "      <td>1/25/02</td>\n",
       "      <td>49</td>\n",
       "      <td>5.9</td>\n",
       "      <td>2002</td>\n",
       "      <td>7.273568e+06</td>\n",
       "      <td>0.0</td>\n",
       "    </tr>\n",
       "    <tr>\n",
       "      <th>4138</th>\n",
       "      <td>44266</td>\n",
       "      <td>0.035895</td>\n",
       "      <td>A Time for Dancing</td>\n",
       "      <td>Larisa Oleynik|Shiri Appleby|Peter Coyote|Patr...</td>\n",
       "      <td>Peter Gilbert</td>\n",
       "      <td>0</td>\n",
       "      <td>Drama|Music</td>\n",
       "      <td>NaN</td>\n",
       "      <td>9/6/02</td>\n",
       "      <td>14</td>\n",
       "      <td>7.5</td>\n",
       "      <td>2002</td>\n",
       "      <td>0.000000e+00</td>\n",
       "      <td>0.0</td>\n",
       "    </tr>\n",
       "    <tr>\n",
       "      <th>4829</th>\n",
       "      <td>110490</td>\n",
       "      <td>0.140016</td>\n",
       "      <td>Rags</td>\n",
       "      <td>Keke Palmer|Avan Jogia|Drake Bell|Burkely Duff...</td>\n",
       "      <td>Bille Woodruff</td>\n",
       "      <td>0</td>\n",
       "      <td>TV Movie|Comedy|Drama</td>\n",
       "      <td>NaN</td>\n",
       "      <td>5/28/12</td>\n",
       "      <td>24</td>\n",
       "      <td>5.7</td>\n",
       "      <td>2012</td>\n",
       "      <td>0.000000e+00</td>\n",
       "      <td>0.0</td>\n",
       "    </tr>\n",
       "    <tr>\n",
       "      <th>4944</th>\n",
       "      <td>158150</td>\n",
       "      <td>0.026459</td>\n",
       "      <td>How to Fall in Love</td>\n",
       "      <td>Brooke D'Orsay|Eric Mabius|Jody Thompson|Gina ...</td>\n",
       "      <td>Mark Griffiths</td>\n",
       "      <td>0</td>\n",
       "      <td>Comedy|Romance|TV Movie</td>\n",
       "      <td>Annuit Coeptis Entertainment Inc.|Annuit Coept...</td>\n",
       "      <td>7/21/12</td>\n",
       "      <td>11</td>\n",
       "      <td>4.7</td>\n",
       "      <td>2012</td>\n",
       "      <td>0.000000e+00</td>\n",
       "      <td>0.0</td>\n",
       "    </tr>\n",
       "    <tr>\n",
       "      <th>5216</th>\n",
       "      <td>28003</td>\n",
       "      <td>0.073665</td>\n",
       "      <td>Madea's Class Reunion</td>\n",
       "      <td>Tyler Perry|Chandra Currelley|Cheryl Pepsii Ri...</td>\n",
       "      <td>Tyler Perry</td>\n",
       "      <td>0</td>\n",
       "      <td>Comedy|Music</td>\n",
       "      <td>NaN</td>\n",
       "      <td>6/25/03</td>\n",
       "      <td>12</td>\n",
       "      <td>6.9</td>\n",
       "      <td>2003</td>\n",
       "      <td>0.000000e+00</td>\n",
       "      <td>0.0</td>\n",
       "    </tr>\n",
       "    <tr>\n",
       "      <th>5695</th>\n",
       "      <td>224815</td>\n",
       "      <td>0.417739</td>\n",
       "      <td>Skinwalker Ranch</td>\n",
       "      <td>Steve Berg|Kyle Davis|Erin Cahill|Jon Gries|De...</td>\n",
       "      <td>Devin McGinn</td>\n",
       "      <td>0</td>\n",
       "      <td>Thriller|Horror|Science Fiction</td>\n",
       "      <td>DeepStudios</td>\n",
       "      <td>10/30/13</td>\n",
       "      <td>27</td>\n",
       "      <td>4.3</td>\n",
       "      <td>2013</td>\n",
       "      <td>0.000000e+00</td>\n",
       "      <td>0.0</td>\n",
       "    </tr>\n",
       "    <tr>\n",
       "      <th>5920</th>\n",
       "      <td>248842</td>\n",
       "      <td>0.165765</td>\n",
       "      <td>The Food Guide to Love</td>\n",
       "      <td>Richard Coyle|Leonor Watling|GinÃ©s GarcÃ­a Mi...</td>\n",
       "      <td>Dominic Harari|Teresa Pelegri</td>\n",
       "      <td>0</td>\n",
       "      <td>Romance|Comedy</td>\n",
       "      <td>Haut et Court|Parallel Film Productions|Fox In...</td>\n",
       "      <td>12/18/13</td>\n",
       "      <td>12</td>\n",
       "      <td>5.6</td>\n",
       "      <td>2013</td>\n",
       "      <td>0.000000e+00</td>\n",
       "      <td>0.0</td>\n",
       "    </tr>\n",
       "    <tr>\n",
       "      <th>5938</th>\n",
       "      <td>191562</td>\n",
       "      <td>0.147188</td>\n",
       "      <td>Go Goa Gone</td>\n",
       "      <td>Saif Ali Khan|Anand Tiwari|Vir Das|Pooja Gupta</td>\n",
       "      <td>Krishna D.K.|Raj Nidimoru</td>\n",
       "      <td>0</td>\n",
       "      <td>Comedy|Horror</td>\n",
       "      <td>Eros International</td>\n",
       "      <td>5/10/13</td>\n",
       "      <td>16</td>\n",
       "      <td>5.3</td>\n",
       "      <td>2013</td>\n",
       "      <td>0.000000e+00</td>\n",
       "      <td>0.0</td>\n",
       "    </tr>\n",
       "    <tr>\n",
       "      <th>5992</th>\n",
       "      <td>173847</td>\n",
       "      <td>0.096455</td>\n",
       "      <td>Amiche da morire</td>\n",
       "      <td>Claudia Gerini|Cristiana Capotondi|Sabrina Imp...</td>\n",
       "      <td>Giorgia Farina</td>\n",
       "      <td>0</td>\n",
       "      <td>Romance|Crime|Comedy</td>\n",
       "      <td>NaN</td>\n",
       "      <td>3/7/13</td>\n",
       "      <td>30</td>\n",
       "      <td>5.5</td>\n",
       "      <td>2013</td>\n",
       "      <td>0.000000e+00</td>\n",
       "      <td>0.0</td>\n",
       "    </tr>\n",
       "    <tr>\n",
       "      <th>6040</th>\n",
       "      <td>202604</td>\n",
       "      <td>0.011798</td>\n",
       "      <td>The Vatican Exorcisms</td>\n",
       "      <td>Joe Marino</td>\n",
       "      <td>Joe Marino</td>\n",
       "      <td>0</td>\n",
       "      <td>Horror|Documentary|Mystery</td>\n",
       "      <td>NaN</td>\n",
       "      <td>5/29/13</td>\n",
       "      <td>10</td>\n",
       "      <td>4.7</td>\n",
       "      <td>2013</td>\n",
       "      <td>0.000000e+00</td>\n",
       "      <td>0.0</td>\n",
       "    </tr>\n",
       "    <tr>\n",
       "      <th>6383</th>\n",
       "      <td>26985</td>\n",
       "      <td>0.371630</td>\n",
       "      <td>The 12 Dogs of Christmas</td>\n",
       "      <td>Jordan-Claire Green|Tom Kemp|Susan Wood|Adam H...</td>\n",
       "      <td>Kieth Merrill</td>\n",
       "      <td>0</td>\n",
       "      <td>Drama|Family</td>\n",
       "      <td>NaN</td>\n",
       "      <td>11/1/05</td>\n",
       "      <td>11</td>\n",
       "      <td>4.7</td>\n",
       "      <td>2005</td>\n",
       "      <td>2.233127e+06</td>\n",
       "      <td>0.0</td>\n",
       "    </tr>\n",
       "    <tr>\n",
       "      <th>6552</th>\n",
       "      <td>13739</td>\n",
       "      <td>0.006440</td>\n",
       "      <td>Quatre Ã©toiles</td>\n",
       "      <td>JosÃ© Garcia|Isabelle CarrÃ©|RenÃ©e Le Calm|Fr...</td>\n",
       "      <td>Christian Vincent</td>\n",
       "      <td>0</td>\n",
       "      <td>Comedy</td>\n",
       "      <td>NaN</td>\n",
       "      <td>1/1/05</td>\n",
       "      <td>15</td>\n",
       "      <td>5.9</td>\n",
       "      <td>2005</td>\n",
       "      <td>0.000000e+00</td>\n",
       "      <td>0.0</td>\n",
       "    </tr>\n",
       "    <tr>\n",
       "      <th>6934</th>\n",
       "      <td>13713</td>\n",
       "      <td>0.071872</td>\n",
       "      <td>Jean-Philippe</td>\n",
       "      <td>Fabrice Luchini|Johnny Hallyday|Jackie Berroye...</td>\n",
       "      <td>Laurent Tuel</td>\n",
       "      <td>0</td>\n",
       "      <td>Comedy</td>\n",
       "      <td>FidÃ©litÃ© Productions|StudioCanal|TF1 Films P...</td>\n",
       "      <td>4/5/06</td>\n",
       "      <td>26</td>\n",
       "      <td>5.6</td>\n",
       "      <td>2006</td>\n",
       "      <td>0.000000e+00</td>\n",
       "      <td>0.0</td>\n",
       "    </tr>\n",
       "    <tr>\n",
       "      <th>8874</th>\n",
       "      <td>46406</td>\n",
       "      <td>0.069903</td>\n",
       "      <td>Mission Kashmir</td>\n",
       "      <td>Sanjay Dutt|Hrithik Roshan|Preity Zinta|Jackie...</td>\n",
       "      <td>Vidhu Vinod Chopra</td>\n",
       "      <td>0</td>\n",
       "      <td>Action|Drama|Foreign</td>\n",
       "      <td>NaN</td>\n",
       "      <td>10/27/00</td>\n",
       "      <td>10</td>\n",
       "      <td>5.7</td>\n",
       "      <td>2000</td>\n",
       "      <td>0.000000e+00</td>\n",
       "      <td>0.0</td>\n",
       "    </tr>\n",
       "  </tbody>\n",
       "</table>\n",
       "</div>"
      ],
      "text/plain": [
       "          id  popularity                 original_title  \\\n",
       "92    370687    1.876037       Mythica: The Necromancer   \n",
       "334   361931    0.357654                        Ronaldo   \n",
       "410   339342    0.097514                 Anarchy Parlor   \n",
       "445   353345    0.218528  The Exorcism of Molly Hartley   \n",
       "486   333653    0.176744             If There Be Thorns   \n",
       "595   341051    0.028725                      Deep Dark   \n",
       "616   325843    0.026797                   The Outfield   \n",
       "1241  296370    0.135376                      Dance-Off   \n",
       "1289  286372    0.037459                      Treehouse   \n",
       "1293  286256    0.036904                       Tim Maia   \n",
       "1849   18247    0.120350                   Spectacular!   \n",
       "2315   48373    0.171615           Listen to Your Heart   \n",
       "2370  127717    0.081892                Freshman Father   \n",
       "3329   20414    0.082898       Grande, grosso e Verdone   \n",
       "3794   58253    0.183134           Toi, moi, les autres   \n",
       "3857  289097    0.095583                       Cell 213   \n",
       "3884  105885    0.045198                         eCupid   \n",
       "4063   28004    0.371510         Madea's Family Reunion   \n",
       "4138   44266    0.035895             A Time for Dancing   \n",
       "4829  110490    0.140016                           Rags   \n",
       "4944  158150    0.026459            How to Fall in Love   \n",
       "5216   28003    0.073665          Madea's Class Reunion   \n",
       "5695  224815    0.417739               Skinwalker Ranch   \n",
       "5920  248842    0.165765         The Food Guide to Love   \n",
       "5938  191562    0.147188                    Go Goa Gone   \n",
       "5992  173847    0.096455               Amiche da morire   \n",
       "6040  202604    0.011798          The Vatican Exorcisms   \n",
       "6383   26985    0.371630       The 12 Dogs of Christmas   \n",
       "6552   13739    0.006440                Quatre Ã©toiles   \n",
       "6934   13713    0.071872                  Jean-Philippe   \n",
       "8874   46406    0.069903                Mission Kashmir   \n",
       "\n",
       "                                                   cast  \\\n",
       "92    Melanie Stone|Adam Johnson|Kevin Sorbo|Nicola ...   \n",
       "334                                   Cristiano Ronaldo   \n",
       "410   Robert LaSardo|Jordan James Smith|Sara Fabel|T...   \n",
       "445   Sarah Lind|Devon Sawa|Gina Holden|Peter MacNei...   \n",
       "486   Heather Graham|Jason Lewis|Rachael Carpani|Mas...   \n",
       "595   Sean McGrath|Denise Poirier|Anne Sorce|Tabor H...   \n",
       "616   Cameron Dallas|Hamilton Nash Grier|Olivia Stuc...   \n",
       "1241  Kathryn McCormick|Shane Harper|Finola Hughes|C...   \n",
       "1289  J. Michael Trautmann|Dana Melanie|Daniel Fredr...   \n",
       "1293  Robson Nunes|BabÃº Santana|Alinne Moraes|CauÃ£...   \n",
       "1849  Nolan Gerard Funk|Jesse Moss|Britt Irvin|Tammi...   \n",
       "2315  Alexia Rasmussen|Kent Moran|Cybill Shepherd|Sh...   \n",
       "2370  Britt Irvin|Merrilyn Gann|Barbara Tyson|Anthon...   \n",
       "3329  Carlo Verdone|Claudia Gerini|Eva Riccobono|Vit...   \n",
       "3794  LeÃ¯la Bekhti|Benjamin Siksou|CÃ©cile Cassel|C...   \n",
       "3857  Bruce Greenwood|Eric Balfour|Michael Rooker|De...   \n",
       "3884  Houston Rhines|Andy Anderson|John Callahan|Gal...   \n",
       "4063  Tyler Perry|Blair Underwood|Lynn Whitfield|Bor...   \n",
       "4138  Larisa Oleynik|Shiri Appleby|Peter Coyote|Patr...   \n",
       "4829  Keke Palmer|Avan Jogia|Drake Bell|Burkely Duff...   \n",
       "4944  Brooke D'Orsay|Eric Mabius|Jody Thompson|Gina ...   \n",
       "5216  Tyler Perry|Chandra Currelley|Cheryl Pepsii Ri...   \n",
       "5695  Steve Berg|Kyle Davis|Erin Cahill|Jon Gries|De...   \n",
       "5920  Richard Coyle|Leonor Watling|GinÃ©s GarcÃ­a Mi...   \n",
       "5938     Saif Ali Khan|Anand Tiwari|Vir Das|Pooja Gupta   \n",
       "5992  Claudia Gerini|Cristiana Capotondi|Sabrina Imp...   \n",
       "6040                                         Joe Marino   \n",
       "6383  Jordan-Claire Green|Tom Kemp|Susan Wood|Adam H...   \n",
       "6552  JosÃ© Garcia|Isabelle CarrÃ©|RenÃ©e Le Calm|Fr...   \n",
       "6934  Fabrice Luchini|Johnny Hallyday|Jackie Berroye...   \n",
       "8874  Sanjay Dutt|Hrithik Roshan|Preity Zinta|Jackie...   \n",
       "\n",
       "                           director  runtime                           genres  \\\n",
       "92                    A. Todd Smith        0         Fantasy|Action|Adventure   \n",
       "334                   Anthony Wonke        0                      Documentary   \n",
       "410          Kenny Gage|Devon Downs        0                           Horror   \n",
       "445                Steven R. Monroe        0                           Horror   \n",
       "486                    Nancy Savoca        0                   TV Movie|Drama   \n",
       "595                Michael Medaglia        0                           Horror   \n",
       "616                Michael Goldfine        0                     Drama|Comedy   \n",
       "1241                            NaN        0             Romance|Music|Comedy   \n",
       "1289            Michael G. Bartlett        0          Thriller|Horror|Mystery   \n",
       "1293                     Mauro Lima        0          Documentary|Drama|Music   \n",
       "1849                  Robert Iscove        0                      Drama|Music   \n",
       "2315                            NaN        0              Drama|Music|Romance   \n",
       "2370                  Michael Scott        0                              NaN   \n",
       "3329                  Carlo Verdone        0                           Family   \n",
       "3794                Audrey Estrougo        0                    Music|Romance   \n",
       "3857                    Stephen Kay        0                           Horror   \n",
       "3884                  J.C. Calciano        0                          Romance   \n",
       "4063                    Tyler Perry        0                           Comedy   \n",
       "4138                  Peter Gilbert        0                      Drama|Music   \n",
       "4829                 Bille Woodruff        0            TV Movie|Comedy|Drama   \n",
       "4944                 Mark Griffiths        0          Comedy|Romance|TV Movie   \n",
       "5216                    Tyler Perry        0                     Comedy|Music   \n",
       "5695                   Devin McGinn        0  Thriller|Horror|Science Fiction   \n",
       "5920  Dominic Harari|Teresa Pelegri        0                   Romance|Comedy   \n",
       "5938      Krishna D.K.|Raj Nidimoru        0                    Comedy|Horror   \n",
       "5992                 Giorgia Farina        0             Romance|Crime|Comedy   \n",
       "6040                     Joe Marino        0       Horror|Documentary|Mystery   \n",
       "6383                  Kieth Merrill        0                     Drama|Family   \n",
       "6552              Christian Vincent        0                           Comedy   \n",
       "6934                   Laurent Tuel        0                           Comedy   \n",
       "8874             Vidhu Vinod Chopra        0             Action|Drama|Foreign   \n",
       "\n",
       "                                   production_companies release_date  \\\n",
       "92    Arrowstorm Entertainment|Camera 40 Productions...     12/19/15   \n",
       "334   On The Corner Films|We Came, We Saw, We Conque...      11/9/15   \n",
       "410                                                 NaN       1/1/15   \n",
       "445                               WT Canada Productions      10/9/15   \n",
       "486                 A+E Studios|Jane Startz Productions       4/5/15   \n",
       "595                                                 NaN       1/1/15   \n",
       "616                                                 NaN     11/10/15   \n",
       "1241                                                NaN       1/1/14   \n",
       "1289                                      Tiberius Film     10/20/14   \n",
       "1293                                       Globo Filmes     10/30/14   \n",
       "1849                                                NaN      2/16/09   \n",
       "2315                                                NaN      8/14/10   \n",
       "2370                                                NaN       6/5/10   \n",
       "3329                                           Filmauro       3/7/08   \n",
       "3794                                                NaN      2/22/11   \n",
       "3857                             Access Motion Pictures      6/10/11   \n",
       "3884                                                NaN      6/23/11   \n",
       "4063                                                NaN      1/25/02   \n",
       "4138                                                NaN       9/6/02   \n",
       "4829                                                NaN      5/28/12   \n",
       "4944  Annuit Coeptis Entertainment Inc.|Annuit Coept...      7/21/12   \n",
       "5216                                                NaN      6/25/03   \n",
       "5695                                        DeepStudios     10/30/13   \n",
       "5920  Haut et Court|Parallel Film Productions|Fox In...     12/18/13   \n",
       "5938                                 Eros International      5/10/13   \n",
       "5992                                                NaN       3/7/13   \n",
       "6040                                                NaN      5/29/13   \n",
       "6383                                                NaN      11/1/05   \n",
       "6552                                                NaN       1/1/05   \n",
       "6934  FidÃ©litÃ© Productions|StudioCanal|TF1 Films P...       4/5/06   \n",
       "8874                                                NaN     10/27/00   \n",
       "\n",
       "      vote_count  vote_average  release_year        budget  revenue  \n",
       "92            11           5.4          2015  0.000000e+00      0.0  \n",
       "334           80           6.5          2015  0.000000e+00      0.0  \n",
       "410           15           5.6          2015  0.000000e+00      0.0  \n",
       "445           52           5.0          2015  0.000000e+00      0.0  \n",
       "486           11           5.4          2015  0.000000e+00      0.0  \n",
       "595           11           4.6          2015  0.000000e+00      0.0  \n",
       "616           20           6.6          2015  0.000000e+00      0.0  \n",
       "1241          18           5.7          2014  0.000000e+00      0.0  \n",
       "1289          16           3.4          2014  2.993546e+06      0.0  \n",
       "1293          14           6.0          2014  0.000000e+00      0.0  \n",
       "1849          13           5.2          2009  0.000000e+00      0.0  \n",
       "2315          29           7.3          2010  0.000000e+00      0.0  \n",
       "2370          12           5.8          2010  0.000000e+00      0.0  \n",
       "3329          35           5.3          2008  0.000000e+00      0.0  \n",
       "3794          17           5.2          2011  0.000000e+00      0.0  \n",
       "3857          13           5.2          2011  0.000000e+00      0.0  \n",
       "3884          12           4.6          2011  0.000000e+00      0.0  \n",
       "4063          49           5.9          2002  7.273568e+06      0.0  \n",
       "4138          14           7.5          2002  0.000000e+00      0.0  \n",
       "4829          24           5.7          2012  0.000000e+00      0.0  \n",
       "4944          11           4.7          2012  0.000000e+00      0.0  \n",
       "5216          12           6.9          2003  0.000000e+00      0.0  \n",
       "5695          27           4.3          2013  0.000000e+00      0.0  \n",
       "5920          12           5.6          2013  0.000000e+00      0.0  \n",
       "5938          16           5.3          2013  0.000000e+00      0.0  \n",
       "5992          30           5.5          2013  0.000000e+00      0.0  \n",
       "6040          10           4.7          2013  0.000000e+00      0.0  \n",
       "6383          11           4.7          2005  2.233127e+06      0.0  \n",
       "6552          15           5.9          2005  0.000000e+00      0.0  \n",
       "6934          26           5.6          2006  0.000000e+00      0.0  \n",
       "8874          10           5.7          2000  0.000000e+00      0.0  "
      ]
     },
     "execution_count": 18,
     "metadata": {},
     "output_type": "execute_result"
    }
   ],
   "source": [
    "df[df['runtime'] == 0]"
   ]
  },
  {
   "cell_type": "markdown",
   "metadata": {},
   "source": [
    "We have 31 movies with a value of 0 in runtime. Doing a quick check in google by the movie name we can verify this is incorrect information. We can drop these rows, or assign the mean. In this case we will assign the mean. We can review later if the runtime is a property significant for our analysis"
   ]
  },
  {
   "cell_type": "code",
   "execution_count": 19,
   "metadata": {
    "collapsed": true
   },
   "outputs": [],
   "source": [
    "df['runtime'] = df['runtime'].apply(lambda x: df['runtime'].mean() if x==0 else x)"
   ]
  },
  {
   "cell_type": "code",
   "execution_count": 20,
   "metadata": {},
   "outputs": [
    {
     "data": {
      "text/plain": [
       "0"
      ]
     },
     "execution_count": 20,
     "metadata": {},
     "output_type": "execute_result"
    }
   ],
   "source": [
    "len(df[df['runtime'] == 0])"
   ]
  },
  {
   "cell_type": "markdown",
   "metadata": {},
   "source": [
    "Now lets review the movies with a very high runtime, in this case lets select movies with a runtime higher than 6 hours"
   ]
  },
  {
   "cell_type": "code",
   "execution_count": 21,
   "metadata": {},
   "outputs": [
    {
     "data": {
      "text/plain": [
       "17"
      ]
     },
     "execution_count": 21,
     "metadata": {},
     "output_type": "execute_result"
    }
   ],
   "source": [
    "len(df[df['runtime'] > 360])"
   ]
  },
  {
   "cell_type": "code",
   "execution_count": 22,
   "metadata": {},
   "outputs": [
    {
     "data": {
      "text/html": [
       "<div>\n",
       "<style scoped>\n",
       "    .dataframe tbody tr th:only-of-type {\n",
       "        vertical-align: middle;\n",
       "    }\n",
       "\n",
       "    .dataframe tbody tr th {\n",
       "        vertical-align: top;\n",
       "    }\n",
       "\n",
       "    .dataframe thead th {\n",
       "        text-align: right;\n",
       "    }\n",
       "</style>\n",
       "<table border=\"1\" class=\"dataframe\">\n",
       "  <thead>\n",
       "    <tr style=\"text-align: right;\">\n",
       "      <th></th>\n",
       "      <th>id</th>\n",
       "      <th>popularity</th>\n",
       "      <th>original_title</th>\n",
       "      <th>cast</th>\n",
       "      <th>director</th>\n",
       "      <th>runtime</th>\n",
       "      <th>genres</th>\n",
       "      <th>production_companies</th>\n",
       "      <th>release_date</th>\n",
       "      <th>vote_count</th>\n",
       "      <th>vote_average</th>\n",
       "      <th>release_year</th>\n",
       "      <th>budget</th>\n",
       "      <th>revenue</th>\n",
       "    </tr>\n",
       "  </thead>\n",
       "  <tbody>\n",
       "    <tr>\n",
       "      <th>1865</th>\n",
       "      <td>220903</td>\n",
       "      <td>0.102223</td>\n",
       "      <td>Life</td>\n",
       "      <td>David Attenborough|Oprah Winfrey</td>\n",
       "      <td>Martha Holmes|Simon Blakeney|Stephen Lyle</td>\n",
       "      <td>500.0</td>\n",
       "      <td>Documentary</td>\n",
       "      <td>British Broadcasting Corporation (BBC)</td>\n",
       "      <td>12/14/09</td>\n",
       "      <td>24</td>\n",
       "      <td>7.0</td>\n",
       "      <td>2009</td>\n",
       "      <td>0.000000e+00</td>\n",
       "      <td>0.000000e+00</td>\n",
       "    </tr>\n",
       "    <tr>\n",
       "      <th>2170</th>\n",
       "      <td>367186</td>\n",
       "      <td>0.082894</td>\n",
       "      <td>The Pillars of the Earth</td>\n",
       "      <td>Ian McShane|Matthew Macfadyen|Eddie Redmayne|H...</td>\n",
       "      <td>Sergio Mimica-Gezzan</td>\n",
       "      <td>421.0</td>\n",
       "      <td>Drama|History|Romance</td>\n",
       "      <td>Scott Free Productions|Tandem Communications|T...</td>\n",
       "      <td>7/23/10</td>\n",
       "      <td>22</td>\n",
       "      <td>7.3</td>\n",
       "      <td>2010</td>\n",
       "      <td>0.000000e+00</td>\n",
       "      <td>0.000000e+00</td>\n",
       "    </tr>\n",
       "    <tr>\n",
       "      <th>2214</th>\n",
       "      <td>189197</td>\n",
       "      <td>0.757082</td>\n",
       "      <td>The Pacific</td>\n",
       "      <td>James Badge Dale|Joseph Mazzello|Jon Seda|Asht...</td>\n",
       "      <td>Jeremy Podeswa|Tim Van Patten|David Nutter|Gra...</td>\n",
       "      <td>540.0</td>\n",
       "      <td>War|Drama|Action|Adventure|History</td>\n",
       "      <td>Playtone|HBO|DreamWorks Television</td>\n",
       "      <td>5/16/10</td>\n",
       "      <td>183</td>\n",
       "      <td>7.8</td>\n",
       "      <td>2010</td>\n",
       "      <td>1.200000e+08</td>\n",
       "      <td>0.000000e+00</td>\n",
       "    </tr>\n",
       "    <tr>\n",
       "      <th>2722</th>\n",
       "      <td>331214</td>\n",
       "      <td>0.537593</td>\n",
       "      <td>Band of Brothers</td>\n",
       "      <td>Damian Lewis|Ron Livingston|Frank John Hughes|...</td>\n",
       "      <td>Phil Alden Robinson|Richard Loncraine|Mikael S...</td>\n",
       "      <td>705.0</td>\n",
       "      <td>Action|Drama|War</td>\n",
       "      <td>HBO</td>\n",
       "      <td>9/9/01</td>\n",
       "      <td>313</td>\n",
       "      <td>8.0</td>\n",
       "      <td>2001</td>\n",
       "      <td>0.000000e+00</td>\n",
       "      <td>1.539360e+08</td>\n",
       "    </tr>\n",
       "    <tr>\n",
       "      <th>2843</th>\n",
       "      <td>200813</td>\n",
       "      <td>0.114027</td>\n",
       "      <td>The Blue Planet</td>\n",
       "      <td>David Attenborough</td>\n",
       "      <td>Alastair Fothergill</td>\n",
       "      <td>400.0</td>\n",
       "      <td>Documentary</td>\n",
       "      <td>BBC Films</td>\n",
       "      <td>9/12/01</td>\n",
       "      <td>22</td>\n",
       "      <td>6.9</td>\n",
       "      <td>2001</td>\n",
       "      <td>0.000000e+00</td>\n",
       "      <td>0.000000e+00</td>\n",
       "    </tr>\n",
       "    <tr>\n",
       "      <th>3141</th>\n",
       "      <td>54102</td>\n",
       "      <td>0.336308</td>\n",
       "      <td>Generation Kill</td>\n",
       "      <td>Alexander SkarsgÃ¥rd|James Ransone|Lee Tergese...</td>\n",
       "      <td>Susanna White|Simon Cellan Jones</td>\n",
       "      <td>470.0</td>\n",
       "      <td>Drama|War|History</td>\n",
       "      <td>Company Pictures</td>\n",
       "      <td>7/13/08</td>\n",
       "      <td>28</td>\n",
       "      <td>6.6</td>\n",
       "      <td>2008</td>\n",
       "      <td>0.000000e+00</td>\n",
       "      <td>0.000000e+00</td>\n",
       "    </tr>\n",
       "    <tr>\n",
       "      <th>3356</th>\n",
       "      <td>118309</td>\n",
       "      <td>0.136540</td>\n",
       "      <td>John Adams</td>\n",
       "      <td>Paul Giamatti|Laura Linney|Stephen Dillane|Tom...</td>\n",
       "      <td>Tom Hooper</td>\n",
       "      <td>501.0</td>\n",
       "      <td>History|Drama</td>\n",
       "      <td>NaN</td>\n",
       "      <td>3/16/08</td>\n",
       "      <td>33</td>\n",
       "      <td>6.6</td>\n",
       "      <td>2008</td>\n",
       "      <td>0.000000e+00</td>\n",
       "      <td>0.000000e+00</td>\n",
       "    </tr>\n",
       "    <tr>\n",
       "      <th>3894</th>\n",
       "      <td>125336</td>\n",
       "      <td>0.006925</td>\n",
       "      <td>The Story of Film: An Odyssey</td>\n",
       "      <td>Mark Cousins|Jean-Michel Frodon|Cari Beauchamp...</td>\n",
       "      <td>Mark Cousins</td>\n",
       "      <td>900.0</td>\n",
       "      <td>Documentary</td>\n",
       "      <td>NaN</td>\n",
       "      <td>9/3/11</td>\n",
       "      <td>14</td>\n",
       "      <td>9.2</td>\n",
       "      <td>2011</td>\n",
       "      <td>0.000000e+00</td>\n",
       "      <td>0.000000e+00</td>\n",
       "    </tr>\n",
       "    <tr>\n",
       "      <th>4041</th>\n",
       "      <td>150004</td>\n",
       "      <td>0.469332</td>\n",
       "      <td>Taken</td>\n",
       "      <td>Dakota Fanning|Matt Frewer|Eric Close|Emily Be...</td>\n",
       "      <td>Breck Eisner|FÃ©lix EnrÃ­quez AlcalÃ¡|John Faw...</td>\n",
       "      <td>877.0</td>\n",
       "      <td>Science Fiction</td>\n",
       "      <td>DreamWorks</td>\n",
       "      <td>12/2/02</td>\n",
       "      <td>38</td>\n",
       "      <td>6.8</td>\n",
       "      <td>2002</td>\n",
       "      <td>0.000000e+00</td>\n",
       "      <td>0.000000e+00</td>\n",
       "    </tr>\n",
       "    <tr>\n",
       "      <th>4198</th>\n",
       "      <td>13519</td>\n",
       "      <td>1.180484</td>\n",
       "      <td>The Stand</td>\n",
       "      <td>Gary Sinise|Molly Ringwald|Jamey Sheridan|Ruby...</td>\n",
       "      <td>Mick Garris</td>\n",
       "      <td>366.0</td>\n",
       "      <td>Adventure|Drama|Fantasy|Horror</td>\n",
       "      <td>Laurel Entertainment|Greengrass Productions</td>\n",
       "      <td>1/1/94</td>\n",
       "      <td>63</td>\n",
       "      <td>6.7</td>\n",
       "      <td>1994</td>\n",
       "      <td>4.119112e+07</td>\n",
       "      <td>0.000000e+00</td>\n",
       "    </tr>\n",
       "    <tr>\n",
       "      <th>4788</th>\n",
       "      <td>139777</td>\n",
       "      <td>0.179240</td>\n",
       "      <td>World Without End</td>\n",
       "      <td>Ben Chaplin|Charlotte Riley|Cynthia Nixon|Carl...</td>\n",
       "      <td>Michael Caton-Jones</td>\n",
       "      <td>389.0</td>\n",
       "      <td>Drama|History|Romance</td>\n",
       "      <td>Scott Free Productions|Tandem Communications|G...</td>\n",
       "      <td>1/1/12</td>\n",
       "      <td>10</td>\n",
       "      <td>6.1</td>\n",
       "      <td>2012</td>\n",
       "      <td>0.000000e+00</td>\n",
       "      <td>0.000000e+00</td>\n",
       "    </tr>\n",
       "    <tr>\n",
       "      <th>6008</th>\n",
       "      <td>222724</td>\n",
       "      <td>0.141918</td>\n",
       "      <td>Crystal Lake Memories: The Complete History of...</td>\n",
       "      <td>Corey Feldman</td>\n",
       "      <td>Daniel Farrands</td>\n",
       "      <td>400.0</td>\n",
       "      <td>Documentary</td>\n",
       "      <td>Hutson Ranch Media</td>\n",
       "      <td>9/13/13</td>\n",
       "      <td>10</td>\n",
       "      <td>6.9</td>\n",
       "      <td>2013</td>\n",
       "      <td>0.000000e+00</td>\n",
       "      <td>0.000000e+00</td>\n",
       "    </tr>\n",
       "    <tr>\n",
       "      <th>6176</th>\n",
       "      <td>42044</td>\n",
       "      <td>0.147489</td>\n",
       "      <td>Shoah</td>\n",
       "      <td>Simon Srebnik|Michael Podchlebnik|Motke Zaidl</td>\n",
       "      <td>Claude Lanzmann</td>\n",
       "      <td>566.0</td>\n",
       "      <td>Documentary</td>\n",
       "      <td>British Broadcasting Corporation (BBC)|MinistÃ...</td>\n",
       "      <td>11/1/85</td>\n",
       "      <td>16</td>\n",
       "      <td>8.3</td>\n",
       "      <td>1985</td>\n",
       "      <td>0.000000e+00</td>\n",
       "      <td>0.000000e+00</td>\n",
       "    </tr>\n",
       "    <tr>\n",
       "      <th>6181</th>\n",
       "      <td>18729</td>\n",
       "      <td>0.000065</td>\n",
       "      <td>North and South, Book I</td>\n",
       "      <td>Patrick Swayze|Philip Casnoff|Kirstie Alley|Ge...</td>\n",
       "      <td>NaN</td>\n",
       "      <td>561.0</td>\n",
       "      <td>Drama|History|Western</td>\n",
       "      <td>NaN</td>\n",
       "      <td>11/3/85</td>\n",
       "      <td>17</td>\n",
       "      <td>6.0</td>\n",
       "      <td>1985</td>\n",
       "      <td>0.000000e+00</td>\n",
       "      <td>0.000000e+00</td>\n",
       "    </tr>\n",
       "    <tr>\n",
       "      <th>6894</th>\n",
       "      <td>192040</td>\n",
       "      <td>0.137913</td>\n",
       "      <td>Planet Earth</td>\n",
       "      <td>David Attenborough</td>\n",
       "      <td>Alastair Fothergill</td>\n",
       "      <td>550.0</td>\n",
       "      <td>Documentary</td>\n",
       "      <td>NaN</td>\n",
       "      <td>12/10/06</td>\n",
       "      <td>65</td>\n",
       "      <td>7.6</td>\n",
       "      <td>2006</td>\n",
       "      <td>0.000000e+00</td>\n",
       "      <td>0.000000e+00</td>\n",
       "    </tr>\n",
       "    <tr>\n",
       "      <th>8766</th>\n",
       "      <td>110147</td>\n",
       "      <td>0.385239</td>\n",
       "      <td>The 10th Kingdom</td>\n",
       "      <td>Kimberly Williams-Paisley|Scott Cohen|John Lar...</td>\n",
       "      <td>David Carson|Herbert Wise</td>\n",
       "      <td>417.0</td>\n",
       "      <td>Adventure|Comedy|Family|Fantasy|Mystery</td>\n",
       "      <td>NaN</td>\n",
       "      <td>2/25/00</td>\n",
       "      <td>33</td>\n",
       "      <td>7.3</td>\n",
       "      <td>2000</td>\n",
       "      <td>0.000000e+00</td>\n",
       "      <td>0.000000e+00</td>\n",
       "    </tr>\n",
       "    <tr>\n",
       "      <th>9300</th>\n",
       "      <td>300589</td>\n",
       "      <td>0.123132</td>\n",
       "      <td>Lonesome Dove</td>\n",
       "      <td>Robert Duvall|Tommy Lee Jones|Danny Glover|Dia...</td>\n",
       "      <td>Simon Wincer</td>\n",
       "      <td>372.0</td>\n",
       "      <td>Drama|Western|Adventure</td>\n",
       "      <td>Motown Productions|Qintex Entertainment</td>\n",
       "      <td>2/5/89</td>\n",
       "      <td>16</td>\n",
       "      <td>7.4</td>\n",
       "      <td>1989</td>\n",
       "      <td>0.000000e+00</td>\n",
       "      <td>0.000000e+00</td>\n",
       "    </tr>\n",
       "  </tbody>\n",
       "</table>\n",
       "</div>"
      ],
      "text/plain": [
       "          id  popularity                                     original_title  \\\n",
       "1865  220903    0.102223                                               Life   \n",
       "2170  367186    0.082894                           The Pillars of the Earth   \n",
       "2214  189197    0.757082                                        The Pacific   \n",
       "2722  331214    0.537593                                   Band of Brothers   \n",
       "2843  200813    0.114027                                    The Blue Planet   \n",
       "3141   54102    0.336308                                    Generation Kill   \n",
       "3356  118309    0.136540                                         John Adams   \n",
       "3894  125336    0.006925                      The Story of Film: An Odyssey   \n",
       "4041  150004    0.469332                                              Taken   \n",
       "4198   13519    1.180484                                          The Stand   \n",
       "4788  139777    0.179240                                  World Without End   \n",
       "6008  222724    0.141918  Crystal Lake Memories: The Complete History of...   \n",
       "6176   42044    0.147489                                              Shoah   \n",
       "6181   18729    0.000065                            North and South, Book I   \n",
       "6894  192040    0.137913                                       Planet Earth   \n",
       "8766  110147    0.385239                                   The 10th Kingdom   \n",
       "9300  300589    0.123132                                      Lonesome Dove   \n",
       "\n",
       "                                                   cast  \\\n",
       "1865                   David Attenborough|Oprah Winfrey   \n",
       "2170  Ian McShane|Matthew Macfadyen|Eddie Redmayne|H...   \n",
       "2214  James Badge Dale|Joseph Mazzello|Jon Seda|Asht...   \n",
       "2722  Damian Lewis|Ron Livingston|Frank John Hughes|...   \n",
       "2843                                 David Attenborough   \n",
       "3141  Alexander SkarsgÃ¥rd|James Ransone|Lee Tergese...   \n",
       "3356  Paul Giamatti|Laura Linney|Stephen Dillane|Tom...   \n",
       "3894  Mark Cousins|Jean-Michel Frodon|Cari Beauchamp...   \n",
       "4041  Dakota Fanning|Matt Frewer|Eric Close|Emily Be...   \n",
       "4198  Gary Sinise|Molly Ringwald|Jamey Sheridan|Ruby...   \n",
       "4788  Ben Chaplin|Charlotte Riley|Cynthia Nixon|Carl...   \n",
       "6008                                      Corey Feldman   \n",
       "6176      Simon Srebnik|Michael Podchlebnik|Motke Zaidl   \n",
       "6181  Patrick Swayze|Philip Casnoff|Kirstie Alley|Ge...   \n",
       "6894                                 David Attenborough   \n",
       "8766  Kimberly Williams-Paisley|Scott Cohen|John Lar...   \n",
       "9300  Robert Duvall|Tommy Lee Jones|Danny Glover|Dia...   \n",
       "\n",
       "                                               director  runtime  \\\n",
       "1865          Martha Holmes|Simon Blakeney|Stephen Lyle    500.0   \n",
       "2170                               Sergio Mimica-Gezzan    421.0   \n",
       "2214  Jeremy Podeswa|Tim Van Patten|David Nutter|Gra...    540.0   \n",
       "2722  Phil Alden Robinson|Richard Loncraine|Mikael S...    705.0   \n",
       "2843                                Alastair Fothergill    400.0   \n",
       "3141                   Susanna White|Simon Cellan Jones    470.0   \n",
       "3356                                         Tom Hooper    501.0   \n",
       "3894                                       Mark Cousins    900.0   \n",
       "4041  Breck Eisner|FÃ©lix EnrÃ­quez AlcalÃ¡|John Faw...    877.0   \n",
       "4198                                        Mick Garris    366.0   \n",
       "4788                                Michael Caton-Jones    389.0   \n",
       "6008                                    Daniel Farrands    400.0   \n",
       "6176                                    Claude Lanzmann    566.0   \n",
       "6181                                                NaN    561.0   \n",
       "6894                                Alastair Fothergill    550.0   \n",
       "8766                          David Carson|Herbert Wise    417.0   \n",
       "9300                                       Simon Wincer    372.0   \n",
       "\n",
       "                                       genres  \\\n",
       "1865                              Documentary   \n",
       "2170                    Drama|History|Romance   \n",
       "2214       War|Drama|Action|Adventure|History   \n",
       "2722                         Action|Drama|War   \n",
       "2843                              Documentary   \n",
       "3141                        Drama|War|History   \n",
       "3356                            History|Drama   \n",
       "3894                              Documentary   \n",
       "4041                          Science Fiction   \n",
       "4198           Adventure|Drama|Fantasy|Horror   \n",
       "4788                    Drama|History|Romance   \n",
       "6008                              Documentary   \n",
       "6176                              Documentary   \n",
       "6181                    Drama|History|Western   \n",
       "6894                              Documentary   \n",
       "8766  Adventure|Comedy|Family|Fantasy|Mystery   \n",
       "9300                  Drama|Western|Adventure   \n",
       "\n",
       "                                   production_companies release_date  \\\n",
       "1865             British Broadcasting Corporation (BBC)     12/14/09   \n",
       "2170  Scott Free Productions|Tandem Communications|T...      7/23/10   \n",
       "2214                 Playtone|HBO|DreamWorks Television      5/16/10   \n",
       "2722                                                HBO       9/9/01   \n",
       "2843                                          BBC Films      9/12/01   \n",
       "3141                                   Company Pictures      7/13/08   \n",
       "3356                                                NaN      3/16/08   \n",
       "3894                                                NaN       9/3/11   \n",
       "4041                                         DreamWorks      12/2/02   \n",
       "4198        Laurel Entertainment|Greengrass Productions       1/1/94   \n",
       "4788  Scott Free Productions|Tandem Communications|G...       1/1/12   \n",
       "6008                                 Hutson Ranch Media      9/13/13   \n",
       "6176  British Broadcasting Corporation (BBC)|MinistÃ...      11/1/85   \n",
       "6181                                                NaN      11/3/85   \n",
       "6894                                                NaN     12/10/06   \n",
       "8766                                                NaN      2/25/00   \n",
       "9300            Motown Productions|Qintex Entertainment       2/5/89   \n",
       "\n",
       "      vote_count  vote_average  release_year        budget       revenue  \n",
       "1865          24           7.0          2009  0.000000e+00  0.000000e+00  \n",
       "2170          22           7.3          2010  0.000000e+00  0.000000e+00  \n",
       "2214         183           7.8          2010  1.200000e+08  0.000000e+00  \n",
       "2722         313           8.0          2001  0.000000e+00  1.539360e+08  \n",
       "2843          22           6.9          2001  0.000000e+00  0.000000e+00  \n",
       "3141          28           6.6          2008  0.000000e+00  0.000000e+00  \n",
       "3356          33           6.6          2008  0.000000e+00  0.000000e+00  \n",
       "3894          14           9.2          2011  0.000000e+00  0.000000e+00  \n",
       "4041          38           6.8          2002  0.000000e+00  0.000000e+00  \n",
       "4198          63           6.7          1994  4.119112e+07  0.000000e+00  \n",
       "4788          10           6.1          2012  0.000000e+00  0.000000e+00  \n",
       "6008          10           6.9          2013  0.000000e+00  0.000000e+00  \n",
       "6176          16           8.3          1985  0.000000e+00  0.000000e+00  \n",
       "6181          17           6.0          1985  0.000000e+00  0.000000e+00  \n",
       "6894          65           7.6          2006  0.000000e+00  0.000000e+00  \n",
       "8766          33           7.3          2000  0.000000e+00  0.000000e+00  \n",
       "9300          16           7.4          1989  0.000000e+00  0.000000e+00  "
      ]
     },
     "execution_count": 22,
     "metadata": {},
     "output_type": "execute_result"
    }
   ],
   "source": [
    "df[df['runtime'] > 360]"
   ]
  },
  {
   "cell_type": "markdown",
   "metadata": {},
   "source": [
    "Doing some quick search on the Movie title appearing in this list, it looks like this corresponds to \"Series\" instead of individual movies. Since we don't have any field we can use for filtering Series we will keep these entries around and will be considered as any other movie."
   ]
  },
  {
   "cell_type": "markdown",
   "metadata": {},
   "source": [
    "#### Budget edge cases\n",
    "\n",
    "Lets now review the budget and revenue fields. Since we can see that many many values are close to 0"
   ]
  },
  {
   "cell_type": "code",
   "execution_count": 23,
   "metadata": {},
   "outputs": [
    {
     "data": {
      "text/plain": [
       "5696"
      ]
     },
     "execution_count": 23,
     "metadata": {},
     "output_type": "execute_result"
    }
   ],
   "source": [
    "len(df[df['budget']==0])"
   ]
  },
  {
   "cell_type": "code",
   "execution_count": 24,
   "metadata": {},
   "outputs": [
    {
     "data": {
      "text/plain": [
       "6016"
      ]
     },
     "execution_count": 24,
     "metadata": {},
     "output_type": "execute_result"
    }
   ],
   "source": [
    "len(df[df['revenue']==0.0])"
   ]
  },
  {
   "cell_type": "markdown",
   "metadata": {},
   "source": [
    "We can see we have several movies missing the budget and revenue information. We should be removing this movies when doing further analysis about these variables. Since the first analysis we will be doing is related to the most popular genres by year we will keep this rows for now in our dataframe"
   ]
  },
  {
   "cell_type": "markdown",
   "metadata": {},
   "source": [
    "#### Converting release date into a datetime object\n",
    "Now lets convert the release_date from a string to a datetime object in case we need it in the future and have a cleaner dataset"
   ]
  },
  {
   "cell_type": "code",
   "execution_count": 25,
   "metadata": {
    "scrolled": true
   },
   "outputs": [
    {
     "data": {
      "text/html": [
       "<div>\n",
       "<style scoped>\n",
       "    .dataframe tbody tr th:only-of-type {\n",
       "        vertical-align: middle;\n",
       "    }\n",
       "\n",
       "    .dataframe tbody tr th {\n",
       "        vertical-align: top;\n",
       "    }\n",
       "\n",
       "    .dataframe thead th {\n",
       "        text-align: right;\n",
       "    }\n",
       "</style>\n",
       "<table border=\"1\" class=\"dataframe\">\n",
       "  <thead>\n",
       "    <tr style=\"text-align: right;\">\n",
       "      <th></th>\n",
       "      <th>id</th>\n",
       "      <th>popularity</th>\n",
       "      <th>original_title</th>\n",
       "      <th>cast</th>\n",
       "      <th>director</th>\n",
       "      <th>runtime</th>\n",
       "      <th>genres</th>\n",
       "      <th>production_companies</th>\n",
       "      <th>release_date</th>\n",
       "      <th>vote_count</th>\n",
       "      <th>vote_average</th>\n",
       "      <th>release_year</th>\n",
       "      <th>budget</th>\n",
       "      <th>revenue</th>\n",
       "    </tr>\n",
       "  </thead>\n",
       "  <tbody>\n",
       "    <tr>\n",
       "      <th>0</th>\n",
       "      <td>135397</td>\n",
       "      <td>32.985763</td>\n",
       "      <td>Jurassic World</td>\n",
       "      <td>Chris Pratt|Bryce Dallas Howard|Irrfan Khan|Vi...</td>\n",
       "      <td>Colin Trevorrow</td>\n",
       "      <td>124.0</td>\n",
       "      <td>Action|Adventure|Science Fiction|Thriller</td>\n",
       "      <td>Universal Studios|Amblin Entertainment|Legenda...</td>\n",
       "      <td>2015-06-09</td>\n",
       "      <td>5562</td>\n",
       "      <td>6.5</td>\n",
       "      <td>2015</td>\n",
       "      <td>1.379999e+08</td>\n",
       "      <td>1.392446e+09</td>\n",
       "    </tr>\n",
       "    <tr>\n",
       "      <th>1</th>\n",
       "      <td>76341</td>\n",
       "      <td>28.419936</td>\n",
       "      <td>Mad Max: Fury Road</td>\n",
       "      <td>Tom Hardy|Charlize Theron|Hugh Keays-Byrne|Nic...</td>\n",
       "      <td>George Miller</td>\n",
       "      <td>120.0</td>\n",
       "      <td>Action|Adventure|Science Fiction|Thriller</td>\n",
       "      <td>Village Roadshow Pictures|Kennedy Miller Produ...</td>\n",
       "      <td>2015-05-13</td>\n",
       "      <td>6185</td>\n",
       "      <td>7.1</td>\n",
       "      <td>2015</td>\n",
       "      <td>1.379999e+08</td>\n",
       "      <td>3.481613e+08</td>\n",
       "    </tr>\n",
       "    <tr>\n",
       "      <th>2</th>\n",
       "      <td>262500</td>\n",
       "      <td>13.112507</td>\n",
       "      <td>Insurgent</td>\n",
       "      <td>Shailene Woodley|Theo James|Kate Winslet|Ansel...</td>\n",
       "      <td>Robert Schwentke</td>\n",
       "      <td>119.0</td>\n",
       "      <td>Adventure|Science Fiction|Thriller</td>\n",
       "      <td>Summit Entertainment|Mandeville Films|Red Wago...</td>\n",
       "      <td>2015-03-18</td>\n",
       "      <td>2480</td>\n",
       "      <td>6.3</td>\n",
       "      <td>2015</td>\n",
       "      <td>1.012000e+08</td>\n",
       "      <td>2.716190e+08</td>\n",
       "    </tr>\n",
       "    <tr>\n",
       "      <th>3</th>\n",
       "      <td>140607</td>\n",
       "      <td>11.173104</td>\n",
       "      <td>Star Wars: The Force Awakens</td>\n",
       "      <td>Harrison Ford|Mark Hamill|Carrie Fisher|Adam D...</td>\n",
       "      <td>J.J. Abrams</td>\n",
       "      <td>136.0</td>\n",
       "      <td>Action|Adventure|Science Fiction|Fantasy</td>\n",
       "      <td>Lucasfilm|Truenorth Productions|Bad Robot</td>\n",
       "      <td>2015-12-15</td>\n",
       "      <td>5292</td>\n",
       "      <td>7.5</td>\n",
       "      <td>2015</td>\n",
       "      <td>1.839999e+08</td>\n",
       "      <td>1.902723e+09</td>\n",
       "    </tr>\n",
       "    <tr>\n",
       "      <th>4</th>\n",
       "      <td>168259</td>\n",
       "      <td>9.335014</td>\n",
       "      <td>Furious 7</td>\n",
       "      <td>Vin Diesel|Paul Walker|Jason Statham|Michelle ...</td>\n",
       "      <td>James Wan</td>\n",
       "      <td>137.0</td>\n",
       "      <td>Action|Crime|Thriller</td>\n",
       "      <td>Universal Pictures|Original Film|Media Rights ...</td>\n",
       "      <td>2015-04-01</td>\n",
       "      <td>2947</td>\n",
       "      <td>7.3</td>\n",
       "      <td>2015</td>\n",
       "      <td>1.747999e+08</td>\n",
       "      <td>1.385749e+09</td>\n",
       "    </tr>\n",
       "  </tbody>\n",
       "</table>\n",
       "</div>"
      ],
      "text/plain": [
       "       id  popularity                original_title  \\\n",
       "0  135397   32.985763                Jurassic World   \n",
       "1   76341   28.419936            Mad Max: Fury Road   \n",
       "2  262500   13.112507                     Insurgent   \n",
       "3  140607   11.173104  Star Wars: The Force Awakens   \n",
       "4  168259    9.335014                     Furious 7   \n",
       "\n",
       "                                                cast          director  \\\n",
       "0  Chris Pratt|Bryce Dallas Howard|Irrfan Khan|Vi...   Colin Trevorrow   \n",
       "1  Tom Hardy|Charlize Theron|Hugh Keays-Byrne|Nic...     George Miller   \n",
       "2  Shailene Woodley|Theo James|Kate Winslet|Ansel...  Robert Schwentke   \n",
       "3  Harrison Ford|Mark Hamill|Carrie Fisher|Adam D...       J.J. Abrams   \n",
       "4  Vin Diesel|Paul Walker|Jason Statham|Michelle ...         James Wan   \n",
       "\n",
       "   runtime                                     genres  \\\n",
       "0    124.0  Action|Adventure|Science Fiction|Thriller   \n",
       "1    120.0  Action|Adventure|Science Fiction|Thriller   \n",
       "2    119.0         Adventure|Science Fiction|Thriller   \n",
       "3    136.0   Action|Adventure|Science Fiction|Fantasy   \n",
       "4    137.0                      Action|Crime|Thriller   \n",
       "\n",
       "                                production_companies release_date  vote_count  \\\n",
       "0  Universal Studios|Amblin Entertainment|Legenda...   2015-06-09        5562   \n",
       "1  Village Roadshow Pictures|Kennedy Miller Produ...   2015-05-13        6185   \n",
       "2  Summit Entertainment|Mandeville Films|Red Wago...   2015-03-18        2480   \n",
       "3          Lucasfilm|Truenorth Productions|Bad Robot   2015-12-15        5292   \n",
       "4  Universal Pictures|Original Film|Media Rights ...   2015-04-01        2947   \n",
       "\n",
       "   vote_average  release_year        budget       revenue  \n",
       "0           6.5          2015  1.379999e+08  1.392446e+09  \n",
       "1           7.1          2015  1.379999e+08  3.481613e+08  \n",
       "2           6.3          2015  1.012000e+08  2.716190e+08  \n",
       "3           7.5          2015  1.839999e+08  1.902723e+09  \n",
       "4           7.3          2015  1.747999e+08  1.385749e+09  "
      ]
     },
     "execution_count": 25,
     "metadata": {},
     "output_type": "execute_result"
    }
   ],
   "source": [
    "# Converting relase_date to datetime object\n",
    "df['release_date'] = pd.to_datetime(df['release_date'])\n",
    "df.head()"
   ]
  },
  {
   "cell_type": "code",
   "execution_count": 26,
   "metadata": {
    "scrolled": true
   },
   "outputs": [
    {
     "data": {
      "text/plain": [
       "count                   10865\n",
       "unique                   5909\n",
       "top       2009-01-01 00:00:00\n",
       "freq                       28\n",
       "first     1968-01-01 00:00:00\n",
       "last      2067-12-27 00:00:00\n",
       "Name: release_date, dtype: object"
      ]
     },
     "execution_count": 26,
     "metadata": {},
     "output_type": "execute_result"
    }
   ],
   "source": [
    "df['release_date'].describe()"
   ]
  },
  {
   "cell_type": "markdown",
   "metadata": {},
   "source": [
    "Viewing the data for release_date it looks like the first movie was released in 1968 and the last movie in 2067. This looks wrong, since the year had only 2 digits the function converted movies released in 1967 to 2067. Lets fix that. "
   ]
  },
  {
   "cell_type": "code",
   "execution_count": 27,
   "metadata": {
    "collapsed": true
   },
   "outputs": [],
   "source": [
    "def truncate_year(date):\n",
    "    '''\n",
    "    This function will truncate a datetime object. \n",
    "    If the year passed is greater than 2018 it will \n",
    "    substract 100 years from the datetime object\n",
    "    \n",
    "    Params:\n",
    "    Input:\n",
    "        (datetime) date to process\n",
    "    Returns:\n",
    "        (datetime) truncated date\n",
    "    '''\n",
    "    if date.year > 2018:\n",
    "        date = date.replace(year=date.year-100)  \n",
    "        return date\n",
    "    else:\n",
    "        return date"
   ]
  },
  {
   "cell_type": "code",
   "execution_count": 28,
   "metadata": {},
   "outputs": [
    {
     "data": {
      "text/html": [
       "<div>\n",
       "<style scoped>\n",
       "    .dataframe tbody tr th:only-of-type {\n",
       "        vertical-align: middle;\n",
       "    }\n",
       "\n",
       "    .dataframe tbody tr th {\n",
       "        vertical-align: top;\n",
       "    }\n",
       "\n",
       "    .dataframe thead th {\n",
       "        text-align: right;\n",
       "    }\n",
       "</style>\n",
       "<table border=\"1\" class=\"dataframe\">\n",
       "  <thead>\n",
       "    <tr style=\"text-align: right;\">\n",
       "      <th></th>\n",
       "      <th>id</th>\n",
       "      <th>popularity</th>\n",
       "      <th>original_title</th>\n",
       "      <th>cast</th>\n",
       "      <th>director</th>\n",
       "      <th>runtime</th>\n",
       "      <th>genres</th>\n",
       "      <th>production_companies</th>\n",
       "      <th>release_date</th>\n",
       "      <th>vote_count</th>\n",
       "      <th>vote_average</th>\n",
       "      <th>release_year</th>\n",
       "      <th>budget</th>\n",
       "      <th>revenue</th>\n",
       "    </tr>\n",
       "  </thead>\n",
       "  <tbody>\n",
       "    <tr>\n",
       "      <th>0</th>\n",
       "      <td>135397</td>\n",
       "      <td>32.985763</td>\n",
       "      <td>Jurassic World</td>\n",
       "      <td>Chris Pratt|Bryce Dallas Howard|Irrfan Khan|Vi...</td>\n",
       "      <td>Colin Trevorrow</td>\n",
       "      <td>124.0</td>\n",
       "      <td>Action|Adventure|Science Fiction|Thriller</td>\n",
       "      <td>Universal Studios|Amblin Entertainment|Legenda...</td>\n",
       "      <td>2015-06-09</td>\n",
       "      <td>5562</td>\n",
       "      <td>6.5</td>\n",
       "      <td>2015</td>\n",
       "      <td>1.379999e+08</td>\n",
       "      <td>1.392446e+09</td>\n",
       "    </tr>\n",
       "    <tr>\n",
       "      <th>1</th>\n",
       "      <td>76341</td>\n",
       "      <td>28.419936</td>\n",
       "      <td>Mad Max: Fury Road</td>\n",
       "      <td>Tom Hardy|Charlize Theron|Hugh Keays-Byrne|Nic...</td>\n",
       "      <td>George Miller</td>\n",
       "      <td>120.0</td>\n",
       "      <td>Action|Adventure|Science Fiction|Thriller</td>\n",
       "      <td>Village Roadshow Pictures|Kennedy Miller Produ...</td>\n",
       "      <td>2015-05-13</td>\n",
       "      <td>6185</td>\n",
       "      <td>7.1</td>\n",
       "      <td>2015</td>\n",
       "      <td>1.379999e+08</td>\n",
       "      <td>3.481613e+08</td>\n",
       "    </tr>\n",
       "    <tr>\n",
       "      <th>2</th>\n",
       "      <td>262500</td>\n",
       "      <td>13.112507</td>\n",
       "      <td>Insurgent</td>\n",
       "      <td>Shailene Woodley|Theo James|Kate Winslet|Ansel...</td>\n",
       "      <td>Robert Schwentke</td>\n",
       "      <td>119.0</td>\n",
       "      <td>Adventure|Science Fiction|Thriller</td>\n",
       "      <td>Summit Entertainment|Mandeville Films|Red Wago...</td>\n",
       "      <td>2015-03-18</td>\n",
       "      <td>2480</td>\n",
       "      <td>6.3</td>\n",
       "      <td>2015</td>\n",
       "      <td>1.012000e+08</td>\n",
       "      <td>2.716190e+08</td>\n",
       "    </tr>\n",
       "    <tr>\n",
       "      <th>3</th>\n",
       "      <td>140607</td>\n",
       "      <td>11.173104</td>\n",
       "      <td>Star Wars: The Force Awakens</td>\n",
       "      <td>Harrison Ford|Mark Hamill|Carrie Fisher|Adam D...</td>\n",
       "      <td>J.J. Abrams</td>\n",
       "      <td>136.0</td>\n",
       "      <td>Action|Adventure|Science Fiction|Fantasy</td>\n",
       "      <td>Lucasfilm|Truenorth Productions|Bad Robot</td>\n",
       "      <td>2015-12-15</td>\n",
       "      <td>5292</td>\n",
       "      <td>7.5</td>\n",
       "      <td>2015</td>\n",
       "      <td>1.839999e+08</td>\n",
       "      <td>1.902723e+09</td>\n",
       "    </tr>\n",
       "    <tr>\n",
       "      <th>4</th>\n",
       "      <td>168259</td>\n",
       "      <td>9.335014</td>\n",
       "      <td>Furious 7</td>\n",
       "      <td>Vin Diesel|Paul Walker|Jason Statham|Michelle ...</td>\n",
       "      <td>James Wan</td>\n",
       "      <td>137.0</td>\n",
       "      <td>Action|Crime|Thriller</td>\n",
       "      <td>Universal Pictures|Original Film|Media Rights ...</td>\n",
       "      <td>2015-04-01</td>\n",
       "      <td>2947</td>\n",
       "      <td>7.3</td>\n",
       "      <td>2015</td>\n",
       "      <td>1.747999e+08</td>\n",
       "      <td>1.385749e+09</td>\n",
       "    </tr>\n",
       "  </tbody>\n",
       "</table>\n",
       "</div>"
      ],
      "text/plain": [
       "       id  popularity                original_title  \\\n",
       "0  135397   32.985763                Jurassic World   \n",
       "1   76341   28.419936            Mad Max: Fury Road   \n",
       "2  262500   13.112507                     Insurgent   \n",
       "3  140607   11.173104  Star Wars: The Force Awakens   \n",
       "4  168259    9.335014                     Furious 7   \n",
       "\n",
       "                                                cast          director  \\\n",
       "0  Chris Pratt|Bryce Dallas Howard|Irrfan Khan|Vi...   Colin Trevorrow   \n",
       "1  Tom Hardy|Charlize Theron|Hugh Keays-Byrne|Nic...     George Miller   \n",
       "2  Shailene Woodley|Theo James|Kate Winslet|Ansel...  Robert Schwentke   \n",
       "3  Harrison Ford|Mark Hamill|Carrie Fisher|Adam D...       J.J. Abrams   \n",
       "4  Vin Diesel|Paul Walker|Jason Statham|Michelle ...         James Wan   \n",
       "\n",
       "   runtime                                     genres  \\\n",
       "0    124.0  Action|Adventure|Science Fiction|Thriller   \n",
       "1    120.0  Action|Adventure|Science Fiction|Thriller   \n",
       "2    119.0         Adventure|Science Fiction|Thriller   \n",
       "3    136.0   Action|Adventure|Science Fiction|Fantasy   \n",
       "4    137.0                      Action|Crime|Thriller   \n",
       "\n",
       "                                production_companies release_date  vote_count  \\\n",
       "0  Universal Studios|Amblin Entertainment|Legenda...   2015-06-09        5562   \n",
       "1  Village Roadshow Pictures|Kennedy Miller Produ...   2015-05-13        6185   \n",
       "2  Summit Entertainment|Mandeville Films|Red Wago...   2015-03-18        2480   \n",
       "3          Lucasfilm|Truenorth Productions|Bad Robot   2015-12-15        5292   \n",
       "4  Universal Pictures|Original Film|Media Rights ...   2015-04-01        2947   \n",
       "\n",
       "   vote_average  release_year        budget       revenue  \n",
       "0           6.5          2015  1.379999e+08  1.392446e+09  \n",
       "1           7.1          2015  1.379999e+08  3.481613e+08  \n",
       "2           6.3          2015  1.012000e+08  2.716190e+08  \n",
       "3           7.5          2015  1.839999e+08  1.902723e+09  \n",
       "4           7.3          2015  1.747999e+08  1.385749e+09  "
      ]
     },
     "execution_count": 28,
     "metadata": {},
     "output_type": "execute_result"
    }
   ],
   "source": [
    "# Applies the truncate_year function to each value in the release_date column\n",
    "df['release_date'] = df['release_date'].apply(truncate_year)\n",
    "df.head()"
   ]
  },
  {
   "cell_type": "code",
   "execution_count": 29,
   "metadata": {},
   "outputs": [
    {
     "data": {
      "text/plain": [
       "count                   10865\n",
       "unique                   5909\n",
       "top       2009-01-01 00:00:00\n",
       "freq                       28\n",
       "first     1960-01-01 00:00:00\n",
       "last      2015-12-31 00:00:00\n",
       "Name: release_date, dtype: object"
      ]
     },
     "execution_count": 29,
     "metadata": {},
     "output_type": "execute_result"
    }
   ],
   "source": [
    "df['release_date'].describe()"
   ]
  },
  {
   "cell_type": "markdown",
   "metadata": {},
   "source": [
    "Now the data looks correct. First movie was released in 1960 and last movie was released in 2015. \n",
    "We can run one more validation, lets verify the year from the release_date matches the year in release_year"
   ]
  },
  {
   "cell_type": "code",
   "execution_count": 30,
   "metadata": {
    "scrolled": true
   },
   "outputs": [
    {
     "data": {
      "text/plain": [
       "0"
      ]
     },
     "execution_count": 30,
     "metadata": {},
     "output_type": "execute_result"
    }
   ],
   "source": [
    "(df['release_date'].map(lambda x: x.year) != df['release_year']).sum()"
   ]
  },
  {
   "cell_type": "markdown",
   "metadata": {},
   "source": [
    "This is good. For each movie the year in release_date is the same year in release_year. We can safely continue with our data analysis"
   ]
  },
  {
   "cell_type": "markdown",
   "metadata": {},
   "source": [
    "### DataFrame Histogram\n",
    "\n",
    "Now that we have analised our data a little bit more lets see how it looks with histograms"
   ]
  },
  {
   "cell_type": "code",
   "execution_count": 31,
   "metadata": {},
   "outputs": [
    {
     "data": {
      "image/png": "[encoded data removed]",
      "text/plain": [
       "<matplotlib.figure.Figure at 0x1a09a00ba8>"
      ]
     },
     "metadata": {},
     "output_type": "display_data"
    }
   ],
   "source": [
    "df.hist(figsize=(15,15));"
   ]
  },
  {
   "cell_type": "markdown",
   "metadata": {},
   "source": [
    "### Analysing the histogram\n",
    "\n",
    "Viewing the histogram results we can get the following information to continue with our analysis:\n",
    "\n",
    "1 - Most movies in the database have a very low budget, the graph is heavly skewed to the right<br>\n",
    "2 - Most movies have very low popularity in tmdb database, the graph is heavly skewed to the right<br>\n",
    "3 - Most movies in the database have very low revenue, the graph is heavly skewed to the right<br>\n",
    "4 - More movies are released year by year - graph in this case is skewed to the left<br>\n",
    "5 - Most movies have a duration of 90-111 mins which sound accurate\n",
    "<br>"
   ]
  },
  {
   "cell_type": "markdown",
   "metadata": {},
   "source": [
    "<a id='eda'></a>\n",
    "## Exploratory Data Analysis\n",
    "\n",
    "\n",
    "### Which genres are most popular from year to year?"
   ]
  },
  {
   "cell_type": "markdown",
   "metadata": {
    "collapsed": true
   },
   "source": [
    "First we are going to do some analysis on the 'genres' field for the dataframe\n"
   ]
  },
  {
   "cell_type": "code",
   "execution_count": 32,
   "metadata": {},
   "outputs": [
    {
     "data": {
      "text/plain": [
       "count     10842\n",
       "unique     2039\n",
       "top       Drama\n",
       "freq        712\n",
       "Name: genres, dtype: object"
      ]
     },
     "execution_count": 32,
     "metadata": {},
     "output_type": "execute_result"
    }
   ],
   "source": [
    "df[\"genres\"].describe()"
   ]
  },
  {
   "cell_type": "markdown",
   "metadata": {},
   "source": [
    "It looks like we have 2039 unique genres and the top one is Drama. \n",
    "It also looks like we have 10842 rows with none null genres from 10865 total rows. We will be removing the null values latre during our analysis "
   ]
  },
  {
   "cell_type": "markdown",
   "metadata": {},
   "source": [
    "2039 different genres look too much, so lets analyse how the unique values for the genre column look like"
   ]
  },
  {
   "cell_type": "code",
   "execution_count": 33,
   "metadata": {},
   "outputs": [
    {
     "data": {
      "text/plain": [
       "array(['Action|Adventure|Science Fiction|Thriller',\n",
       "       'Adventure|Science Fiction|Thriller',\n",
       "       'Action|Adventure|Science Fiction|Fantasy', ...,\n",
       "       'Adventure|Drama|Action|Family|Foreign',\n",
       "       'Comedy|Family|Mystery|Romance',\n",
       "       'Mystery|Science Fiction|Thriller|Drama'], dtype=object)"
      ]
     },
     "execution_count": 33,
     "metadata": {},
     "output_type": "execute_result"
    }
   ],
   "source": [
    "df[\"genres\"].unique()"
   ]
  },
  {
   "cell_type": "code",
   "execution_count": 34,
   "metadata": {
    "scrolled": true
   },
   "outputs": [
    {
     "data": {
      "text/html": [
       "<div>\n",
       "<style scoped>\n",
       "    .dataframe tbody tr th:only-of-type {\n",
       "        vertical-align: middle;\n",
       "    }\n",
       "\n",
       "    .dataframe tbody tr th {\n",
       "        vertical-align: top;\n",
       "    }\n",
       "\n",
       "    .dataframe thead th {\n",
       "        text-align: right;\n",
       "    }\n",
       "</style>\n",
       "<table border=\"1\" class=\"dataframe\">\n",
       "  <thead>\n",
       "    <tr style=\"text-align: right;\">\n",
       "      <th></th>\n",
       "      <th>id</th>\n",
       "      <th>popularity</th>\n",
       "      <th>original_title</th>\n",
       "      <th>cast</th>\n",
       "      <th>director</th>\n",
       "      <th>runtime</th>\n",
       "      <th>production_companies</th>\n",
       "      <th>release_date</th>\n",
       "      <th>vote_count</th>\n",
       "      <th>vote_average</th>\n",
       "      <th>release_year</th>\n",
       "      <th>budget</th>\n",
       "      <th>revenue</th>\n",
       "    </tr>\n",
       "    <tr>\n",
       "      <th>genres</th>\n",
       "      <th></th>\n",
       "      <th></th>\n",
       "      <th></th>\n",
       "      <th></th>\n",
       "      <th></th>\n",
       "      <th></th>\n",
       "      <th></th>\n",
       "      <th></th>\n",
       "      <th></th>\n",
       "      <th></th>\n",
       "      <th></th>\n",
       "      <th></th>\n",
       "      <th></th>\n",
       "    </tr>\n",
       "  </thead>\n",
       "  <tbody>\n",
       "    <tr>\n",
       "      <th>Action</th>\n",
       "      <td>63</td>\n",
       "      <td>63</td>\n",
       "      <td>63</td>\n",
       "      <td>63</td>\n",
       "      <td>63</td>\n",
       "      <td>63</td>\n",
       "      <td>57</td>\n",
       "      <td>63</td>\n",
       "      <td>63</td>\n",
       "      <td>63</td>\n",
       "      <td>63</td>\n",
       "      <td>63</td>\n",
       "      <td>63</td>\n",
       "    </tr>\n",
       "    <tr>\n",
       "      <th>Action|Adventure</th>\n",
       "      <td>15</td>\n",
       "      <td>15</td>\n",
       "      <td>15</td>\n",
       "      <td>15</td>\n",
       "      <td>15</td>\n",
       "      <td>15</td>\n",
       "      <td>14</td>\n",
       "      <td>15</td>\n",
       "      <td>15</td>\n",
       "      <td>15</td>\n",
       "      <td>15</td>\n",
       "      <td>15</td>\n",
       "      <td>15</td>\n",
       "    </tr>\n",
       "    <tr>\n",
       "      <th>Action|Adventure|Animation</th>\n",
       "      <td>4</td>\n",
       "      <td>4</td>\n",
       "      <td>4</td>\n",
       "      <td>4</td>\n",
       "      <td>4</td>\n",
       "      <td>4</td>\n",
       "      <td>4</td>\n",
       "      <td>4</td>\n",
       "      <td>4</td>\n",
       "      <td>4</td>\n",
       "      <td>4</td>\n",
       "      <td>4</td>\n",
       "      <td>4</td>\n",
       "    </tr>\n",
       "    <tr>\n",
       "      <th>Action|Adventure|Animation|Comedy|Drama</th>\n",
       "      <td>1</td>\n",
       "      <td>1</td>\n",
       "      <td>1</td>\n",
       "      <td>1</td>\n",
       "      <td>1</td>\n",
       "      <td>1</td>\n",
       "      <td>1</td>\n",
       "      <td>1</td>\n",
       "      <td>1</td>\n",
       "      <td>1</td>\n",
       "      <td>1</td>\n",
       "      <td>1</td>\n",
       "      <td>1</td>\n",
       "    </tr>\n",
       "    <tr>\n",
       "      <th>Action|Adventure|Animation|Comedy|Family</th>\n",
       "      <td>1</td>\n",
       "      <td>1</td>\n",
       "      <td>1</td>\n",
       "      <td>1</td>\n",
       "      <td>1</td>\n",
       "      <td>1</td>\n",
       "      <td>1</td>\n",
       "      <td>1</td>\n",
       "      <td>1</td>\n",
       "      <td>1</td>\n",
       "      <td>1</td>\n",
       "      <td>1</td>\n",
       "      <td>1</td>\n",
       "    </tr>\n",
       "  </tbody>\n",
       "</table>\n",
       "</div>"
      ],
      "text/plain": [
       "                                          id  popularity  original_title  \\\n",
       "genres                                                                     \n",
       "Action                                    63          63              63   \n",
       "Action|Adventure                          15          15              15   \n",
       "Action|Adventure|Animation                 4           4               4   \n",
       "Action|Adventure|Animation|Comedy|Drama    1           1               1   \n",
       "Action|Adventure|Animation|Comedy|Family   1           1               1   \n",
       "\n",
       "                                          cast  director  runtime  \\\n",
       "genres                                                              \n",
       "Action                                      63        63       63   \n",
       "Action|Adventure                            15        15       15   \n",
       "Action|Adventure|Animation                   4         4        4   \n",
       "Action|Adventure|Animation|Comedy|Drama      1         1        1   \n",
       "Action|Adventure|Animation|Comedy|Family     1         1        1   \n",
       "\n",
       "                                          production_companies  release_date  \\\n",
       "genres                                                                         \n",
       "Action                                                      57            63   \n",
       "Action|Adventure                                            14            15   \n",
       "Action|Adventure|Animation                                   4             4   \n",
       "Action|Adventure|Animation|Comedy|Drama                      1             1   \n",
       "Action|Adventure|Animation|Comedy|Family                     1             1   \n",
       "\n",
       "                                          vote_count  vote_average  \\\n",
       "genres                                                               \n",
       "Action                                            63            63   \n",
       "Action|Adventure                                  15            15   \n",
       "Action|Adventure|Animation                         4             4   \n",
       "Action|Adventure|Animation|Comedy|Drama            1             1   \n",
       "Action|Adventure|Animation|Comedy|Family           1             1   \n",
       "\n",
       "                                          release_year  budget  revenue  \n",
       "genres                                                                   \n",
       "Action                                              63      63       63  \n",
       "Action|Adventure                                    15      15       15  \n",
       "Action|Adventure|Animation                           4       4        4  \n",
       "Action|Adventure|Animation|Comedy|Drama              1       1        1  \n",
       "Action|Adventure|Animation|Comedy|Family             1       1        1  "
      ]
     },
     "execution_count": 34,
     "metadata": {},
     "output_type": "execute_result"
    }
   ],
   "source": [
    "df.groupby('genres').count().head()"
   ]
  },
  {
   "cell_type": "markdown",
   "metadata": {},
   "source": [
    "So we can see that for many movies the genre column has a combination of genres split by the character '|'. If we are going to analyze the most popular genres year by year we need a way to calculate the popularity by each genre handling these combinations. \n",
    "In order to do this we are going to explode the dataframe in a way that we will duplicate each row with a unique genre value"
   ]
  },
  {
   "cell_type": "markdown",
   "metadata": {},
   "source": [
    "We are going to define a helper function that will help us to split the genre values into individual rows"
   ]
  },
  {
   "cell_type": "code",
   "execution_count": 35,
   "metadata": {
    "collapsed": true
   },
   "outputs": [],
   "source": [
    "def split_by_value(df, column, sep='|'):\n",
    "    \"\"\"\n",
    "    Split the values of a column and expand so the new DataFrame has one split\n",
    "    value per row. Filters rows where the column is missing.\n",
    "\n",
    "    Params\n",
    "    ------\n",
    "    df : pandas.DataFrame\n",
    "        dataframe with the column to split and expand\n",
    "    column : str\n",
    "        the column to split and expand\n",
    "    sep : str\n",
    "        the string used to split the column's values\n",
    "\n",
    "    Returns\n",
    "    -------\n",
    "    pandas.DataFrame\n",
    "        Returns a dataframe with the same columns as `df`.\n",
    "    \"\"\"\n",
    "    indexes = list()\n",
    "    new_values = list()\n",
    "\n",
    "    # Drops all null values for the columns that we are filtering\n",
    "    df = df.dropna(subset=[column])\n",
    "    \n",
    "    for i, presplit in enumerate(df[column].astype(str)):\n",
    "        # For each row we get a list of the different genre\n",
    "        values = presplit.split(sep)\n",
    "        # Then we process each genre\n",
    "        for value in values:\n",
    "            # Appends the Index of the original row\n",
    "            indexes.append(i)\n",
    "            # Appends the value with the genre\n",
    "            new_values.append(value)\n",
    "            \n",
    "    # Created a new dataframe copying the rows from the indexes list \n",
    "    new_df = df.iloc[indexes, :].copy()\n",
    "    \n",
    "    # Assigns the genre values - Since the indexes match this operation can be \n",
    "    # done automatically\n",
    "    new_df[column] = new_values\n",
    "    \n",
    "    # Returns the new dataset\n",
    "    return new_df"
   ]
  },
  {
   "cell_type": "code",
   "execution_count": 36,
   "metadata": {
    "collapsed": true
   },
   "outputs": [],
   "source": [
    "# Creates a new Dataframe that will have one row for each genre and all the rest of the values will be duplicated\n",
    "df_by_genre = split_by_value(df, 'genres', sep='|')"
   ]
  },
  {
   "cell_type": "markdown",
   "metadata": {},
   "source": [
    "After the function is applied to process the dataframe lets verify the Genres values are now usefull for our analysis"
   ]
  },
  {
   "cell_type": "code",
   "execution_count": 37,
   "metadata": {},
   "outputs": [
    {
     "data": {
      "text/plain": [
       "count     26955\n",
       "unique       20\n",
       "top       Drama\n",
       "freq       4760\n",
       "Name: genres, dtype: object"
      ]
     },
     "execution_count": 37,
     "metadata": {},
     "output_type": "execute_result"
    }
   ],
   "source": [
    "df_by_genre[\"genres\"].describe()"
   ]
  },
  {
   "cell_type": "code",
   "execution_count": 38,
   "metadata": {},
   "outputs": [
    {
     "data": {
      "text/plain": [
       "array(['Action', 'Adventure', 'Science Fiction', 'Thriller', 'Fantasy',\n",
       "       'Crime', 'Western', 'Drama', 'Family', 'Animation', 'Comedy',\n",
       "       'Mystery', 'Romance', 'War', 'History', 'Music', 'Horror',\n",
       "       'Documentary', 'TV Movie', 'Foreign'], dtype=object)"
      ]
     },
     "execution_count": 38,
     "metadata": {},
     "output_type": "execute_result"
    }
   ],
   "source": [
    "df_by_genre['genres'].unique()"
   ]
  },
  {
   "cell_type": "code",
   "execution_count": 39,
   "metadata": {
    "scrolled": true
   },
   "outputs": [
    {
     "data": {
      "text/html": [
       "<div>\n",
       "<style scoped>\n",
       "    .dataframe tbody tr th:only-of-type {\n",
       "        vertical-align: middle;\n",
       "    }\n",
       "\n",
       "    .dataframe tbody tr th {\n",
       "        vertical-align: top;\n",
       "    }\n",
       "\n",
       "    .dataframe thead th {\n",
       "        text-align: right;\n",
       "    }\n",
       "</style>\n",
       "<table border=\"1\" class=\"dataframe\">\n",
       "  <thead>\n",
       "    <tr style=\"text-align: right;\">\n",
       "      <th></th>\n",
       "      <th>id</th>\n",
       "      <th>popularity</th>\n",
       "      <th>original_title</th>\n",
       "      <th>cast</th>\n",
       "      <th>director</th>\n",
       "      <th>runtime</th>\n",
       "      <th>production_companies</th>\n",
       "      <th>release_date</th>\n",
       "      <th>vote_count</th>\n",
       "      <th>vote_average</th>\n",
       "      <th>release_year</th>\n",
       "      <th>budget</th>\n",
       "      <th>revenue</th>\n",
       "    </tr>\n",
       "    <tr>\n",
       "      <th>genres</th>\n",
       "      <th></th>\n",
       "      <th></th>\n",
       "      <th></th>\n",
       "      <th></th>\n",
       "      <th></th>\n",
       "      <th></th>\n",
       "      <th></th>\n",
       "      <th></th>\n",
       "      <th></th>\n",
       "      <th></th>\n",
       "      <th></th>\n",
       "      <th></th>\n",
       "      <th></th>\n",
       "    </tr>\n",
       "  </thead>\n",
       "  <tbody>\n",
       "    <tr>\n",
       "      <th>Action</th>\n",
       "      <td>2384</td>\n",
       "      <td>2384</td>\n",
       "      <td>2384</td>\n",
       "      <td>2381</td>\n",
       "      <td>2378</td>\n",
       "      <td>2384</td>\n",
       "      <td>2239</td>\n",
       "      <td>2384</td>\n",
       "      <td>2384</td>\n",
       "      <td>2384</td>\n",
       "      <td>2384</td>\n",
       "      <td>2384</td>\n",
       "      <td>2384</td>\n",
       "    </tr>\n",
       "    <tr>\n",
       "      <th>Adventure</th>\n",
       "      <td>1471</td>\n",
       "      <td>1471</td>\n",
       "      <td>1471</td>\n",
       "      <td>1469</td>\n",
       "      <td>1466</td>\n",
       "      <td>1471</td>\n",
       "      <td>1390</td>\n",
       "      <td>1471</td>\n",
       "      <td>1471</td>\n",
       "      <td>1471</td>\n",
       "      <td>1471</td>\n",
       "      <td>1471</td>\n",
       "      <td>1471</td>\n",
       "    </tr>\n",
       "    <tr>\n",
       "      <th>Animation</th>\n",
       "      <td>699</td>\n",
       "      <td>699</td>\n",
       "      <td>699</td>\n",
       "      <td>669</td>\n",
       "      <td>692</td>\n",
       "      <td>699</td>\n",
       "      <td>641</td>\n",
       "      <td>699</td>\n",
       "      <td>699</td>\n",
       "      <td>699</td>\n",
       "      <td>699</td>\n",
       "      <td>699</td>\n",
       "      <td>699</td>\n",
       "    </tr>\n",
       "    <tr>\n",
       "      <th>Comedy</th>\n",
       "      <td>3793</td>\n",
       "      <td>3793</td>\n",
       "      <td>3793</td>\n",
       "      <td>3785</td>\n",
       "      <td>3782</td>\n",
       "      <td>3793</td>\n",
       "      <td>3442</td>\n",
       "      <td>3793</td>\n",
       "      <td>3793</td>\n",
       "      <td>3793</td>\n",
       "      <td>3793</td>\n",
       "      <td>3793</td>\n",
       "      <td>3793</td>\n",
       "    </tr>\n",
       "    <tr>\n",
       "      <th>Crime</th>\n",
       "      <td>1354</td>\n",
       "      <td>1354</td>\n",
       "      <td>1354</td>\n",
       "      <td>1354</td>\n",
       "      <td>1353</td>\n",
       "      <td>1354</td>\n",
       "      <td>1299</td>\n",
       "      <td>1354</td>\n",
       "      <td>1354</td>\n",
       "      <td>1354</td>\n",
       "      <td>1354</td>\n",
       "      <td>1354</td>\n",
       "      <td>1354</td>\n",
       "    </tr>\n",
       "    <tr>\n",
       "      <th>Documentary</th>\n",
       "      <td>520</td>\n",
       "      <td>520</td>\n",
       "      <td>520</td>\n",
       "      <td>478</td>\n",
       "      <td>509</td>\n",
       "      <td>520</td>\n",
       "      <td>338</td>\n",
       "      <td>520</td>\n",
       "      <td>520</td>\n",
       "      <td>520</td>\n",
       "      <td>520</td>\n",
       "      <td>520</td>\n",
       "      <td>520</td>\n",
       "    </tr>\n",
       "    <tr>\n",
       "      <th>Drama</th>\n",
       "      <td>4760</td>\n",
       "      <td>4760</td>\n",
       "      <td>4760</td>\n",
       "      <td>4752</td>\n",
       "      <td>4754</td>\n",
       "      <td>4760</td>\n",
       "      <td>4372</td>\n",
       "      <td>4760</td>\n",
       "      <td>4760</td>\n",
       "      <td>4760</td>\n",
       "      <td>4760</td>\n",
       "      <td>4760</td>\n",
       "      <td>4760</td>\n",
       "    </tr>\n",
       "    <tr>\n",
       "      <th>Family</th>\n",
       "      <td>1231</td>\n",
       "      <td>1231</td>\n",
       "      <td>1231</td>\n",
       "      <td>1219</td>\n",
       "      <td>1223</td>\n",
       "      <td>1231</td>\n",
       "      <td>1107</td>\n",
       "      <td>1231</td>\n",
       "      <td>1231</td>\n",
       "      <td>1231</td>\n",
       "      <td>1231</td>\n",
       "      <td>1231</td>\n",
       "      <td>1231</td>\n",
       "    </tr>\n",
       "    <tr>\n",
       "      <th>Fantasy</th>\n",
       "      <td>916</td>\n",
       "      <td>916</td>\n",
       "      <td>916</td>\n",
       "      <td>911</td>\n",
       "      <td>912</td>\n",
       "      <td>916</td>\n",
       "      <td>843</td>\n",
       "      <td>916</td>\n",
       "      <td>916</td>\n",
       "      <td>916</td>\n",
       "      <td>916</td>\n",
       "      <td>916</td>\n",
       "      <td>916</td>\n",
       "    </tr>\n",
       "    <tr>\n",
       "      <th>Foreign</th>\n",
       "      <td>188</td>\n",
       "      <td>188</td>\n",
       "      <td>188</td>\n",
       "      <td>187</td>\n",
       "      <td>185</td>\n",
       "      <td>188</td>\n",
       "      <td>122</td>\n",
       "      <td>188</td>\n",
       "      <td>188</td>\n",
       "      <td>188</td>\n",
       "      <td>188</td>\n",
       "      <td>188</td>\n",
       "      <td>188</td>\n",
       "    </tr>\n",
       "    <tr>\n",
       "      <th>History</th>\n",
       "      <td>334</td>\n",
       "      <td>334</td>\n",
       "      <td>334</td>\n",
       "      <td>331</td>\n",
       "      <td>332</td>\n",
       "      <td>334</td>\n",
       "      <td>308</td>\n",
       "      <td>334</td>\n",
       "      <td>334</td>\n",
       "      <td>334</td>\n",
       "      <td>334</td>\n",
       "      <td>334</td>\n",
       "      <td>334</td>\n",
       "    </tr>\n",
       "    <tr>\n",
       "      <th>Horror</th>\n",
       "      <td>1637</td>\n",
       "      <td>1637</td>\n",
       "      <td>1637</td>\n",
       "      <td>1637</td>\n",
       "      <td>1636</td>\n",
       "      <td>1637</td>\n",
       "      <td>1526</td>\n",
       "      <td>1637</td>\n",
       "      <td>1637</td>\n",
       "      <td>1637</td>\n",
       "      <td>1637</td>\n",
       "      <td>1637</td>\n",
       "      <td>1637</td>\n",
       "    </tr>\n",
       "    <tr>\n",
       "      <th>Music</th>\n",
       "      <td>408</td>\n",
       "      <td>408</td>\n",
       "      <td>408</td>\n",
       "      <td>405</td>\n",
       "      <td>402</td>\n",
       "      <td>408</td>\n",
       "      <td>342</td>\n",
       "      <td>408</td>\n",
       "      <td>408</td>\n",
       "      <td>408</td>\n",
       "      <td>408</td>\n",
       "      <td>408</td>\n",
       "      <td>408</td>\n",
       "    </tr>\n",
       "    <tr>\n",
       "      <th>Mystery</th>\n",
       "      <td>810</td>\n",
       "      <td>810</td>\n",
       "      <td>810</td>\n",
       "      <td>809</td>\n",
       "      <td>809</td>\n",
       "      <td>810</td>\n",
       "      <td>773</td>\n",
       "      <td>810</td>\n",
       "      <td>810</td>\n",
       "      <td>810</td>\n",
       "      <td>810</td>\n",
       "      <td>810</td>\n",
       "      <td>810</td>\n",
       "    </tr>\n",
       "    <tr>\n",
       "      <th>Romance</th>\n",
       "      <td>1712</td>\n",
       "      <td>1712</td>\n",
       "      <td>1712</td>\n",
       "      <td>1712</td>\n",
       "      <td>1708</td>\n",
       "      <td>1712</td>\n",
       "      <td>1572</td>\n",
       "      <td>1712</td>\n",
       "      <td>1712</td>\n",
       "      <td>1712</td>\n",
       "      <td>1712</td>\n",
       "      <td>1712</td>\n",
       "      <td>1712</td>\n",
       "    </tr>\n",
       "    <tr>\n",
       "      <th>Science Fiction</th>\n",
       "      <td>1229</td>\n",
       "      <td>1229</td>\n",
       "      <td>1229</td>\n",
       "      <td>1227</td>\n",
       "      <td>1223</td>\n",
       "      <td>1229</td>\n",
       "      <td>1141</td>\n",
       "      <td>1229</td>\n",
       "      <td>1229</td>\n",
       "      <td>1229</td>\n",
       "      <td>1229</td>\n",
       "      <td>1229</td>\n",
       "      <td>1229</td>\n",
       "    </tr>\n",
       "    <tr>\n",
       "      <th>TV Movie</th>\n",
       "      <td>167</td>\n",
       "      <td>167</td>\n",
       "      <td>167</td>\n",
       "      <td>167</td>\n",
       "      <td>162</td>\n",
       "      <td>167</td>\n",
       "      <td>135</td>\n",
       "      <td>167</td>\n",
       "      <td>167</td>\n",
       "      <td>167</td>\n",
       "      <td>167</td>\n",
       "      <td>167</td>\n",
       "      <td>167</td>\n",
       "    </tr>\n",
       "    <tr>\n",
       "      <th>Thriller</th>\n",
       "      <td>2907</td>\n",
       "      <td>2907</td>\n",
       "      <td>2907</td>\n",
       "      <td>2905</td>\n",
       "      <td>2904</td>\n",
       "      <td>2907</td>\n",
       "      <td>2748</td>\n",
       "      <td>2907</td>\n",
       "      <td>2907</td>\n",
       "      <td>2907</td>\n",
       "      <td>2907</td>\n",
       "      <td>2907</td>\n",
       "      <td>2907</td>\n",
       "    </tr>\n",
       "    <tr>\n",
       "      <th>War</th>\n",
       "      <td>270</td>\n",
       "      <td>270</td>\n",
       "      <td>270</td>\n",
       "      <td>268</td>\n",
       "      <td>270</td>\n",
       "      <td>270</td>\n",
       "      <td>259</td>\n",
       "      <td>270</td>\n",
       "      <td>270</td>\n",
       "      <td>270</td>\n",
       "      <td>270</td>\n",
       "      <td>270</td>\n",
       "      <td>270</td>\n",
       "    </tr>\n",
       "    <tr>\n",
       "      <th>Western</th>\n",
       "      <td>165</td>\n",
       "      <td>165</td>\n",
       "      <td>165</td>\n",
       "      <td>165</td>\n",
       "      <td>164</td>\n",
       "      <td>165</td>\n",
       "      <td>160</td>\n",
       "      <td>165</td>\n",
       "      <td>165</td>\n",
       "      <td>165</td>\n",
       "      <td>165</td>\n",
       "      <td>165</td>\n",
       "      <td>165</td>\n",
       "    </tr>\n",
       "  </tbody>\n",
       "</table>\n",
       "</div>"
      ],
      "text/plain": [
       "                   id  popularity  original_title  cast  director  runtime  \\\n",
       "genres                                                                       \n",
       "Action           2384        2384            2384  2381      2378     2384   \n",
       "Adventure        1471        1471            1471  1469      1466     1471   \n",
       "Animation         699         699             699   669       692      699   \n",
       "Comedy           3793        3793            3793  3785      3782     3793   \n",
       "Crime            1354        1354            1354  1354      1353     1354   \n",
       "Documentary       520         520             520   478       509      520   \n",
       "Drama            4760        4760            4760  4752      4754     4760   \n",
       "Family           1231        1231            1231  1219      1223     1231   \n",
       "Fantasy           916         916             916   911       912      916   \n",
       "Foreign           188         188             188   187       185      188   \n",
       "History           334         334             334   331       332      334   \n",
       "Horror           1637        1637            1637  1637      1636     1637   \n",
       "Music             408         408             408   405       402      408   \n",
       "Mystery           810         810             810   809       809      810   \n",
       "Romance          1712        1712            1712  1712      1708     1712   \n",
       "Science Fiction  1229        1229            1229  1227      1223     1229   \n",
       "TV Movie          167         167             167   167       162      167   \n",
       "Thriller         2907        2907            2907  2905      2904     2907   \n",
       "War               270         270             270   268       270      270   \n",
       "Western           165         165             165   165       164      165   \n",
       "\n",
       "                 production_companies  release_date  vote_count  vote_average  \\\n",
       "genres                                                                          \n",
       "Action                           2239          2384        2384          2384   \n",
       "Adventure                        1390          1471        1471          1471   \n",
       "Animation                         641           699         699           699   \n",
       "Comedy                           3442          3793        3793          3793   \n",
       "Crime                            1299          1354        1354          1354   \n",
       "Documentary                       338           520         520           520   \n",
       "Drama                            4372          4760        4760          4760   \n",
       "Family                           1107          1231        1231          1231   \n",
       "Fantasy                           843           916         916           916   \n",
       "Foreign                           122           188         188           188   \n",
       "History                           308           334         334           334   \n",
       "Horror                           1526          1637        1637          1637   \n",
       "Music                             342           408         408           408   \n",
       "Mystery                           773           810         810           810   \n",
       "Romance                          1572          1712        1712          1712   \n",
       "Science Fiction                  1141          1229        1229          1229   \n",
       "TV Movie                          135           167         167           167   \n",
       "Thriller                         2748          2907        2907          2907   \n",
       "War                               259           270         270           270   \n",
       "Western                           160           165         165           165   \n",
       "\n",
       "                 release_year  budget  revenue  \n",
       "genres                                          \n",
       "Action                   2384    2384     2384  \n",
       "Adventure                1471    1471     1471  \n",
       "Animation                 699     699      699  \n",
       "Comedy                   3793    3793     3793  \n",
       "Crime                    1354    1354     1354  \n",
       "Documentary               520     520      520  \n",
       "Drama                    4760    4760     4760  \n",
       "Family                   1231    1231     1231  \n",
       "Fantasy                   916     916      916  \n",
       "Foreign                   188     188      188  \n",
       "History                   334     334      334  \n",
       "Horror                   1637    1637     1637  \n",
       "Music                     408     408      408  \n",
       "Mystery                   810     810      810  \n",
       "Romance                  1712    1712     1712  \n",
       "Science Fiction          1229    1229     1229  \n",
       "TV Movie                  167     167      167  \n",
       "Thriller                 2907    2907     2907  \n",
       "War                       270     270      270  \n",
       "Western                   165     165      165  "
      ]
     },
     "execution_count": 39,
     "metadata": {},
     "output_type": "execute_result"
    }
   ],
   "source": [
    "df_by_genre.groupby('genres').count()"
   ]
  },
  {
   "cell_type": "code",
   "execution_count": 40,
   "metadata": {
    "scrolled": true
   },
   "outputs": [
    {
     "name": "stdout",
     "output_type": "stream",
     "text": [
      "<class 'pandas.core.frame.DataFrame'>\n",
      "Index: 26955 entries, 0 to 10865\n",
      "Data columns (total 14 columns):\n",
      "id                      26955 non-null object\n",
      "popularity              26955 non-null float64\n",
      "original_title          26955 non-null object\n",
      "cast                    26831 non-null object\n",
      "director                26864 non-null object\n",
      "runtime                 26955 non-null float64\n",
      "genres                  26955 non-null object\n",
      "production_companies    24757 non-null object\n",
      "release_date            26955 non-null datetime64[ns]\n",
      "vote_count              26955 non-null int64\n",
      "vote_average            26955 non-null float64\n",
      "release_year            26955 non-null int64\n",
      "budget                  26955 non-null float64\n",
      "revenue                 26955 non-null float64\n",
      "dtypes: datetime64[ns](1), float64(5), int64(2), object(6)\n",
      "memory usage: 3.1+ MB\n"
     ]
    }
   ],
   "source": [
    "df_by_genre.info()"
   ]
  },
  {
   "cell_type": "code",
   "execution_count": 41,
   "metadata": {},
   "outputs": [
    {
     "data": {
      "text/plain": [
       "0"
      ]
     },
     "execution_count": 41,
     "metadata": {},
     "output_type": "execute_result"
    }
   ],
   "source": [
    "df_by_genre.duplicated().sum()"
   ]
  },
  {
   "cell_type": "markdown",
   "metadata": {},
   "source": [
    "Now the information looks correct, we have only 20 unique values for genre. <br>\n",
    "The total number of rows in our dataset is now <b>26955</b>, and we have no null values in hour genre field. \n",
    "<br>\n",
    "<br>\n",
    "Its now time to process the new dataframe to calculate the most popular genres by year"
   ]
  },
  {
   "cell_type": "markdown",
   "metadata": {},
   "source": [
    "We are going to be using the <b>release_year</b> column in this case so we can group or data by year and genre.<br>\n",
    "Lets analyse the <b>release_year</b> data a little bit to make sure no data wrangling needs to be done"
   ]
  },
  {
   "cell_type": "code",
   "execution_count": 42,
   "metadata": {},
   "outputs": [
    {
     "data": {
      "text/plain": [
       "count    26955.000000\n",
       "mean      2000.698423\n",
       "std         12.764378\n",
       "min       1960.000000\n",
       "25%       1994.000000\n",
       "50%       2005.000000\n",
       "75%       2011.000000\n",
       "max       2015.000000\n",
       "Name: release_year, dtype: float64"
      ]
     },
     "execution_count": 42,
     "metadata": {},
     "output_type": "execute_result"
    }
   ],
   "source": [
    "df_by_genre['release_year'].describe()"
   ]
  },
  {
   "cell_type": "markdown",
   "metadata": {},
   "source": [
    "It looks like we have no null values, the first movie that we have infomrmation for was released in 1960 and the last one in 2015.\n",
    "Datatype of release year is an Int, nothing seems to be wrong related to the release year data"
   ]
  },
  {
   "cell_type": "markdown",
   "metadata": {},
   "source": [
    "Lets calculate the most popular Genre by each year. <br>\n",
    "    <b>1</b> - we'll be grouping info by year and genre <br>\n",
    "    <b>2</b> - We'll calculate the popularity mean by each year by genre <br>\n",
    "    <b>3</b> - We'll calculate the genre with max popularity mean for each year <br>"
   ]
  },
  {
   "cell_type": "code",
   "execution_count": 43,
   "metadata": {},
   "outputs": [
    {
     "name": "stdout",
     "output_type": "stream",
     "text": [
      "    release_year           genres  popularity\n",
      "0           1960           Action    0.590724\n",
      "1           1960        Adventure    0.700981\n",
      "2           1960           Comedy    0.396000\n",
      "3           1960            Crime    0.346480\n",
      "4           1960            Drama    0.566305\n",
      "5           1960           Family    0.278064\n",
      "6           1960          Fantasy    0.428247\n",
      "7           1960          Foreign    0.194948\n",
      "8           1960          History    0.412364\n",
      "9           1960           Horror    0.591450\n",
      "10          1960            Music    0.423531\n",
      "11          1960          Romance    0.541227\n",
      "12          1960  Science Fiction    0.327905\n",
      "13          1960         Thriller    0.811910\n",
      "14          1960              War    0.225863\n",
      "15          1960          Western    0.567759\n",
      "16          1961           Action    0.365913\n",
      "17          1961        Adventure    0.767323\n",
      "18          1961        Animation    2.631987\n",
      "19          1961           Comedy    0.679838 \n",
      "\n",
      "release_year\n",
      "1960    13\n",
      "1961    18\n",
      "1962    34\n",
      "1963    52\n",
      "1964    83\n",
      "Name: popularity, dtype: int64 \n",
      "\n"
     ]
    }
   ],
   "source": [
    "# Generates a new dataframe with the mean by each year for each genre\n",
    "df_pop_by_year = df_by_genre.groupby([df_by_genre['release_year'],\"genres\"])['popularity'].mean().reset_index()\n",
    "\n",
    "# Lets validate the data looks good\n",
    "print(df_pop_by_year.head(20),'\\n')\n",
    "\n",
    "# Now lets generate a Series for getting the Max popularity value for each year. We \n",
    "# are going to store the index of the value with the max popularity\n",
    "max_indexes = df_pop_by_year.groupby(\"release_year\")[\"popularity\"].idxmax()\n",
    "\n",
    "print(max_indexes.head(),'\\n')\n",
    "\n",
    "# From the original DataFrame with the popularity by year lets keep only those rows\n",
    "# that had the max popularity mean by year and assign it to a new DataFrame\n",
    "df_pop_genre_by_year = df_pop_by_year.iloc[max_indexes]\n"
   ]
  },
  {
   "cell_type": "markdown",
   "metadata": {},
   "source": [
    "Lets view the result of the processed information. We should have a dataFrame containing the index, release_year, most popular genre and popularity for it"
   ]
  },
  {
   "cell_type": "code",
   "execution_count": 44,
   "metadata": {
    "scrolled": true
   },
   "outputs": [
    {
     "data": {
      "text/html": [
       "<div>\n",
       "<style scoped>\n",
       "    .dataframe tbody tr th:only-of-type {\n",
       "        vertical-align: middle;\n",
       "    }\n",
       "\n",
       "    .dataframe tbody tr th {\n",
       "        vertical-align: top;\n",
       "    }\n",
       "\n",
       "    .dataframe thead th {\n",
       "        text-align: right;\n",
       "    }\n",
       "</style>\n",
       "<table border=\"1\" class=\"dataframe\">\n",
       "  <thead>\n",
       "    <tr style=\"text-align: right;\">\n",
       "      <th></th>\n",
       "      <th>release_year</th>\n",
       "      <th>genres</th>\n",
       "      <th>popularity</th>\n",
       "    </tr>\n",
       "  </thead>\n",
       "  <tbody>\n",
       "    <tr>\n",
       "      <th>13</th>\n",
       "      <td>1960</td>\n",
       "      <td>Thriller</td>\n",
       "      <td>0.811910</td>\n",
       "    </tr>\n",
       "    <tr>\n",
       "      <th>18</th>\n",
       "      <td>1961</td>\n",
       "      <td>Animation</td>\n",
       "      <td>2.631987</td>\n",
       "    </tr>\n",
       "    <tr>\n",
       "      <th>34</th>\n",
       "      <td>1962</td>\n",
       "      <td>Adventure</td>\n",
       "      <td>0.942513</td>\n",
       "    </tr>\n",
       "    <tr>\n",
       "      <th>52</th>\n",
       "      <td>1963</td>\n",
       "      <td>Animation</td>\n",
       "      <td>2.180410</td>\n",
       "    </tr>\n",
       "    <tr>\n",
       "      <th>83</th>\n",
       "      <td>1964</td>\n",
       "      <td>War</td>\n",
       "      <td>0.930959</td>\n",
       "    </tr>\n",
       "  </tbody>\n",
       "</table>\n",
       "</div>"
      ],
      "text/plain": [
       "    release_year     genres  popularity\n",
       "13          1960   Thriller    0.811910\n",
       "18          1961  Animation    2.631987\n",
       "34          1962  Adventure    0.942513\n",
       "52          1963  Animation    2.180410\n",
       "83          1964        War    0.930959"
      ]
     },
     "execution_count": 44,
     "metadata": {},
     "output_type": "execute_result"
    }
   ],
   "source": [
    "df_pop_genre_by_year.head()"
   ]
  },
  {
   "cell_type": "markdown",
   "metadata": {},
   "source": [
    "Information looks good, but we still have the original index value in there. Lets clean up the results a bit for a better presentation"
   ]
  },
  {
   "cell_type": "code",
   "execution_count": 45,
   "metadata": {
    "collapsed": true
   },
   "outputs": [],
   "source": [
    "# Lets update the Index column to clean up the data\n",
    "df_pop_genre_by_year.set_index('release_year',inplace=True)"
   ]
  },
  {
   "cell_type": "markdown",
   "metadata": {},
   "source": [
    "### What is the most popular Genre year by year.\n",
    "\n",
    "We are now ready to answer the question and display a list that shows the most popular genre by each year"
   ]
  },
  {
   "cell_type": "code",
   "execution_count": 46,
   "metadata": {},
   "outputs": [
    {
     "data": {
      "text/html": [
       "<div>\n",
       "<style scoped>\n",
       "    .dataframe tbody tr th:only-of-type {\n",
       "        vertical-align: middle;\n",
       "    }\n",
       "\n",
       "    .dataframe tbody tr th {\n",
       "        vertical-align: top;\n",
       "    }\n",
       "\n",
       "    .dataframe thead th {\n",
       "        text-align: right;\n",
       "    }\n",
       "</style>\n",
       "<table border=\"1\" class=\"dataframe\">\n",
       "  <thead>\n",
       "    <tr style=\"text-align: right;\">\n",
       "      <th></th>\n",
       "      <th>genres</th>\n",
       "    </tr>\n",
       "    <tr>\n",
       "      <th>release_year</th>\n",
       "      <th></th>\n",
       "    </tr>\n",
       "  </thead>\n",
       "  <tbody>\n",
       "    <tr>\n",
       "      <th>1960</th>\n",
       "      <td>Thriller</td>\n",
       "    </tr>\n",
       "    <tr>\n",
       "      <th>1961</th>\n",
       "      <td>Animation</td>\n",
       "    </tr>\n",
       "    <tr>\n",
       "      <th>1962</th>\n",
       "      <td>Adventure</td>\n",
       "    </tr>\n",
       "    <tr>\n",
       "      <th>1963</th>\n",
       "      <td>Animation</td>\n",
       "    </tr>\n",
       "    <tr>\n",
       "      <th>1964</th>\n",
       "      <td>War</td>\n",
       "    </tr>\n",
       "    <tr>\n",
       "      <th>1965</th>\n",
       "      <td>Music</td>\n",
       "    </tr>\n",
       "    <tr>\n",
       "      <th>1966</th>\n",
       "      <td>Animation</td>\n",
       "    </tr>\n",
       "    <tr>\n",
       "      <th>1967</th>\n",
       "      <td>Animation</td>\n",
       "    </tr>\n",
       "    <tr>\n",
       "      <th>1968</th>\n",
       "      <td>Mystery</td>\n",
       "    </tr>\n",
       "    <tr>\n",
       "      <th>1969</th>\n",
       "      <td>Crime</td>\n",
       "    </tr>\n",
       "    <tr>\n",
       "      <th>1970</th>\n",
       "      <td>Animation</td>\n",
       "    </tr>\n",
       "    <tr>\n",
       "      <th>1971</th>\n",
       "      <td>Family</td>\n",
       "    </tr>\n",
       "    <tr>\n",
       "      <th>1972</th>\n",
       "      <td>Crime</td>\n",
       "    </tr>\n",
       "    <tr>\n",
       "      <th>1973</th>\n",
       "      <td>Animation</td>\n",
       "    </tr>\n",
       "    <tr>\n",
       "      <th>1974</th>\n",
       "      <td>Mystery</td>\n",
       "    </tr>\n",
       "    <tr>\n",
       "      <th>1975</th>\n",
       "      <td>Adventure</td>\n",
       "    </tr>\n",
       "    <tr>\n",
       "      <th>1976</th>\n",
       "      <td>Crime</td>\n",
       "    </tr>\n",
       "    <tr>\n",
       "      <th>1977</th>\n",
       "      <td>Action</td>\n",
       "    </tr>\n",
       "    <tr>\n",
       "      <th>1978</th>\n",
       "      <td>Music</td>\n",
       "    </tr>\n",
       "    <tr>\n",
       "      <th>1979</th>\n",
       "      <td>Action</td>\n",
       "    </tr>\n",
       "    <tr>\n",
       "      <th>1980</th>\n",
       "      <td>Science Fiction</td>\n",
       "    </tr>\n",
       "    <tr>\n",
       "      <th>1981</th>\n",
       "      <td>Adventure</td>\n",
       "    </tr>\n",
       "    <tr>\n",
       "      <th>1982</th>\n",
       "      <td>War</td>\n",
       "    </tr>\n",
       "    <tr>\n",
       "      <th>1983</th>\n",
       "      <td>Adventure</td>\n",
       "    </tr>\n",
       "    <tr>\n",
       "      <th>1984</th>\n",
       "      <td>Family</td>\n",
       "    </tr>\n",
       "    <tr>\n",
       "      <th>1985</th>\n",
       "      <td>Family</td>\n",
       "    </tr>\n",
       "    <tr>\n",
       "      <th>1986</th>\n",
       "      <td>Adventure</td>\n",
       "    </tr>\n",
       "    <tr>\n",
       "      <th>1987</th>\n",
       "      <td>History</td>\n",
       "    </tr>\n",
       "    <tr>\n",
       "      <th>1988</th>\n",
       "      <td>Action</td>\n",
       "    </tr>\n",
       "    <tr>\n",
       "      <th>1989</th>\n",
       "      <td>Animation</td>\n",
       "    </tr>\n",
       "    <tr>\n",
       "      <th>1990</th>\n",
       "      <td>Adventure</td>\n",
       "    </tr>\n",
       "    <tr>\n",
       "      <th>1991</th>\n",
       "      <td>Animation</td>\n",
       "    </tr>\n",
       "    <tr>\n",
       "      <th>1992</th>\n",
       "      <td>Animation</td>\n",
       "    </tr>\n",
       "    <tr>\n",
       "      <th>1993</th>\n",
       "      <td>Fantasy</td>\n",
       "    </tr>\n",
       "    <tr>\n",
       "      <th>1994</th>\n",
       "      <td>Crime</td>\n",
       "    </tr>\n",
       "    <tr>\n",
       "      <th>1995</th>\n",
       "      <td>Animation</td>\n",
       "    </tr>\n",
       "    <tr>\n",
       "      <th>1996</th>\n",
       "      <td>Crime</td>\n",
       "    </tr>\n",
       "    <tr>\n",
       "      <th>1997</th>\n",
       "      <td>Science Fiction</td>\n",
       "    </tr>\n",
       "    <tr>\n",
       "      <th>1998</th>\n",
       "      <td>War</td>\n",
       "    </tr>\n",
       "    <tr>\n",
       "      <th>1999</th>\n",
       "      <td>Adventure</td>\n",
       "    </tr>\n",
       "    <tr>\n",
       "      <th>2000</th>\n",
       "      <td>Adventure</td>\n",
       "    </tr>\n",
       "    <tr>\n",
       "      <th>2001</th>\n",
       "      <td>Fantasy</td>\n",
       "    </tr>\n",
       "    <tr>\n",
       "      <th>2002</th>\n",
       "      <td>Fantasy</td>\n",
       "    </tr>\n",
       "    <tr>\n",
       "      <th>2003</th>\n",
       "      <td>Fantasy</td>\n",
       "    </tr>\n",
       "    <tr>\n",
       "      <th>2004</th>\n",
       "      <td>Fantasy</td>\n",
       "    </tr>\n",
       "    <tr>\n",
       "      <th>2005</th>\n",
       "      <td>Fantasy</td>\n",
       "    </tr>\n",
       "    <tr>\n",
       "      <th>2006</th>\n",
       "      <td>Fantasy</td>\n",
       "    </tr>\n",
       "    <tr>\n",
       "      <th>2007</th>\n",
       "      <td>Fantasy</td>\n",
       "    </tr>\n",
       "    <tr>\n",
       "      <th>2008</th>\n",
       "      <td>Adventure</td>\n",
       "    </tr>\n",
       "    <tr>\n",
       "      <th>2009</th>\n",
       "      <td>Adventure</td>\n",
       "    </tr>\n",
       "    <tr>\n",
       "      <th>2010</th>\n",
       "      <td>Adventure</td>\n",
       "    </tr>\n",
       "    <tr>\n",
       "      <th>2011</th>\n",
       "      <td>Western</td>\n",
       "    </tr>\n",
       "    <tr>\n",
       "      <th>2012</th>\n",
       "      <td>Western</td>\n",
       "    </tr>\n",
       "    <tr>\n",
       "      <th>2013</th>\n",
       "      <td>Adventure</td>\n",
       "    </tr>\n",
       "    <tr>\n",
       "      <th>2014</th>\n",
       "      <td>Adventure</td>\n",
       "    </tr>\n",
       "    <tr>\n",
       "      <th>2015</th>\n",
       "      <td>Adventure</td>\n",
       "    </tr>\n",
       "  </tbody>\n",
       "</table>\n",
       "</div>"
      ],
      "text/plain": [
       "                       genres\n",
       "release_year                 \n",
       "1960                 Thriller\n",
       "1961                Animation\n",
       "1962                Adventure\n",
       "1963                Animation\n",
       "1964                      War\n",
       "1965                    Music\n",
       "1966                Animation\n",
       "1967                Animation\n",
       "1968                  Mystery\n",
       "1969                    Crime\n",
       "1970                Animation\n",
       "1971                   Family\n",
       "1972                    Crime\n",
       "1973                Animation\n",
       "1974                  Mystery\n",
       "1975                Adventure\n",
       "1976                    Crime\n",
       "1977                   Action\n",
       "1978                    Music\n",
       "1979                   Action\n",
       "1980          Science Fiction\n",
       "1981                Adventure\n",
       "1982                      War\n",
       "1983                Adventure\n",
       "1984                   Family\n",
       "1985                   Family\n",
       "1986                Adventure\n",
       "1987                  History\n",
       "1988                   Action\n",
       "1989                Animation\n",
       "1990                Adventure\n",
       "1991                Animation\n",
       "1992                Animation\n",
       "1993                  Fantasy\n",
       "1994                    Crime\n",
       "1995                Animation\n",
       "1996                    Crime\n",
       "1997          Science Fiction\n",
       "1998                      War\n",
       "1999                Adventure\n",
       "2000                Adventure\n",
       "2001                  Fantasy\n",
       "2002                  Fantasy\n",
       "2003                  Fantasy\n",
       "2004                  Fantasy\n",
       "2005                  Fantasy\n",
       "2006                  Fantasy\n",
       "2007                  Fantasy\n",
       "2008                Adventure\n",
       "2009                Adventure\n",
       "2010                Adventure\n",
       "2011                  Western\n",
       "2012                  Western\n",
       "2013                Adventure\n",
       "2014                Adventure\n",
       "2015                Adventure"
      ]
     },
     "metadata": {},
     "output_type": "display_data"
    }
   ],
   "source": [
    "display(df_pop_genre_by_year[['genres']])"
   ]
  },
  {
   "cell_type": "markdown",
   "metadata": {},
   "source": [
    "### Which are the most popular genres in overall?\n",
    "\n",
    "Now we have a list with the most popular genre for each year of information. Lets keep researching and lets count for each genre in how many years its been the most popular so we can determine which genres are usually more popular"
   ]
  },
  {
   "cell_type": "code",
   "execution_count": 47,
   "metadata": {},
   "outputs": [
    {
     "data": {
      "text/html": [
       "<div>\n",
       "<style scoped>\n",
       "    .dataframe tbody tr th:only-of-type {\n",
       "        vertical-align: middle;\n",
       "    }\n",
       "\n",
       "    .dataframe tbody tr th {\n",
       "        vertical-align: top;\n",
       "    }\n",
       "\n",
       "    .dataframe thead th {\n",
       "        text-align: right;\n",
       "    }\n",
       "</style>\n",
       "<table border=\"1\" class=\"dataframe\">\n",
       "  <thead>\n",
       "    <tr style=\"text-align: right;\">\n",
       "      <th></th>\n",
       "      <th>popularity</th>\n",
       "    </tr>\n",
       "    <tr>\n",
       "      <th>genres</th>\n",
       "      <th></th>\n",
       "    </tr>\n",
       "  </thead>\n",
       "  <tbody>\n",
       "    <tr>\n",
       "      <th>Action</th>\n",
       "      <td>3</td>\n",
       "    </tr>\n",
       "    <tr>\n",
       "      <th>Adventure</th>\n",
       "      <td>14</td>\n",
       "    </tr>\n",
       "    <tr>\n",
       "      <th>Animation</th>\n",
       "      <td>10</td>\n",
       "    </tr>\n",
       "    <tr>\n",
       "      <th>Crime</th>\n",
       "      <td>5</td>\n",
       "    </tr>\n",
       "    <tr>\n",
       "      <th>Family</th>\n",
       "      <td>3</td>\n",
       "    </tr>\n",
       "    <tr>\n",
       "      <th>Fantasy</th>\n",
       "      <td>8</td>\n",
       "    </tr>\n",
       "    <tr>\n",
       "      <th>History</th>\n",
       "      <td>1</td>\n",
       "    </tr>\n",
       "    <tr>\n",
       "      <th>Music</th>\n",
       "      <td>2</td>\n",
       "    </tr>\n",
       "    <tr>\n",
       "      <th>Mystery</th>\n",
       "      <td>2</td>\n",
       "    </tr>\n",
       "    <tr>\n",
       "      <th>Science Fiction</th>\n",
       "      <td>2</td>\n",
       "    </tr>\n",
       "    <tr>\n",
       "      <th>Thriller</th>\n",
       "      <td>1</td>\n",
       "    </tr>\n",
       "    <tr>\n",
       "      <th>War</th>\n",
       "      <td>3</td>\n",
       "    </tr>\n",
       "    <tr>\n",
       "      <th>Western</th>\n",
       "      <td>2</td>\n",
       "    </tr>\n",
       "  </tbody>\n",
       "</table>\n",
       "</div>"
      ],
      "text/plain": [
       "                 popularity\n",
       "genres                     \n",
       "Action                    3\n",
       "Adventure                14\n",
       "Animation                10\n",
       "Crime                     5\n",
       "Family                    3\n",
       "Fantasy                   8\n",
       "History                   1\n",
       "Music                     2\n",
       "Mystery                   2\n",
       "Science Fiction           2\n",
       "Thriller                  1\n",
       "War                       3\n",
       "Western                   2"
      ]
     },
     "execution_count": 47,
     "metadata": {},
     "output_type": "execute_result"
    }
   ],
   "source": [
    "df_pop_genre_by_year.groupby('genres').count()"
   ]
  },
  {
   "cell_type": "code",
   "execution_count": 114,
   "metadata": {},
   "outputs": [
    {
     "data": {
      "image/png": "[encoded data removed]",
      "text/plain": [
       "<matplotlib.figure.Figure at 0x1a0b415e48>"
      ]
     },
     "metadata": {},
     "output_type": "display_data"
    }
   ],
   "source": [
    "df_pop_genre_by_year.groupby('genres').count().plot(kind='bar', title='Number of times each genre has been the most popular in a year');"
   ]
  },
  {
   "cell_type": "markdown",
   "metadata": {},
   "source": [
    "It looks like the top 3 of the most popular genres year by year are the following genres:\n",
    "<br><b>1 - Adventure</b>\n",
    "<br><b>2 - Animation</b>\n",
    "<br><b>3 - Fantasy</b>"
   ]
  },
  {
   "cell_type": "markdown",
   "metadata": {},
   "source": [
    "### For the most popular genre in the first year how was the evolution of its popularity?\n",
    "\n",
    "From our previous analysis we know the first year of information is 1960, and the most popular genre for 1960 was <b>Thriller</b>. <br>\n",
    "We are going to filter the popularity by year dataframe for viwing the evolution of the \"Thriller\" movies popularity"
   ]
  },
  {
   "cell_type": "code",
   "execution_count": 112,
   "metadata": {},
   "outputs": [
    {
     "data": {
      "image/png": "[encoded data removed]",
      "text/plain": [
       "<matplotlib.figure.Figure at 0x1a0ad823c8>"
      ]
     },
     "metadata": {},
     "output_type": "display_data"
    }
   ],
   "source": [
    "# We are using our datarame that host the mean popularity by genre by year, \n",
    "# and filter for those with the genre = Thriller\n",
    "df_thriller = df_pop_by_year.loc[df_pop_by_year['genres'] == 'Thriller']\n",
    "df_thriller.plot(x=\"release_year\",y='popularity', title='Thriller - Popularity Evolution through years');\n",
    "plt.xlabel('Release year')\n",
    "plt.ylabel('Popularity');"
   ]
  },
  {
   "cell_type": "markdown",
   "metadata": {},
   "source": [
    "### For the most popular genre in the last year how was the evolution of its popularity?\n",
    "\n",
    "From our previous analysis we know the last year of information is 2015, and the most popular genre for 2015 was <b>Adventure</b>. <br>\n",
    "We are going to filter the popularity by year dataframe for viwing the evolution of the \"Adventure\" movies popularity"
   ]
  },
  {
   "cell_type": "code",
   "execution_count": 110,
   "metadata": {},
   "outputs": [
    {
     "data": {
      "image/png": "[encoded data removed]",
      "text/plain": [
       "<matplotlib.figure.Figure at 0x1a0b43c1d0>"
      ]
     },
     "metadata": {},
     "output_type": "display_data"
    }
   ],
   "source": [
    "# We are using our datarame that host the mean popularity by genre by year, \n",
    "# and filter for those with the genre = Adventure\n",
    "\n",
    "df_adventure = df_pop_by_year.loc[df_pop_by_year['genres'] == 'Adventure']\n",
    "df_adventure.plot(x=\"release_year\",y='popularity', title='Adventure - Popularity Evolution through years');\n",
    "plt.xlabel('Release year')\n",
    "plt.ylabel('Popularity');"
   ]
  },
  {
   "cell_type": "markdown",
   "metadata": {},
   "source": [
    "It looks like the popularity for both genres has increased from 1960 and 2010, lets try to put them together to have a better comparision in a single graph"
   ]
  },
  {
   "cell_type": "code",
   "execution_count": 111,
   "metadata": {},
   "outputs": [
    {
     "data": {
      "image/png": "[encoded data removed]",
      "text/plain": [
       "<matplotlib.figure.Figure at 0x1a0b54fa90>"
      ]
     },
     "metadata": {},
     "output_type": "display_data"
    }
   ],
   "source": [
    "df_pop_by_year[df_pop_by_year['genres'] \\\n",
    "               .isin(['Adventure','Thriller'])] \\\n",
    ".groupby('genres')['popularity'] \\\n",
    ".plot(x=\"release_year\", y='popularity', title='Adventure & Thriller - Popularity Evolution through years')\n",
    "plt.xlabel('Release Year')\n",
    "plt.ylabel('Popularity');\n"
   ]
  },
  {
   "cell_type": "markdown",
   "metadata": {},
   "source": [
    "We can clearly see in this graph, that even though the popularity of both genres has been increasing over the years, the increment of popularity for \"Adventure\" movies has been way higher, starting to make a big difference in between 1990 and 2000"
   ]
  },
  {
   "cell_type": "markdown",
   "metadata": {},
   "source": [
    "### How is the distribution of movies making revenue vs loosing money?\n",
    "\n",
    "We are going to compare the movies for which the budget is bigger than the revenue. <br>\n",
    "Since we have many rows with no revenue or budget values first we are going to clean up our dataframe"
   ]
  },
  {
   "cell_type": "code",
   "execution_count": 52,
   "metadata": {
    "collapsed": true
   },
   "outputs": [],
   "source": [
    "df = df[df.revenue != 0]\n",
    "df = df[df.budget != 0]"
   ]
  },
  {
   "cell_type": "code",
   "execution_count": 53,
   "metadata": {},
   "outputs": [
    {
     "data": {
      "text/plain": [
       "0"
      ]
     },
     "execution_count": 53,
     "metadata": {},
     "output_type": "execute_result"
    }
   ],
   "source": [
    "len(df[df.revenue == 0])"
   ]
  },
  {
   "cell_type": "code",
   "execution_count": 54,
   "metadata": {},
   "outputs": [
    {
     "data": {
      "text/plain": [
       "0"
      ]
     },
     "execution_count": 54,
     "metadata": {},
     "output_type": "execute_result"
    }
   ],
   "source": [
    "len(df[df.budget == 0])"
   ]
  },
  {
   "cell_type": "code",
   "execution_count": 55,
   "metadata": {},
   "outputs": [
    {
     "data": {
      "text/plain": [
       "(3854, 14)"
      ]
     },
     "execution_count": 55,
     "metadata": {},
     "output_type": "execute_result"
    }
   ],
   "source": [
    "df.shape"
   ]
  },
  {
   "cell_type": "code",
   "execution_count": 56,
   "metadata": {},
   "outputs": [
    {
     "name": "stdout",
     "output_type": "stream",
     "text": [
      "1072\n",
      "2778\n",
      "4\n"
     ]
    }
   ],
   "source": [
    "loosing_money_movies = df[df.budget>df.revenue]\n",
    "making_monew_movies = df[df.revenue>df.budget]\n",
    "even_movies = df[df.revenue==df.budget]\n",
    "\n",
    "print(len(loosing_money_movies))\n",
    "print(len(making_monew_movies))\n",
    "print(len(even_movies))"
   ]
  },
  {
   "cell_type": "markdown",
   "metadata": {},
   "source": [
    "It looks like from 3854 movies with revenue and budget information we have 1072 that loose money, 2778 that make any revenue and 4 that are even. Lets see some more details about those 4"
   ]
  },
  {
   "cell_type": "code",
   "execution_count": 57,
   "metadata": {
    "scrolled": false
   },
   "outputs": [
    {
     "data": {
      "text/html": [
       "<div>\n",
       "<style scoped>\n",
       "    .dataframe tbody tr th:only-of-type {\n",
       "        vertical-align: middle;\n",
       "    }\n",
       "\n",
       "    .dataframe tbody tr th {\n",
       "        vertical-align: top;\n",
       "    }\n",
       "\n",
       "    .dataframe thead th {\n",
       "        text-align: right;\n",
       "    }\n",
       "</style>\n",
       "<table border=\"1\" class=\"dataframe\">\n",
       "  <thead>\n",
       "    <tr style=\"text-align: right;\">\n",
       "      <th></th>\n",
       "      <th>id</th>\n",
       "      <th>popularity</th>\n",
       "      <th>original_title</th>\n",
       "      <th>cast</th>\n",
       "      <th>director</th>\n",
       "      <th>runtime</th>\n",
       "      <th>genres</th>\n",
       "      <th>production_companies</th>\n",
       "      <th>release_date</th>\n",
       "      <th>vote_count</th>\n",
       "      <th>vote_average</th>\n",
       "      <th>release_year</th>\n",
       "      <th>budget</th>\n",
       "      <th>revenue</th>\n",
       "    </tr>\n",
       "  </thead>\n",
       "  <tbody>\n",
       "    <tr>\n",
       "      <th>5198</th>\n",
       "      <td>16930</td>\n",
       "      <td>0.126182</td>\n",
       "      <td>Les Clefs de bagnole</td>\n",
       "      <td>Laurent Baffie|Daniel Russo|Pascal Sellem|GÃ©r...</td>\n",
       "      <td>Laurent Baffie</td>\n",
       "      <td>90.0</td>\n",
       "      <td>Comedy</td>\n",
       "      <td>Laurent Baffie Productions</td>\n",
       "      <td>2003-12-10</td>\n",
       "      <td>12</td>\n",
       "      <td>4.8</td>\n",
       "      <td>2003</td>\n",
       "      <td>674722.876405</td>\n",
       "      <td>674722.876405</td>\n",
       "    </tr>\n",
       "    <tr>\n",
       "      <th>7250</th>\n",
       "      <td>20200</td>\n",
       "      <td>0.082116</td>\n",
       "      <td>Narco</td>\n",
       "      <td>Guillaume Canet|Zabou Breitman|Guillaume Galli...</td>\n",
       "      <td>Tristan Aurouet|Gilles Lellouche</td>\n",
       "      <td>105.0</td>\n",
       "      <td>Comedy</td>\n",
       "      <td>StudioCanal|M6 Films|Les Productions du TrÃ©so...</td>\n",
       "      <td>2004-12-01</td>\n",
       "      <td>26</td>\n",
       "      <td>5.8</td>\n",
       "      <td>2004</td>\n",
       "      <td>950406.410959</td>\n",
       "      <td>950406.410959</td>\n",
       "    </tr>\n",
       "    <tr>\n",
       "      <th>7813</th>\n",
       "      <td>22887</td>\n",
       "      <td>0.065543</td>\n",
       "      <td>Loose Change: Final Cut</td>\n",
       "      <td>NaN</td>\n",
       "      <td>Dylan Avery</td>\n",
       "      <td>129.0</td>\n",
       "      <td>Documentary</td>\n",
       "      <td>Louder Than Words</td>\n",
       "      <td>2007-11-11</td>\n",
       "      <td>12</td>\n",
       "      <td>5.1</td>\n",
       "      <td>2007</td>\n",
       "      <td>6310.011496</td>\n",
       "      <td>6310.011496</td>\n",
       "    </tr>\n",
       "    <tr>\n",
       "      <th>10777</th>\n",
       "      <td>28932</td>\n",
       "      <td>0.439210</td>\n",
       "      <td>F.I.S.T.</td>\n",
       "      <td>Sylvester Stallone|Rod Steiger|Peter Boyle|Mel...</td>\n",
       "      <td>Norman Jewison</td>\n",
       "      <td>145.0</td>\n",
       "      <td>Drama|Action</td>\n",
       "      <td>chateau productions</td>\n",
       "      <td>1978-04-26</td>\n",
       "      <td>13</td>\n",
       "      <td>6.7</td>\n",
       "      <td>1978</td>\n",
       "      <td>36.769708</td>\n",
       "      <td>36.769708</td>\n",
       "    </tr>\n",
       "  </tbody>\n",
       "</table>\n",
       "</div>"
      ],
      "text/plain": [
       "          id  popularity           original_title  \\\n",
       "5198   16930    0.126182     Les Clefs de bagnole   \n",
       "7250   20200    0.082116                    Narco   \n",
       "7813   22887    0.065543  Loose Change: Final Cut   \n",
       "10777  28932    0.439210                 F.I.S.T.   \n",
       "\n",
       "                                                    cast  \\\n",
       "5198   Laurent Baffie|Daniel Russo|Pascal Sellem|GÃ©r...   \n",
       "7250   Guillaume Canet|Zabou Breitman|Guillaume Galli...   \n",
       "7813                                                 NaN   \n",
       "10777  Sylvester Stallone|Rod Steiger|Peter Boyle|Mel...   \n",
       "\n",
       "                               director  runtime        genres  \\\n",
       "5198                     Laurent Baffie     90.0        Comedy   \n",
       "7250   Tristan Aurouet|Gilles Lellouche    105.0        Comedy   \n",
       "7813                        Dylan Avery    129.0   Documentary   \n",
       "10777                    Norman Jewison    145.0  Drama|Action   \n",
       "\n",
       "                                    production_companies release_date  \\\n",
       "5198                          Laurent Baffie Productions   2003-12-10   \n",
       "7250   StudioCanal|M6 Films|Les Productions du TrÃ©so...   2004-12-01   \n",
       "7813                                   Louder Than Words   2007-11-11   \n",
       "10777                                chateau productions   1978-04-26   \n",
       "\n",
       "       vote_count  vote_average  release_year         budget        revenue  \n",
       "5198           12           4.8          2003  674722.876405  674722.876405  \n",
       "7250           26           5.8          2004  950406.410959  950406.410959  \n",
       "7813           12           5.1          2007    6310.011496    6310.011496  \n",
       "10777          13           6.7          1978      36.769708      36.769708  "
      ]
     },
     "execution_count": 57,
     "metadata": {},
     "output_type": "execute_result"
    }
   ],
   "source": [
    "even_movies"
   ]
  },
  {
   "cell_type": "markdown",
   "metadata": {},
   "source": [
    "We were supecious that the budget or revenue values might be incompleted, in this case we have values for them, and even though its very unlikely a movie would make the same budget and revenue even at a decimal level, we have to trust our data.... or don't we?\n",
    "\n",
    "<br>\n",
    "Lets visualize this in a bar graph to have a better idea of the distribution"
   ]
  },
  {
   "cell_type": "code",
   "execution_count": 58,
   "metadata": {
    "collapsed": true
   },
   "outputs": [],
   "source": [
    "d = {'making_money': [len(making_monew_movies)], 'loosing_money': [len(loosing_money_movies)], \"even\":[len(even_movies)]}\n",
    "d_aux = pd.DataFrame(data=d);\n"
   ]
  },
  {
   "cell_type": "code",
   "execution_count": 59,
   "metadata": {
    "scrolled": true
   },
   "outputs": [
    {
     "data": {
      "image/png": "[encoded data removed]",
      "text/plain": [
       "<matplotlib.figure.Figure at 0x1a13b35a58>"
      ]
     },
     "metadata": {},
     "output_type": "display_data"
    }
   ],
   "source": [
    "d_aux.plot(kind='bar', title='Movies Distribution by making or loosing money')\n",
    "plt.ylabel('Num. Movies');"
   ]
  },
  {
   "cell_type": "markdown",
   "metadata": {},
   "source": [
    "This is a good graph showing the distribution of movies by those which make or loose money. Next we will focus on the properties for the movies with high revenue values"
   ]
  },
  {
   "cell_type": "markdown",
   "metadata": {},
   "source": [
    "### What kinds of properties are associated with movies that have high revenues?"
   ]
  },
  {
   "cell_type": "markdown",
   "metadata": {},
   "source": [
    "We are going to analyse the Revenue property against a set of other properties trying to find correlations or patterns in a way that we can predict if a movie will have a high revenue in the future \n",
    "\n",
    "we are going to compare:\n",
    "- revenue vs popularity in tMDB database\n",
    "- revenue vs budget \n",
    "- revenue vs vote average\n",
    "- revenue by genre \n"
   ]
  },
  {
   "cell_type": "markdown",
   "metadata": {},
   "source": [
    "First we will be removing from our dataframe those movies for which we have no revenue information. We are going to use our dataframe by genre because we want to see if any genre in particular has a correlation with the movie revenue"
   ]
  },
  {
   "cell_type": "code",
   "execution_count": 60,
   "metadata": {},
   "outputs": [
    {
     "data": {
      "text/plain": [
       "(12664, 14)"
      ]
     },
     "execution_count": 60,
     "metadata": {},
     "output_type": "execute_result"
    }
   ],
   "source": [
    "df_by_genre = df_by_genre[df_by_genre.revenue != 0]\n",
    "df_by_genre.shape"
   ]
  },
  {
   "cell_type": "markdown",
   "metadata": {},
   "source": [
    "#### Defining high Revenue Movies\n",
    "For this analysis we are going to define high revenue movies those movies making more revenue than the mean. We can reduce the group to movies making revenue in the 75% percentil if we don't get good results. \n",
    "<br>\n",
    "<br>\n",
    "Lets get the mean of the revenue field so we can split movies with a higher and lower revenue than the mean.\n",
    "We will be using the dataframe by gender because we want to check if any gender in particular is related with a higher revenue"
   ]
  },
  {
   "cell_type": "code",
   "execution_count": 61,
   "metadata": {},
   "outputs": [
    {
     "data": {
      "text/plain": [
       "129602508.3046063"
      ]
     },
     "execution_count": 61,
     "metadata": {},
     "output_type": "execute_result"
    }
   ],
   "source": [
    "df_by_genre.revenue.mean()"
   ]
  },
  {
   "cell_type": "code",
   "execution_count": 62,
   "metadata": {
    "scrolled": true
   },
   "outputs": [
    {
     "name": "stdout",
     "output_type": "stream",
     "text": [
      "Low revenue movies dataframe:  (9072, 14)\n",
      "High revenue movies dataframe:  (3592, 14)\n"
     ]
    }
   ],
   "source": [
    "low_revenue = df_by_genre[df_by_genre.revenue < df_by_genre.revenue.mean()]\n",
    "high_revenue = df_by_genre[df_by_genre.revenue > df_by_genre.revenue.mean()]\n",
    "\n",
    "print(\"Low revenue movies dataframe: \", low_revenue.shape)\n",
    "print(\"High revenue movies dataframe: \", high_revenue.shape)"
   ]
  },
  {
   "cell_type": "markdown",
   "metadata": {},
   "source": [
    "Now we have 2 dataframes with the movies splitted by the revenue. <br>\n",
    "We have 9072 entries for movies with a revenue lower than the mean, and 3529 entries for movies with a revenue higher than the mean.\n",
    "<br>\n",
    "\n",
    "Since the dataframe is splitted by gender lets check how many individual movies we have in each dataframe. We are using the dataframe with rows duplicated by genre, so lets get the unique ids for each of them"
   ]
  },
  {
   "cell_type": "code",
   "execution_count": 63,
   "metadata": {},
   "outputs": [
    {
     "data": {
      "text/plain": [
       "3625"
      ]
     },
     "execution_count": 63,
     "metadata": {},
     "output_type": "execute_result"
    }
   ],
   "source": [
    "len(low_revenue.id.unique())"
   ]
  },
  {
   "cell_type": "code",
   "execution_count": 64,
   "metadata": {},
   "outputs": [
    {
     "data": {
      "text/plain": [
       "1224"
      ]
     },
     "execution_count": 64,
     "metadata": {},
     "output_type": "execute_result"
    }
   ],
   "source": [
    "len(high_revenue.id.unique())"
   ]
  },
  {
   "cell_type": "markdown",
   "metadata": {},
   "source": [
    "It looks like we have 3 times more movies below the revenue mean than above the revenu mean. <br>\n",
    "Lets see an histogram for each of this groups of movies trying to identify differences in any propertie"
   ]
  },
  {
   "cell_type": "code",
   "execution_count": 65,
   "metadata": {},
   "outputs": [
    {
     "data": {
      "image/png": "[encoded data removed]",
      "text/plain": [
       "<matplotlib.figure.Figure at 0x1a0b538978>"
      ]
     },
     "metadata": {},
     "output_type": "display_data"
    },
    {
     "data": {
      "image/png": "[encoded data removed]",
      "text/plain": [
       "<matplotlib.figure.Figure at 0x1a0b452550>"
      ]
     },
     "metadata": {},
     "output_type": "display_data"
    }
   ],
   "source": [
    "low_revenue.hist(figsize=(15,15));\n",
    "high_revenue.hist(figsize=(15,15));"
   ]
  },
  {
   "cell_type": "markdown",
   "metadata": {},
   "source": [
    "Comparing the histograms we can see the following differences:\n",
    "- <b>Budget:</b> In both dataframes its skewed to the right, but in the dataframe with high revenue movies its more distributed. This gives us un idea that movies with higher budget are getting higher revenu\n",
    "- <b>Popularity:</b> Looks pretty similar in both dataframes with most of the movies having low popularity values.\n",
    "- <b>Release Year:</b> Looks pretty similar in both dataframes, skewed to the left. \n",
    "- <b>Vote Average:</b> Looks pretty similar in both dataframes, with a normal distribution. \n",
    "\n",
    "We don't see many differences comparing the histograms for both groups besides the budget, so we will dig deeper in each property to find some more info\n"
   ]
  },
  {
   "cell_type": "markdown",
   "metadata": {},
   "source": [
    "#### Budget \n",
    "\n",
    "It looks like the budget might be a property correlated with the revenue. <br>\n",
    "Lets calculate the mean for budget in both groups of movies"
   ]
  },
  {
   "cell_type": "code",
   "execution_count": 66,
   "metadata": {},
   "outputs": [
    {
     "data": {
      "text/plain": [
       "23356425.533031672"
      ]
     },
     "execution_count": 66,
     "metadata": {},
     "output_type": "execute_result"
    }
   ],
   "source": [
    "low_revenue.budget.mean()"
   ]
  },
  {
   "cell_type": "code",
   "execution_count": 67,
   "metadata": {},
   "outputs": [
    {
     "data": {
      "text/plain": [
       "83092804.42963071"
      ]
     },
     "execution_count": 67,
     "metadata": {},
     "output_type": "execute_result"
    }
   ],
   "source": [
    "high_revenue.budget.mean()"
   ]
  },
  {
   "cell_type": "markdown",
   "metadata": {},
   "source": [
    "Effectevily the budget mean is almost 4 times higher in high revenue movies, so this is a good indicator for a start, the more you spend the more you win.\n",
    "<br>\n",
    "Lets calculate the correlation between revenue and budget to verify this conclusion"
   ]
  },
  {
   "cell_type": "code",
   "execution_count": 68,
   "metadata": {
    "collapsed": true
   },
   "outputs": [],
   "source": [
    "def correlation(x, y):\n",
    "    '''\n",
    "    Fill in this function to compute the correlation between the two\n",
    "    input variables. Each input is either a NumPy array or a Pandas\n",
    "    Series.\n",
    "    \n",
    "    correlation = average of (x in standard units) times (y in standard units)\n",
    "    \n",
    "    Remember to pass the argument \"ddof=0\" to the Pandas std() function!\n",
    "    '''\n",
    "\n",
    "    std_x = (x - x.mean()) / x.std(ddof=0)\n",
    "    std_y = (y - y.mean()) / y.std(ddof=0)\n",
    "    return (std_x*std_y).mean()"
   ]
  },
  {
   "cell_type": "code",
   "execution_count": 69,
   "metadata": {},
   "outputs": [
    {
     "data": {
      "text/plain": [
       "0.6553242399123735"
      ]
     },
     "execution_count": 69,
     "metadata": {},
     "output_type": "execute_result"
    }
   ],
   "source": [
    "correlation(df_by_genre.revenue, df.budget)"
   ]
  },
  {
   "cell_type": "markdown",
   "metadata": {},
   "source": [
    "It looks like we have a correlation, and it's positive, which confirms that movies with higher budgets usually make more revenue.<br>\n",
    "Lets take a quick look at the data to see how it looks like"
   ]
  },
  {
   "cell_type": "code",
   "execution_count": 70,
   "metadata": {
    "scrolled": true
   },
   "outputs": [
    {
     "data": {
      "image/png": "[encoded data removed]",
      "text/plain": [
       "<matplotlib.figure.Figure at 0x1a0b4392b0>"
      ]
     },
     "metadata": {},
     "output_type": "display_data"
    }
   ],
   "source": [
    "high_revenue.plot(title = 'High Revenue Movies - Revenue/Budget', color = 'green',x = \"revenue\", y = \"budget\", kind=\"scatter\");"
   ]
  },
  {
   "cell_type": "code",
   "execution_count": 71,
   "metadata": {},
   "outputs": [
    {
     "data": {
      "image/png": "[encoded data removed]",
      "text/plain": [
       "<matplotlib.figure.Figure at 0x1a0ad59240>"
      ]
     },
     "metadata": {},
     "output_type": "display_data"
    }
   ],
   "source": [
    "low_revenue.plot(title = 'Low Revenue Movies - Revenue/Budget', color = 'red', x = \"revenue\", y = \"budget\", kind=\"scatter\");"
   ]
  },
  {
   "cell_type": "markdown",
   "metadata": {},
   "source": [
    "Comparing these 2 graphs we can see that most of the movies with low revenue have low budgets, there are exceptions of course, that would be interesting to analyse. "
   ]
  },
  {
   "cell_type": "code",
   "execution_count": 72,
   "metadata": {
    "scrolled": true
   },
   "outputs": [
    {
     "data": {
      "image/png": "[encoded data removed]",
      "text/plain": [
       "<matplotlib.figure.Figure at 0x1a0aaf5080>"
      ]
     },
     "metadata": {},
     "output_type": "display_data"
    }
   ],
   "source": [
    "df_by_genre.plot(title = 'All Movies - Revenue/Budget', color='blue', x = \"revenue\", y = \"budget\", kind=\"scatter\");"
   ]
  },
  {
   "cell_type": "markdown",
   "metadata": {},
   "source": [
    "Viewing a graph from all movies by genre with revenue values we can see the positive correlation more clearly"
   ]
  },
  {
   "cell_type": "markdown",
   "metadata": {},
   "source": [
    "#### Popularity\n",
    "\n",
    "We are going to repeat the process and analyse the revenue vs the popularity of a movie in tmdb database"
   ]
  },
  {
   "cell_type": "code",
   "execution_count": 73,
   "metadata": {},
   "outputs": [
    {
     "data": {
      "text/plain": [
       "0.7269562970678995"
      ]
     },
     "execution_count": 73,
     "metadata": {},
     "output_type": "execute_result"
    }
   ],
   "source": [
    "low_revenue.popularity.mean()"
   ]
  },
  {
   "cell_type": "code",
   "execution_count": 74,
   "metadata": {},
   "outputs": [
    {
     "data": {
      "text/plain": [
       "2.1028635192093557"
      ]
     },
     "execution_count": 74,
     "metadata": {},
     "output_type": "execute_result"
    }
   ],
   "source": [
    "high_revenue.popularity.mean()"
   ]
  },
  {
   "cell_type": "markdown",
   "metadata": {},
   "source": [
    "Popularity seems to be higher in high revenue movies, we are going to analyse these variable deeper"
   ]
  },
  {
   "cell_type": "code",
   "execution_count": 75,
   "metadata": {},
   "outputs": [
    {
     "data": {
      "text/plain": [
       "0.5469591846171397"
      ]
     },
     "execution_count": 75,
     "metadata": {},
     "output_type": "execute_result"
    }
   ],
   "source": [
    "correlation(df.revenue, df.popularity)"
   ]
  },
  {
   "cell_type": "markdown",
   "metadata": {},
   "source": [
    "It looks like we also have a positive correlation between these 2 variables, although not as strong as in the case of the budget, it is still significant. <br>\n",
    "We can view how the data looks like to get a better idea"
   ]
  },
  {
   "cell_type": "code",
   "execution_count": 76,
   "metadata": {
    "scrolled": true
   },
   "outputs": [
    {
     "data": {
      "image/png": "[encoded data removed]",
      "text/plain": [
       "<matplotlib.figure.Figure at 0x1a0b24bf28>"
      ]
     },
     "metadata": {},
     "output_type": "display_data"
    }
   ],
   "source": [
    "high_revenue.plot(title ='High Revenue Movies - Revenue/Popularity', color='green', x = \"revenue\", y = \"popularity\", kind=\"scatter\");"
   ]
  },
  {
   "cell_type": "code",
   "execution_count": 77,
   "metadata": {
    "scrolled": true
   },
   "outputs": [
    {
     "data": {
      "image/png": "[encoded data removed]",
      "text/plain": [
       "<matplotlib.figure.Figure at 0x1a13aa0128>"
      ]
     },
     "metadata": {},
     "output_type": "display_data"
    }
   ],
   "source": [
    "low_revenue.plot(title ='Low Revenue Movies - Revenue/Popularity', color='red', x = \"revenue\", y = \"popularity\", kind=\"scatter\");"
   ]
  },
  {
   "cell_type": "markdown",
   "metadata": {},
   "source": [
    "Comparing these 2 graphs we can see that the popularity in tmdb database for low revenue movies is usually below a value of 2. Being way more distributed and with higher values in the case of high revenue movies"
   ]
  },
  {
   "cell_type": "code",
   "execution_count": 78,
   "metadata": {
    "scrolled": true
   },
   "outputs": [
    {
     "data": {
      "image/png": "[encoded data removed]",
      "text/plain": [
       "<matplotlib.figure.Figure at 0x1a13ad6588>"
      ]
     },
     "metadata": {},
     "output_type": "display_data"
    }
   ],
   "source": [
    "df_by_genre.plot(title ='All Movies - Revenue/Popularity', color='blue', x = \"revenue\", y = \"popularity\", kind=\"scatter\");"
   ]
  },
  {
   "cell_type": "markdown",
   "metadata": {},
   "source": [
    "Viewing the graph of all movies together, it doesn't look like there is a strong correlation, but it might be because the high revenue movies have a very distributed popularity in tmdb. <br>\n",
    "We can clearly see that low revenue movies usually have a low popularity in tmdb databse, but we can not make any conclusion for high revenue movies"
   ]
  },
  {
   "cell_type": "markdown",
   "metadata": {},
   "source": [
    "#### Vote Average\n",
    "\n",
    "We are going to repeat the process and analyse the revenue vs the average vote for a movie in tmdb database"
   ]
  },
  {
   "cell_type": "code",
   "execution_count": 79,
   "metadata": {},
   "outputs": [
    {
     "data": {
      "text/plain": [
       "6.027325837742507"
      ]
     },
     "execution_count": 79,
     "metadata": {},
     "output_type": "execute_result"
    }
   ],
   "source": [
    "low_revenue.vote_average.mean()"
   ]
  },
  {
   "cell_type": "code",
   "execution_count": 80,
   "metadata": {},
   "outputs": [
    {
     "data": {
      "text/plain": [
       "6.406681514476611"
      ]
     },
     "execution_count": 80,
     "metadata": {},
     "output_type": "execute_result"
    }
   ],
   "source": [
    "high_revenue.vote_average.mean()"
   ]
  },
  {
   "cell_type": "markdown",
   "metadata": {},
   "source": [
    "The mean value seems to be similar for both low and high revenue movies"
   ]
  },
  {
   "cell_type": "code",
   "execution_count": 81,
   "metadata": {},
   "outputs": [
    {
     "data": {
      "text/plain": [
       "0.2668444917982494"
      ]
     },
     "execution_count": 81,
     "metadata": {},
     "output_type": "execute_result"
    }
   ],
   "source": [
    "correlation(df.revenue, df.vote_average)"
   ]
  },
  {
   "cell_type": "markdown",
   "metadata": {},
   "source": [
    "Correlation seems to be positive but not very significant. <br>\n",
    "Lets see how the data looks like for each group of movies"
   ]
  },
  {
   "cell_type": "code",
   "execution_count": 82,
   "metadata": {
    "scrolled": true
   },
   "outputs": [
    {
     "data": {
      "image/png": "[encoded data removed]",
      "text/plain": [
       "<matplotlib.figure.Figure at 0x1a09cdebe0>"
      ]
     },
     "metadata": {},
     "output_type": "display_data"
    }
   ],
   "source": [
    "high_revenue.plot(title = 'High Revenue Movies - Revenue/Vote Average', color = 'green', x = \"revenue\", y = \"vote_average\", kind=\"scatter\");"
   ]
  },
  {
   "cell_type": "code",
   "execution_count": 83,
   "metadata": {},
   "outputs": [
    {
     "data": {
      "image/png": "[encoded data removed]",
      "text/plain": [
       "<matplotlib.figure.Figure at 0x1a0b07ad68>"
      ]
     },
     "metadata": {},
     "output_type": "display_data"
    }
   ],
   "source": [
    "low_revenue.plot(title = 'Low Revenue Movies - Revenue/Vote Average', color = 'red',x = \"revenue\", y = \"vote_average\", kind=\"scatter\");"
   ]
  },
  {
   "cell_type": "code",
   "execution_count": 84,
   "metadata": {
    "scrolled": true
   },
   "outputs": [
    {
     "data": {
      "image/png": "[encoded data removed]",
      "text/plain": [
       "<matplotlib.figure.Figure at 0x1a0a9ff550>"
      ]
     },
     "metadata": {},
     "output_type": "display_data"
    }
   ],
   "source": [
    "df_by_genre.plot(title = 'AllMovies - Revenue/Vote Average', color = 'blue', x = \"revenue\", y = \"vote_average\", kind=\"scatter\");"
   ]
  },
  {
   "cell_type": "markdown",
   "metadata": {},
   "source": [
    "Distribution of the data is interesting, we can conclude that movies producing very high revenues usually have a high vote average in tmdb database"
   ]
  },
  {
   "cell_type": "markdown",
   "metadata": {},
   "source": [
    "#### Genre\n",
    "\n",
    "Now we are going to analse the genres distribution between movies with high vs low revenue. The goal would be to try to identify if any genre in particular has more chances of resulting in a high revenue or low revenue movie"
   ]
  },
  {
   "cell_type": "markdown",
   "metadata": {},
   "source": [
    "First we are going to get the unique list of genres in each group of movies and see if we can identifty any of them that is not showing up in the other"
   ]
  },
  {
   "cell_type": "code",
   "execution_count": 85,
   "metadata": {},
   "outputs": [
    {
     "data": {
      "text/plain": [
       "array(['Drama', 'Science Fiction', 'Action', 'Comedy', 'Thriller',\n",
       "       'History', 'Mystery', 'Crime', 'Romance', 'Fantasy', 'Adventure',\n",
       "       'Horror', 'War', 'Family', 'Animation', 'Music', 'Western',\n",
       "       'Documentary', 'Foreign', 'TV Movie'], dtype=object)"
      ]
     },
     "execution_count": 85,
     "metadata": {},
     "output_type": "execute_result"
    }
   ],
   "source": [
    "low_revenue.genres.unique()"
   ]
  },
  {
   "cell_type": "code",
   "execution_count": 86,
   "metadata": {},
   "outputs": [
    {
     "data": {
      "text/plain": [
       "array(['Action', 'Adventure', 'Science Fiction', 'Thriller', 'Fantasy',\n",
       "       'Crime', 'Western', 'Drama', 'Family', 'Animation', 'Comedy',\n",
       "       'Mystery', 'Romance', 'War', 'Music', 'Horror', 'History',\n",
       "       'Documentary'], dtype=object)"
      ]
     },
     "execution_count": 86,
     "metadata": {},
     "output_type": "execute_result"
    }
   ],
   "source": [
    "high_revenue.genres.unique()"
   ]
  },
  {
   "cell_type": "markdown",
   "metadata": {},
   "source": [
    "Some genres seem to be specific to low revenue movies, lets get a clean list of them"
   ]
  },
  {
   "cell_type": "code",
   "execution_count": 87,
   "metadata": {},
   "outputs": [
    {
     "data": {
      "text/plain": [
       "['Foreign', 'TV Movie']"
      ]
     },
     "execution_count": 87,
     "metadata": {},
     "output_type": "execute_result"
    }
   ],
   "source": [
    "list(set(low_revenue.genres.unique()) - set(high_revenue.genres.unique()))"
   ]
  },
  {
   "cell_type": "markdown",
   "metadata": {},
   "source": [
    "First important peace of information: we don't have any movie with the genre of 'Foreign' or 'TV Movie' making high revenue. "
   ]
  },
  {
   "cell_type": "markdown",
   "metadata": {},
   "source": [
    "Now lets see how many times we have each genre showing up in each group"
   ]
  },
  {
   "cell_type": "code",
   "execution_count": 88,
   "metadata": {},
   "outputs": [
    {
     "data": {
      "text/plain": [
       "Action             470\n",
       "Drama              442\n",
       "Comedy             437\n",
       "Adventure          404\n",
       "Thriller           360\n",
       "Family             224\n",
       "Science Fiction    213\n",
       "Fantasy            197\n",
       "Romance            197\n",
       "Crime              185\n",
       "Animation          127\n",
       "Mystery             99\n",
       "Horror              79\n",
       "War                 54\n",
       "Music               44\n",
       "History             40\n",
       "Western             19\n",
       "Documentary          1\n",
       "Name: genres, dtype: int64"
      ]
     },
     "execution_count": 88,
     "metadata": {},
     "output_type": "execute_result"
    }
   ],
   "source": [
    "high_revenue.genres.value_counts()"
   ]
  },
  {
   "cell_type": "code",
   "execution_count": 89,
   "metadata": {},
   "outputs": [
    {
     "data": {
      "text/plain": [
       "Drama              1832\n",
       "Comedy             1334\n",
       "Thriller           1063\n",
       "Action              790\n",
       "Romance             680\n",
       "Crime               588\n",
       "Horror              482\n",
       "Adventure           439\n",
       "Science Fiction     373\n",
       "Mystery             311\n",
       "Family              289\n",
       "Fantasy             264\n",
       "Music               142\n",
       "History             113\n",
       "Animation           110\n",
       "Documentary         101\n",
       "War                  83\n",
       "Western              46\n",
       "Foreign              31\n",
       "TV Movie              1\n",
       "Name: genres, dtype: int64"
      ]
     },
     "execution_count": 89,
     "metadata": {},
     "output_type": "execute_result"
    }
   ],
   "source": [
    "low_revenue.genres.value_counts()"
   ]
  },
  {
   "cell_type": "code",
   "execution_count": 116,
   "metadata": {},
   "outputs": [
    {
     "data": {
      "image/png": "[encoded data removed]",
      "text/plain": [
       "<matplotlib.figure.Figure at 0x1a0b3c5908>"
      ]
     },
     "metadata": {},
     "output_type": "display_data"
    }
   ],
   "source": [
    "high_revenue.genres.value_counts().plot(kind='bar', title='Movie Counts by Genre. Low revenus vs High Revenue Movies')\n",
    "low_revenue.genres.value_counts().plot(kind='bar',alpha=0.5);"
   ]
  },
  {
   "cell_type": "markdown",
   "metadata": {},
   "source": [
    "The numbers are way higher in the low revenue movies, but that is because we have many more movies under this category. Lets compare the proportions"
   ]
  },
  {
   "cell_type": "code",
   "execution_count": 91,
   "metadata": {},
   "outputs": [
    {
     "data": {
      "text/plain": [
       "Action             0.373016\n",
       "Adventure          0.479241\n",
       "Animation          0.535865\n",
       "Comedy             0.246753\n",
       "Crime              0.239327\n",
       "Documentary        0.009804\n",
       "Drama              0.194371\n",
       "Family             0.436647\n",
       "Fantasy            0.427332\n",
       "Foreign                 NaN\n",
       "History            0.261438\n",
       "Horror             0.140820\n",
       "Music              0.236559\n",
       "Mystery            0.241463\n",
       "Romance            0.224629\n",
       "Science Fiction    0.363481\n",
       "TV Movie                NaN\n",
       "Thriller           0.252987\n",
       "War                0.394161\n",
       "Western            0.292308\n",
       "Name: genres, dtype: float64"
      ]
     },
     "execution_count": 91,
     "metadata": {},
     "output_type": "execute_result"
    }
   ],
   "source": [
    "high_revenue.genres.value_counts()/df_by_genre.genres.value_counts()"
   ]
  },
  {
   "cell_type": "code",
   "execution_count": 92,
   "metadata": {},
   "outputs": [
    {
     "data": {
      "text/plain": [
       "Action             0.626984\n",
       "Adventure          0.520759\n",
       "Animation          0.464135\n",
       "Comedy             0.753247\n",
       "Crime              0.760673\n",
       "Documentary        0.990196\n",
       "Drama              0.805629\n",
       "Family             0.563353\n",
       "Fantasy            0.572668\n",
       "Foreign            1.000000\n",
       "History            0.738562\n",
       "Horror             0.859180\n",
       "Music              0.763441\n",
       "Mystery            0.758537\n",
       "Romance            0.775371\n",
       "Science Fiction    0.636519\n",
       "TV Movie           1.000000\n",
       "Thriller           0.747013\n",
       "War                0.605839\n",
       "Western            0.707692\n",
       "Name: genres, dtype: float64"
      ]
     },
     "execution_count": 92,
     "metadata": {},
     "output_type": "execute_result"
    }
   ],
   "source": [
    "low_revenue.genres.value_counts()/df_by_genre.genres.value_counts()"
   ]
  },
  {
   "cell_type": "code",
   "execution_count": 117,
   "metadata": {},
   "outputs": [
    {
     "data": {
      "image/png": "[encoded data removed]",
      "text/plain": [
       "<matplotlib.figure.Figure at 0x1a0b01a748>"
      ]
     },
     "metadata": {},
     "output_type": "display_data"
    }
   ],
   "source": [
    "(high_revenue.genres.value_counts()/df_by_genre.genres.value_counts()).plot(kind='bar', title='Movie counts Proportion by Genre. High Revenue Movies');\n"
   ]
  },
  {
   "cell_type": "code",
   "execution_count": 118,
   "metadata": {
    "scrolled": false
   },
   "outputs": [
    {
     "data": {
      "image/png": "[encoded data removed]",
      "text/plain": [
       "<matplotlib.figure.Figure at 0x1a0b4c7940>"
      ]
     },
     "metadata": {},
     "output_type": "display_data"
    }
   ],
   "source": [
    "(high_revenue.genres.value_counts()/df_by_genre.genres.value_counts()).plot(kind='bar', title='Movie counts proportion Proportion by Genre. Low revenus vs High Revenue Movies')\n",
    "(low_revenue.genres.value_counts()/df_by_genre.genres.value_counts()).plot(kind='bar', alpha=0.5);"
   ]
  },
  {
   "cell_type": "markdown",
   "metadata": {},
   "source": [
    "In these 2 graphs we can easily visualize the proportion of movies in each group by genre. <br>\n",
    "It looks like for some genres is very hard to make a movie that results in producing high revenues. <br>\n",
    "<br>\n",
    "Lets get a final list of the genres we would not recommend if we want to generate a high revenue. We are going to list only the genres for which 75% of the movies of this genre resulted in low revenue. \n"
   ]
  },
  {
   "cell_type": "code",
   "execution_count": 95,
   "metadata": {},
   "outputs": [
    {
     "data": {
      "text/plain": [
       "array(['Action', 'Adventure', 'Animation', 'Comedy', 'Crime',\n",
       "       'Documentary', 'Drama', 'Family', 'Fantasy', 'Foreign', 'History',\n",
       "       'Horror', 'Music', 'Mystery', 'Romance', 'Science Fiction',\n",
       "       'TV Movie', 'Thriller', 'War', 'Western'],\n",
       "      dtype='<U15')"
      ]
     },
     "execution_count": 95,
     "metadata": {},
     "output_type": "execute_result"
    }
   ],
   "source": [
    "# List of unique genres for low revenue movies as a numpy array\n",
    "lr_unique_genres = np.array(sorted(low_revenue.genres.unique()))\n",
    "lr_unique_genres"
   ]
  },
  {
   "cell_type": "code",
   "execution_count": 96,
   "metadata": {
    "scrolled": true
   },
   "outputs": [
    {
     "data": {
      "text/plain": [
       "Action             0.626984\n",
       "Adventure          0.520759\n",
       "Animation          0.464135\n",
       "Comedy             0.753247\n",
       "Crime              0.760673\n",
       "Documentary        0.990196\n",
       "Drama              0.805629\n",
       "Family             0.563353\n",
       "Fantasy            0.572668\n",
       "Foreign            1.000000\n",
       "History            0.738562\n",
       "Horror             0.859180\n",
       "Music              0.763441\n",
       "Mystery            0.758537\n",
       "Romance            0.775371\n",
       "Science Fiction    0.636519\n",
       "TV Movie           1.000000\n",
       "Thriller           0.747013\n",
       "War                0.605839\n",
       "Western            0.707692\n",
       "Name: genres, dtype: float64"
      ]
     },
     "execution_count": 96,
     "metadata": {},
     "output_type": "execute_result"
    }
   ],
   "source": [
    "# Proportion for each genre\n",
    "lr_unique_genres_prop = (low_revenue.genres.value_counts()/df_by_genre.genres.value_counts()).dropna()\n",
    "lr_unique_genres_prop"
   ]
  },
  {
   "cell_type": "code",
   "execution_count": 97,
   "metadata": {},
   "outputs": [
    {
     "data": {
      "text/plain": [
       "count    20.000000\n",
       "mean      0.732490\n",
       "std       0.152846\n",
       "min       0.464135\n",
       "25%       0.621698\n",
       "50%       0.750130\n",
       "75%       0.782935\n",
       "max       1.000000\n",
       "Name: genres, dtype: float64"
      ]
     },
     "execution_count": 97,
     "metadata": {},
     "output_type": "execute_result"
    }
   ],
   "source": [
    "lr_unique_genres_prop.describe()"
   ]
  },
  {
   "cell_type": "code",
   "execution_count": 98,
   "metadata": {
    "scrolled": true
   },
   "outputs": [
    {
     "data": {
      "text/plain": [
       "array(['Documentary', 'Drama', 'Foreign', 'Horror', 'TV Movie'],\n",
       "      dtype='<U15')"
      ]
     },
     "execution_count": 98,
     "metadata": {},
     "output_type": "execute_result"
    }
   ],
   "source": [
    "lr_unique_genres[(lr_unique_genres_prop>0.782935).values]"
   ]
  },
  {
   "cell_type": "markdown",
   "metadata": {},
   "source": [
    "These are the genres that are most likely to result in low revenue movies:\n",
    "\n",
    "- Documentary\n",
    "- Drama\n",
    "- Foreign\n",
    "- Horror\n",
    "- TV Movie\n"
   ]
  },
  {
   "cell_type": "markdown",
   "metadata": {},
   "source": [
    "Now lets do the same for the genres that are most likely to produce high revenus"
   ]
  },
  {
   "cell_type": "code",
   "execution_count": 99,
   "metadata": {},
   "outputs": [
    {
     "data": {
      "text/plain": [
       "array(['Action', 'Adventure', 'Animation', 'Comedy', 'Crime',\n",
       "       'Documentary', 'Drama', 'Family', 'Fantasy', 'History', 'Horror',\n",
       "       'Music', 'Mystery', 'Romance', 'Science Fiction', 'Thriller', 'War',\n",
       "       'Western'],\n",
       "      dtype='<U15')"
      ]
     },
     "execution_count": 99,
     "metadata": {},
     "output_type": "execute_result"
    }
   ],
   "source": [
    "hr_unique_genres = np.array(sorted(high_revenue.genres.unique()))\n",
    "hr_unique_genres"
   ]
  },
  {
   "cell_type": "code",
   "execution_count": 100,
   "metadata": {},
   "outputs": [
    {
     "data": {
      "text/plain": [
       "Action             0.373016\n",
       "Adventure          0.479241\n",
       "Animation          0.535865\n",
       "Comedy             0.246753\n",
       "Crime              0.239327\n",
       "Documentary        0.009804\n",
       "Drama              0.194371\n",
       "Family             0.436647\n",
       "Fantasy            0.427332\n",
       "History            0.261438\n",
       "Horror             0.140820\n",
       "Music              0.236559\n",
       "Mystery            0.241463\n",
       "Romance            0.224629\n",
       "Science Fiction    0.363481\n",
       "Thriller           0.252987\n",
       "War                0.394161\n",
       "Western            0.292308\n",
       "Name: genres, dtype: float64"
      ]
     },
     "execution_count": 100,
     "metadata": {},
     "output_type": "execute_result"
    }
   ],
   "source": [
    "hr_unique_genres_prop = (high_revenue.genres.value_counts()/df_by_genre.genres.value_counts()).dropna()\n",
    "hr_unique_genres_prop"
   ]
  },
  {
   "cell_type": "code",
   "execution_count": 101,
   "metadata": {},
   "outputs": [
    {
     "data": {
      "text/plain": [
       "count    18.000000\n",
       "mean      0.297233\n",
       "std       0.129444\n",
       "min       0.009804\n",
       "25%       0.237251\n",
       "50%       0.257212\n",
       "75%       0.388874\n",
       "max       0.535865\n",
       "Name: genres, dtype: float64"
      ]
     },
     "execution_count": 101,
     "metadata": {},
     "output_type": "execute_result"
    }
   ],
   "source": [
    "hr_unique_genres_prop.describe()"
   ]
  },
  {
   "cell_type": "code",
   "execution_count": 102,
   "metadata": {},
   "outputs": [
    {
     "data": {
      "text/plain": [
       "array(['Adventure', 'Animation', 'Family', 'Fantasy', 'War'],\n",
       "      dtype='<U15')"
      ]
     },
     "execution_count": 102,
     "metadata": {},
     "output_type": "execute_result"
    }
   ],
   "source": [
    "hr_unique_genres[(hr_unique_genres_prop>0.388874).values]"
   ]
  },
  {
   "cell_type": "markdown",
   "metadata": {},
   "source": [
    "These are the genres that are most likely to result in high revenue movies:\n",
    "\n",
    "- Adventure\n",
    "- Animation\n",
    "- Family\n",
    "- Fantasy\n",
    "- War"
   ]
  },
  {
   "cell_type": "markdown",
   "metadata": {},
   "source": [
    "<a id='conclusions'></a>\n",
    "## Conclusions\n",
    "\n",
    "We have analysed the dataset for answering very valuable questions related to the movie industry. From the results of this analysis we came up with the following conclusions:\n",
    "\n",
    "#### Most popular genre by year:\n",
    "\n",
    "We have listed for each year from 1960 to 2015 which genres were the most popular. <br><br>\n",
    "We have analysed how the popularity evolved for the most popular genre in 1960 and for the most popular genre in 2015<br><br>\n",
    "We have identified that \"Adventure\" is in overall the genre which has been the most popular most times during this time frame. With a top 3 of:\n",
    " - Adventure\n",
    " - Animation\n",
    " - Fantasy\n",
    " \n",
    "<br>\n",
    "#### Proportion of movies making money vs loosing\n",
    "\n",
    "We have analysed from the dataset the proportion of movies with a higher revenue that its budget. \n",
    " - 27.9% of movies have higher budgets than revenue\n",
    " - 72% of movies have higher revenue than budget\n",
    " - 0.1 % of movies with equal budget than revenue\n",
    " \n",
    "<br>\n",
    "#### Properties of movies with high revenue\n",
    "\n",
    "We have analysed the difference between movies making a higher revenue than the mean vs those with a lower revenue than the mean. <br>\n",
    "\n",
    "- We have identified that usually movies with higher budgets have higher revenues. \n",
    "- We have identified that usually movies with a low popularity make low revenue. \n",
    "- We have identified that usually movies with a high revenue have a high vote_average value in tmdb database\n",
    "- We have identified if any genre in particular is most likley to produce high revenue, concluding that genres associated with high revenue movies are: Adventure, Animation, Family, Fantasy and War. And genres associated with low revenue movies are: Docuemtary, Drama, Foreign, Horror and Tv Movie\n",
    " \n",
    " "
   ]
  },
  {
   "cell_type": "code",
   "execution_count": 103,
   "metadata": {},
   "outputs": [
    {
     "data": {
      "text/plain": [
       "0"
      ]
     },
     "execution_count": 103,
     "metadata": {},
     "output_type": "execute_result"
    }
   ],
   "source": [
    "from subprocess import call\n",
    "call(['python', '-m', 'nbconvert', 'Investigate_a_Dataset.ipynb'])"
   ]
  }
 ],
 "metadata": {
  "kernelspec": {
   "display_name": "Python 3",
   "language": "python",
   "name": "python3"
  },
  "language_info": {
   "codemirror_mode": {
    "name": "ipython",
    "version": 3
   },
   "file_extension": ".py",
   "mimetype": "text/x-python",
   "name": "python",
   "nbconvert_exporter": "python",
   "pygments_lexer": "ipython3",
   "version": "3.6.3"
  }
 },
 "nbformat": 4,
 "nbformat_minor": 2
}
